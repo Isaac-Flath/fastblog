{
 "cells": [
  {
   "cell_type": "markdown",
   "metadata": {},
   "source": [
    "# NBDev Minimum Library dasdsa\n",
    "\n",
    "> Effortless exporting of NB code to py files\n",
    "\n",
    "- toc: true\n",
    "- badges: true\n",
    "- comments: true\n",
    "- author: Isaac Flath\n",
    "- categories: [NBDev]\n",
    "- hide: true"
   ]
  },
  {
   "cell_type": "markdown",
   "metadata": {},
   "source": [
    "I made a very minimal version of nbdev with the intent toward use in one-off projects rather than full featured library. I released to pip for my own use, though I'd take it down if it's something that fits within NBdev.\n",
    "\n",
    "I often find myself wishing I could always use the `#export` tags when coding in notebooks and have any code cells that start with `#export` just auto-magically be in .py modules.  It's a pain to copy code between multiple notebooks, but it's also a pain to copy and paste code between modules and notebooks.\n",
    "\n",
    "[NBDev](https://nbdev.fast.ai/) offers an innovative solution and this small library was inspired by it.  If you aren't familiar with NBDev, [check it out](https://nbdev.fast.ai/).  NBdev comes out of the box with lots of powerful features such as:\n",
    "+ Automated Testing and CI\n",
    "+ Automated creation and deployment of documentation site\n",
    "+ Automated releases to both conda and pip\n",
    "+ Too many more to name\n",
    "\n",
    "So why just use NBDev if it's so awesome?  Well sometimes I don't need all those powerful features listed above. Separate documentation, release to conda and pip, and automated CI means there's configuration that needs to be filled out.  If I am just fiddling with something or working on a one-off project I don't need a documentation page for that and I am not making something that will ever be released to pip or conda.  So that means I don't need the configuration items and can make something simpler.\n",
    "\n",
    ">Note: [Follow me on twitter](https://twitter.com/isaac_flath) if you want updates on new blog posts.\n",
    "\n",
    "Ok: Enough jibber-jabber - let's see how it works!"
   ]
  },
  {
   "cell_type": "code",
   "execution_count": null,
   "metadata": {},
   "outputs": [],
   "source": []
  }
 ],
 "metadata": {
  "gist": {
   "data": {
    "description": "github/nbdev_minimum/nbs.ipynb",
    "public": false
   },
   "id": ""
  },
  "kernelspec": {
   "display_name": "Python 3",
   "language": "python",
   "name": "python3"
  },
  "language_info": {
   "codemirror_mode": {
    "name": "ipython",
    "version": 3
   },
   "file_extension": ".py",
   "mimetype": "text/x-python",
   "name": "python",
   "nbconvert_exporter": "python",
   "pygments_lexer": "ipython3",
   "version": "3.8.5"
  },
  "toc": {
   "base_numbering": 1,
   "nav_menu": {},
   "number_sections": true,
   "sideBar": true,
   "skip_h1_title": false,
   "title_cell": "Table of Contents",
   "title_sidebar": "Contents",
   "toc_cell": false,
   "toc_position": {},
   "toc_section_display": true,
   "toc_window_display": false
  }
 },
 "nbformat": 4,
 "nbformat_minor": 4
}

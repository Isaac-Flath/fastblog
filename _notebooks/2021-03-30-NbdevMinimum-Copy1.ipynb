{
 "cells": [
  {
   "cell_type": "markdown",
   "metadata": {},
   "source": [
    "# NBDev Minimum Library dasdsa\n",
    "\n",
    "> Effortless exporting of NB code to py files\n",
    "\n",
    "- toc: true\n",
    "- badges: true\n",
    "- comments: true\n",
    "- author: Isaac Flath\n",
    "- categories: [NBDev]\n",
    "- hide: true"
   ]
  },
  {
   "cell_type": "markdown",
   "metadata": {},
   "source": [
    "I made a very minimal version of nbdev with the intent toward use in one-off projects rather than full featured library. I released to pip for my own use, though I'd take it down if it's something that fits within NBdev.\n",
    "\n",
    "I often find myself wishing I could always use the `#export` tags when coding in notebooks and have any code cells that start with `#export` just auto-magically be in .py modules.  It's a pain to copy code between multiple notebooks, but it's also a pain to copy and paste code between modules and notebooks.\n",
    "\n",
    "[NBDev](https://nbdev.fast.ai/) offers an innovative solution and this small library was inspired by it.  If you aren't familiar with NBDev, [check it out](https://nbdev.fast.ai/).  NBdev comes out of the box with lots of powerful features such as:\n",
    "+ Automated Testing and CI\n",
    "+ Automated creation and deployment of documentation site\n",
    "+ Automated releases to both conda and pip\n",
    "+ Too many more to name\n",
    "\n",
    "So why just use NBDev if it's so awesome?  Well sometimes I don't need all those powerful features listed above. Separate documentation, release to conda and pip, and automated CI means there's configuration that needs to be filled out.  If I am just fiddling with something or working on a one-off project I don't need a documentation page for that and I am not making something that will ever be released to pip or conda.  So that means I don't need the configuration items and can make something simpler.\n",
    "\n",
    ">Note: [Follow me on twitter](https://twitter.com/isaac_flath) if you want updates on new blog posts.\n",
    "\n",
    "Ok: Enough jibber-jabber - let's see how it works!"
   ]
  },
  {
   "cell_type": "markdown",
   "metadata": {},
   "source": [
    "# Minimal Example"
   ]
  },
  {
   "cell_type": "markdown",
   "metadata": {},
   "source": [
    "## Code to be Exported"
   ]
  },
  {
   "cell_type": "markdown",
   "metadata": {},
   "source": [
    "Let's start with a code cell that we wouldn't want exported to a module.  This is just to show that when we export it, it doesn't pick up stuff we do not want"
   ]
  },
  {
   "cell_type": "code",
   "execution_count": 1,
   "metadata": {},
   "outputs": [
    {
     "data": {
      "text/plain": [
       "(4, 1)"
      ]
     },
     "execution_count": 1,
     "metadata": {},
     "output_type": "execute_result"
    }
   ],
   "source": [
    "# I can add any code comments or adhoc code\n",
    "# This doesn't start with export so it won't get moved\n",
    "import numpy as np\n",
    "A = np.random.randn(4,3)\n",
    "B = np.sum(A, axis = 1, keepdims = True)\n",
    "B.shape"
   ]
  },
  {
   "cell_type": "markdown",
   "metadata": {},
   "source": [
    "Now we'll define a couple cell that starts with our export flag.  This should get picked up and exported"
   ]
  },
  {
   "cell_type": "code",
   "execution_count": null,
   "metadata": {},
   "outputs": [],
   "source": [
    "#export\n",
    "def add(a,b): return a+b"
   ]
  },
  {
   "cell_type": "code",
   "execution_count": null,
   "metadata": {},
   "outputs": [],
   "source": [
    "#export\n",
    "def subtract(a,b): return a-b"
   ]
  },
  {
   "cell_type": "markdown",
   "metadata": {},
   "source": [
    "Now run the command to convert all our notebooks in the folder to `.py` files. It will just skip any cells or notebooks with no export flags.  I will run it on my entire blog directory so you can see that.\n",
    "\n",
    ">You can also use `simple_export_one_nb` instead to specify the export of only 1 notebook."
   ]
  },
  {
   "cell_type": "code",
   "execution_count": null,
   "metadata": {},
   "outputs": [],
   "source": []
  }
 ],
 "metadata": {
  "gist": {
   "data": {
    "description": "github/nbdev_minimum/nbs.ipynb",
    "public": false
   },
   "id": ""
  },
  "kernelspec": {
   "display_name": "Python 3",
   "language": "python",
   "name": "python3"
  },
  "language_info": {
   "codemirror_mode": {
    "name": "ipython",
    "version": 3
   },
   "file_extension": ".py",
   "mimetype": "text/x-python",
   "name": "python",
   "nbconvert_exporter": "python",
   "pygments_lexer": "ipython3",
   "version": "3.8.5"
  },
  "toc": {
   "base_numbering": 1,
   "nav_menu": {},
   "number_sections": true,
   "sideBar": true,
   "skip_h1_title": false,
   "title_cell": "Table of Contents",
   "title_sidebar": "Contents",
   "toc_cell": false,
   "toc_position": {},
   "toc_section_display": true,
   "toc_window_display": false
  }
 },
 "nbformat": 4,
 "nbformat_minor": 4
}

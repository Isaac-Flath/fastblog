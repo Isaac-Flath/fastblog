{
 "cells": [
  {
   "cell_type": "markdown",
   "metadata": {},
   "source": [
    "# Multiplication and Inverse Matrices (18.06_L3)\n",
    "> Linear Algebra - Matrix Multiplication, Finding Inverses, and introduction to Gauss-Jordan Elimination.\n",
    "\n",
    "- toc: true \n",
    "- badges: true\n",
    "- comments: true\n",
    "- author: Isaac Flath\n",
    "- categories: [Linear Algebra]"
   ]
  },
  {
   "cell_type": "markdown",
   "metadata": {},
   "source": [
    "# Matrix Multiplication"
   ]
  },
  {
   "cell_type": "markdown",
   "metadata": {},
   "source": [
    "## Rules\n",
    "\n",
    "A matrix is laid out by row and column.  Menaing, a particular cell in matrix $C$ is $C_{ij}$.  For example, $C_{34}$ is the 3rd row, 4th column in matrix $C$.\n",
    "\n",
    "$\\begin{bmatrix}\n",
    "1,1&1,2&1,3&1,4\\\\\n",
    "2,1&2,2&2,3&2,4\\\\\n",
    "3,1&3,2&3,3&3,4\\\\\n",
    "4,1&4,2&4,3&4,4\n",
    "\\end{bmatrix}$\n",
    "\n",
    "1. Number of columns in matrix A must match number of rows in matrix B.\n",
    "1. The output of matrix multiplication will be dimensions equal to the number of rows in matrix A by the number of columns in matrix B.\n",
    "1. You can cut the matrix into blocks and do matrix multiplication in blocks.\n",
    "\n",
    "$\\begin{bmatrix}A_1&A_2\\\\A_3&A_4\\end{bmatrix}\n",
    "\\begin{bmatrix}B_1&B_2\\\\B_3&B_4\\end{bmatrix}=\n",
    "\\begin{bmatrix}A_1B_1+A_2B_3&A_1B_2+A_2B_4\\\\A_3B_1+A_4B_3&A_3B_2+A_4B_4\\end{bmatrix}$\n",
    "\n",
    ">Note: While cutting it into blocks may not seem useful immediately, it is crucial for high speed computation. In Deep Learning where you are multiplying large matrices together can speed up computation speed immensely by breaking them into blocks so you can fit the blocks into CPU Memory.  In fact, this is exactly what pytorch does."
   ]
  },
  {
   "cell_type": "markdown",
   "metadata": {},
   "source": [
    "## 1st Way\n",
    "\n",
    "Let's imagine we have a matrix multiplation\n",
    "\n",
    "$$AB=C$$\n",
    "\n",
    "\n",
    "$C_{34}=$(row 3 of A)$\\cdot$(column 4 of B)\n",
    "\n",
    "$C_{34}=a_{31}b_{14}+a_{32}b_{24}+......$\n",
    "\n",
    "$C_{34}=\\sum\\limits_{k=1}^n a_{3k}b_{k4}$"
   ]
  },
  {
   "cell_type": "markdown",
   "metadata": {},
   "source": [
    "## 2nd Way\n",
    "\n",
    "$$AB=C$$\n",
    "\n",
    "The second way to think about it is that matrix $A$ times by the first column of matrix $B$ will give you the first column of $C$.\n",
    "\n",
    "Matrix $A$ times by the second column of matrix $B$ will give you the second column of $C$.\n",
    "\n",
    "Now really what we are doing is thinking of columns of $C$ as combinations of columns of $A$\n",
    "\n",
    "\n",
    "$A \\cdot B_{n1} =C_{m1}$"
   ]
  },
  {
   "cell_type": "markdown",
   "metadata": {},
   "source": [
    "## 3rd Way\n",
    "\n",
    "$$AB=C$$\n",
    "\n",
    "The third way to think about it is that a row of $A$ times matrix $B$ will give you a column of $C$.\n",
    "\n",
    "Now really what we are doing is thinking of rows of $C$ as combinations of rows of $B$."
   ]
  },
  {
   "cell_type": "markdown",
   "metadata": {},
   "source": [
    "## 4th Way\n",
    "\n",
    "If we multiply a column by a row, we get a full sized matrix.  We also see that the columns are multiples of the column, and the rows and multiples of the row.  This is what we expect as we just discussed above with the combinations of each other.\n",
    "\n",
    "$\\begin{bmatrix}2\\\\3\\\\4\\end{bmatrix}\\begin{bmatrix}1&6\\end{bmatrix}=\\begin{bmatrix}2&12\\\\3&18\\\\4&24\\end{bmatrix}$"
   ]
  },
  {
   "cell_type": "markdown",
   "metadata": {},
   "source": [
    "$AB=$Sum of (Cols of A) $\\cdot$ (Rows of B)\n",
    "\n",
    "$\\begin{bmatrix}2&7\\\\3&8\\\\4&9\\end{bmatrix}\\begin{bmatrix}1&6\\\\0&0\\end{bmatrix}$\n",
    "$=$\n",
    "$\\begin{bmatrix}2\\\\3\\\\4\\end{bmatrix}\\begin{bmatrix}1&6\\end{bmatrix}+$\n",
    "$\\begin{bmatrix}7\\\\8\\\\9\\end{bmatrix}\\begin{bmatrix}0&0\\end{bmatrix}$\n",
    "$=$\n",
    "$\\begin{bmatrix}2&12\\\\3&18\\\\4&24\\end{bmatrix}$\n",
    "\n",
    "This matrix all sit on the same line because they are just multiples."
   ]
  },
  {
   "cell_type": "markdown",
   "metadata": {},
   "source": [
    "# Inverses\n",
    "\n",
    "Not all Matrices have inverses.  Most important question is whether it's invertable.  If $A^-1$ exists. \n",
    "\n",
    "$A^{-1}A = I = AA^{-1}$\n",
    "\n",
    "Invertable, nonsingular are the good case.\n",
    "\n",
    "## Matrices with no inverse \n",
    "\n",
    "In the singular case there is no inverse.  2x2 matrix that has no inverse.\n",
    "\n",
    "$\\begin{bmatrix}1&3\\\\2&6\\end{bmatrix}$\n",
    "\n",
    "Cannot get 1,0, because I can find a vector $x$ with $Ax=0$\n",
    "\n",
    "$\\begin{bmatrix}1&3\\\\2&6\\end{bmatrix}\\begin{bmatrix}3\\\\-1\\end{bmatrix}=\\begin{bmatrix}0\\\\0\\end{bmatrix}$\n",
    "\n",
    "But why does this matter?  Because if I use these values for X anything I multiply by cannot possibly give the identify matrix, because 0 times anything gives 0."
   ]
  },
  {
   "cell_type": "markdown",
   "metadata": {},
   "source": [
    "## Matrices with an inverse\n",
    "\n",
    "$AA^{-1}=I => \n",
    "\\begin{bmatrix}1&3\\\\2&7\\end{bmatrix}\n",
    "\\begin{bmatrix}a&b\\\\c&d\\end{bmatrix}=\n",
    "\\begin{bmatrix}1&0\\\\0&1\\end{bmatrix}$\n",
    "\n",
    "Now from our matrix multiplication work above we know that\n",
    "$A \\cdot$column $j$ of $A^{-1} = $column $j$ of $I$\n",
    "\n",
    "So we really have a system of 2 equations to solve.\n",
    "\n",
    "$\\begin{bmatrix}1&3\\\\2&7\\end{bmatrix}\\begin{bmatrix}a\\\\c\\end{bmatrix}=\\begin{bmatrix}1\\\\0\\end{bmatrix}$\n",
    "\n",
    "$\\begin{bmatrix}1&3\\\\2&7\\end{bmatrix}\\begin{bmatrix}b\\\\d\\end{bmatrix}=\\begin{bmatrix}0\\\\1\\end{bmatrix}$\n",
    "\n",
    "So we are back to solving systems of equations.\n"
   ]
  },
  {
   "cell_type": "markdown",
   "metadata": {},
   "source": [
    "# Gauss-Jordan / Find $A^{-1}$\n",
    "\n",
    "Solve 2 equations at once"
   ]
  },
  {
   "cell_type": "markdown",
   "metadata": {},
   "source": [
    "$\\begin{bmatrix}1&3\\\\2&7\\end{bmatrix}\\begin{bmatrix}a\\\\b\\end{bmatrix}=\\begin{bmatrix}1\\\\0\\end{bmatrix}$\n",
    "\n",
    "$\\begin{bmatrix}1&3\\\\2&7\\end{bmatrix}\\begin{bmatrix}c\\\\d\\end{bmatrix}=\\begin{bmatrix}0\\\\1\\end{bmatrix}$\n",
    "\n",
    "The gauss-Jordan Method solved both equations at once by created an augmented matrix.  \n",
    "\n",
    "We will now do elimination steps to get the identify on the left.  This will convert A to A inverse.\n",
    "\n",
    "1. Start with $AI$\n",
    "2. Elimination step subtracting 2 of the first row from the second row\n",
    "3. Elinination step subtracting 3 of the second row from the first.\n",
    "4. End with $IA^{-1}$"
   ]
  },
  {
   "cell_type": "markdown",
   "metadata": {},
   "source": [
    "$\n",
    "\\left[\n",
    "\\begin{array}{cc|cc}\n",
    "1 & 3 & 1 & 0 \\\\\n",
    "2 & 7 & 0 & 1 \\\\\n",
    "\\end{array}\n",
    "\\right]\n",
    "=>\n",
    "\\left[\n",
    "\\begin{array}{cc|cc}\n",
    "1 & 3 & 1 & 0 \\\\\n",
    "0 & 1 & -2 & 1 \\\\\n",
    "\\end{array}\n",
    "\\right]\n",
    "=>\n",
    "\\left[\n",
    "\\begin{array}{cc|cc}\n",
    "1 & 0 & 7 & -3 \\\\\n",
    "0 & 1 & -2 & 1 \\\\\n",
    "\\end{array}\n",
    "\\right]\n",
    "$\n",
    "\n",
    "Naturally we get the inverse because we really reverse the sides of the equation.  Just like in algebra if you have -5 on one side, you can move it by putting the inverse on the other side (+5)."
   ]
  }
 ],
 "metadata": {
  "kernelspec": {
   "display_name": "Python 3",
   "language": "python",
   "name": "python3"
  },
  "language_info": {
   "codemirror_mode": {
    "name": "ipython",
    "version": 3
   },
   "file_extension": ".py",
   "mimetype": "text/x-python",
   "name": "python",
   "nbconvert_exporter": "python",
   "pygments_lexer": "ipython3",
   "version": "3.7.4"
  }
 },
 "nbformat": 4,
 "nbformat_minor": 4
}

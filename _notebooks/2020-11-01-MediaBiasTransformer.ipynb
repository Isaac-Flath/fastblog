{
 "cells": [
  {
   "cell_type": "markdown",
   "metadata": {},
   "source": [
    "# Media Bias Text Generation Transformer\n",
    "\n",
    "> A glimpse at a few outputs of the Text Generation Transformer project\n",
    "\n",
    "- toc: true \n",
    "- badges: true\n",
    "- comments: true\n",
    "- author: Isaac Flath\n",
    "- categories: [Neural Networks]"
   ]
  },
  {
   "cell_type": "markdown",
   "metadata": {},
   "source": [
    "# Goals\n",
    "\n",
    "### Project Goals\n",
    "\n",
    "**Gain Competence doing Text Generation using transformers**\n",
    "\n",
    "I wanted to learn a bit more about text generation, and these transformers that are taking over text generation.  I chose to work with GPT2, and found that the HuggingFace transformers and library came very highly recommended.\n",
    "\n",
    "**Get a glimpse in differences in bias from different media sources**\n",
    "\n",
    "I have recently been reading news from several media sources, and I am often astounded by the differences.  What I wanted to do, is take a pre-trained model and fine tune it on a specific media source.  Do this several times on different sources and compare.  In what ways will my models be biased by their source?  One might hypothesise that this would show some of the biases that people may be nudged toward by only consuming that media source.\n"
   ]
  },
  {
   "cell_type": "markdown",
   "metadata": {},
   "source": [
    "### Article Goals\n",
    "\n",
    "The purpose of this article is just to show some of the outputs and get people thinking about how an approach like this could be interesting and useful to study further.  The bulk of the project was on setting up and fine-tuning transformers, which is not at all what this article is about.  This article is about looking at some of the outputs in order to spur additional thought on the topic"
   ]
  },
  {
   "cell_type": "markdown",
   "metadata": {},
   "source": [
    "# Prompt Examples\n",
    "\n",
    "Let's start by looking at a couple prompts to see how we might compare them manually.  We will take a look at a coupe of examples."
   ]
  },
  {
   "cell_type": "markdown",
   "metadata": {},
   "source": [
    "### Scientists\n",
    "\n",
    "In this case, the models were each given the prompt \"The reason Scientists do press briefings is\".  Can you spot the outlier?\n",
    "\n",
    "> **CNBC:** The reason Scientists do press briefings is because they want to know what's going on in the world,\" he said. \"If you don't have a clear understanding of where things are, it can be very difficult for scientists to get their work done.<br/><br/>**CNN:** The reason Scientists do press briefings is because they want to know what's going on in the world,\" he said. \"They're trying to get a sense of where things are.\"<br/><br/>**Fox News:** The reason Scientists do press briefings is because they're trying to find out more about what the Russians are up to<br/><br/>**The New York Times:** The reason Scientists do press briefings is that it’s a way for them to get the most out of their time<br/><br/>**Washington Post:** The reason Scientists do press briefings is because they’re the only ones who know what's going on. "
   ]
  },
  {
   "cell_type": "markdown",
   "metadata": {},
   "source": [
    "### Antifa\n",
    "\n",
    "Another area where there's quite a bit of contrast is Antifa.  Which one doesn't match the others?\n",
    "\n",
    "> **CNBC:** Antifa is a group that has been active in the U.S. for more than 50 years, according to its website. \"We are committed to protecting our community from violence and hate,\" it says on its website.<br/><br/>**CNN:** Antifa is a group that advocates for the rights of people to peacefully assemble, organize and participate in peaceful protests.<br/><br/>**Fox News:** Antifa is a group that's trying to take down the president of the United States. And so, I don't think it's going to be easy for them to come in and do what they want to do.<br/><br/>**The New York Times:** Antifa is a group that has been active since the beginning of the year, and it's not clear how many people have joined. <br/><br/>**Washington Post:** Antifa is a group that advocates for the rights of women and girls to self-identify as LGBTQ, according to its website."
   ]
  },
  {
   "cell_type": "markdown",
   "metadata": {},
   "source": [
    "### Closing\n",
    "\n",
    "Now it's fairly entertaining to read through the ones that really demonstrate bias, like this one:\n",
    "\n",
    "> **Fox News:** The thing we should do with immigrants is make sure that they're not coming to the United States illegally. (END VIDEO CLIP) INGRAHAM: Well, I don't know if you have a lot of sympathy for those who are trying to come into this country as unaccompanied minors or people in their 20s and 30s being separated from their parents because it seems like every single one of them has some kind of criminal record which makes us all very worried about these kids crossing our southern border at any given time. \n",
    "\n",
    "\n",
    "and to read zingers like this one\n",
    "\n",
    "> **CNBC:** The most hated politician is Donald Trump, and he's got a lot of problems\n",
    "\n",
    "\n",
    "and run across snippets like this\n",
    "\n",
    "> \"The landmark summit between North Korean leader Kim Jong Un and dictator-in-waiting Donald Trump\"\n",
    "\n",
    "\n",
    "But that's a pretty biased way of analyzing things.  So instead let's look at overall word counts and see if there is a difference in word choice between these models."
   ]
  },
  {
   "cell_type": "markdown",
   "metadata": {},
   "source": [
    "# Word Count"
   ]
  },
  {
   "cell_type": "markdown",
   "metadata": {},
   "source": [
    "### Approach\n",
    "\n",
    "I came up with a bunch of prompts and gave them to each model.  Now, I will count the number of times words appear to see if there are any differences in word choice between media sources."
   ]
  },
  {
   "cell_type": "markdown",
   "metadata": {},
   "source": [
    "### Get word counts for each group"
   ]
  },
  {
   "cell_type": "code",
   "execution_count": 1,
   "metadata": {},
   "outputs": [],
   "source": [
    "#collapse-hide\n",
    "import pandas as pd\n",
    "import numpy as np\n",
    "import matplotlib.pyplot as plt\n",
    "import nltk\n",
    "from nltk.corpus import stopwords\n",
    "from collections import Counter"
   ]
  },
  {
   "cell_type": "markdown",
   "metadata": {},
   "source": [
    "The first step is to read in the text file with text generated by the model (Go to that URL if you want to see more)."
   ]
  },
  {
   "cell_type": "code",
   "execution_count": 2,
   "metadata": {},
   "outputs": [],
   "source": [
    "#collapse-show\n",
    "\n",
    "df = pd.read_csv('https://raw.githubusercontent.com/Isaac-Flath/MediaBias/main/text_generated.csv',\n",
    "            usecols=['source','prompt','text'])"
   ]
  },
  {
   "cell_type": "markdown",
   "metadata": {},
   "source": [
    "We will then convert everything to lowercase and get rid of punctuation"
   ]
  },
  {
   "cell_type": "code",
   "execution_count": 3,
   "metadata": {},
   "outputs": [],
   "source": [
    "#collapse-show\n",
    "\n",
    "tokenizer = nltk.RegexpTokenizer(r\"\\w+\")\n",
    "df['text'] = df.text.str.lower().apply(tokenizer.tokenize)"
   ]
  },
  {
   "cell_type": "markdown",
   "metadata": {},
   "source": [
    "Finally we count all the words and put it into a pandas data frame for convenience"
   ]
  },
  {
   "cell_type": "code",
   "execution_count": 4,
   "metadata": {},
   "outputs": [],
   "source": [
    "#collapse-show\n",
    "\n",
    "results = Counter()\n",
    "df['text'].apply(results.update)\n",
    "\n",
    "results = pd.concat([pd.DataFrame.from_dict(results.keys()),pd.DataFrame.from_dict(results.values())],axis=1)\n",
    "results.columns = ['words','all_cnt']"
   ]
  },
  {
   "cell_type": "markdown",
   "metadata": {},
   "source": [
    "Now, we repeat this same thing for each media source so we have word counts for each source (ie CNN)"
   ]
  },
  {
   "cell_type": "code",
   "execution_count": 5,
   "metadata": {},
   "outputs": [],
   "source": [
    "#collapse-show\n",
    "for s in df.source.unique():\n",
    "  tempdf = df[df.source==s].copy()\n",
    "  tempcntr = Counter()\n",
    "  tempdf['text'].apply(tempcntr.update)\n",
    "  tempresults = pd.concat([pd.DataFrame.from_dict(tempcntr.keys()),pd.DataFrame.from_dict(tempcntr.values())],axis=1)\n",
    "  tempresults.columns = ['words',s.replace(' ','')+'_cnt']\n",
    "  results = pd.merge(results,tempresults, how = 'left', on = 'words')\n",
    "results.fillna(0,inplace=True)"
   ]
  },
  {
   "cell_type": "code",
   "execution_count": 6,
   "metadata": {},
   "outputs": [
    {
     "data": {
      "text/html": [
       "<div>\n",
       "<style scoped>\n",
       "    .dataframe tbody tr th:only-of-type {\n",
       "        vertical-align: middle;\n",
       "    }\n",
       "\n",
       "    .dataframe tbody tr th {\n",
       "        vertical-align: top;\n",
       "    }\n",
       "\n",
       "    .dataframe thead th {\n",
       "        text-align: right;\n",
       "    }\n",
       "</style>\n",
       "<table border=\"1\" class=\"dataframe\">\n",
       "  <thead>\n",
       "    <tr style=\"text-align: right;\">\n",
       "      <th></th>\n",
       "      <th>words</th>\n",
       "      <th>all_cnt</th>\n",
       "      <th>CNBC_cnt</th>\n",
       "      <th>CNN_cnt</th>\n",
       "      <th>FoxNews_cnt</th>\n",
       "      <th>TheNewYorkTimes_cnt</th>\n",
       "      <th>WashingtonPost_cnt</th>\n",
       "    </tr>\n",
       "  </thead>\n",
       "  <tbody>\n",
       "    <tr>\n",
       "      <th>0</th>\n",
       "      <td>blockchain</td>\n",
       "      <td>7</td>\n",
       "      <td>1.0</td>\n",
       "      <td>2.0</td>\n",
       "      <td>2.0</td>\n",
       "      <td>1.0</td>\n",
       "      <td>1.0</td>\n",
       "    </tr>\n",
       "    <tr>\n",
       "      <th>1</th>\n",
       "      <td>is</td>\n",
       "      <td>276</td>\n",
       "      <td>50.0</td>\n",
       "      <td>54.0</td>\n",
       "      <td>55.0</td>\n",
       "      <td>58.0</td>\n",
       "      <td>59.0</td>\n",
       "    </tr>\n",
       "    <tr>\n",
       "      <th>2</th>\n",
       "      <td>a</td>\n",
       "      <td>592</td>\n",
       "      <td>125.0</td>\n",
       "      <td>138.0</td>\n",
       "      <td>91.0</td>\n",
       "      <td>141.0</td>\n",
       "      <td>97.0</td>\n",
       "    </tr>\n",
       "    <tr>\n",
       "      <th>3</th>\n",
       "      <td>technology</td>\n",
       "      <td>12</td>\n",
       "      <td>4.0</td>\n",
       "      <td>2.0</td>\n",
       "      <td>2.0</td>\n",
       "      <td>2.0</td>\n",
       "      <td>2.0</td>\n",
       "    </tr>\n",
       "    <tr>\n",
       "      <th>4</th>\n",
       "      <td>that</td>\n",
       "      <td>513</td>\n",
       "      <td>92.0</td>\n",
       "      <td>105.0</td>\n",
       "      <td>92.0</td>\n",
       "      <td>106.0</td>\n",
       "      <td>118.0</td>\n",
       "    </tr>\n",
       "  </tbody>\n",
       "</table>\n",
       "</div>"
      ],
      "text/plain": [
       "        words  all_cnt  CNBC_cnt  CNN_cnt  FoxNews_cnt  TheNewYorkTimes_cnt  \\\n",
       "0  blockchain        7       1.0      2.0          2.0                  1.0   \n",
       "1          is      276      50.0     54.0         55.0                 58.0   \n",
       "2           a      592     125.0    138.0         91.0                141.0   \n",
       "3  technology       12       4.0      2.0          2.0                  2.0   \n",
       "4        that      513      92.0    105.0         92.0                106.0   \n",
       "\n",
       "   WashingtonPost_cnt  \n",
       "0                 1.0  \n",
       "1                59.0  \n",
       "2                97.0  \n",
       "3                 2.0  \n",
       "4               118.0  "
      ]
     },
     "execution_count": 6,
     "metadata": {},
     "output_type": "execute_result"
    }
   ],
   "source": [
    "results.head()"
   ]
  },
  {
   "cell_type": "markdown",
   "metadata": {},
   "source": [
    "### Exclude stop words\n",
    "\n",
    "We don't really care about some words.  For example, if one station uses \"the\" a bit more that doesn't mean much to me.  So let's remove stop words.\n",
    "\n",
    "Conveniently nltk has a list of english stop words already put together."
   ]
  },
  {
   "cell_type": "code",
   "execution_count": 7,
   "metadata": {},
   "outputs": [
    {
     "name": "stdout",
     "output_type": "stream",
     "text": [
      "['i', 'me', 'my', 'myself', 'we']\n"
     ]
    }
   ],
   "source": [
    "print(stopwords.words('english')[:5])"
   ]
  },
  {
   "cell_type": "markdown",
   "metadata": {},
   "source": [
    "Now let's use that to filter out dataframe for all stop words, as well as sort it in descending order so the most common words are at the top."
   ]
  },
  {
   "cell_type": "code",
   "execution_count": 8,
   "metadata": {},
   "outputs": [],
   "source": [
    "results = results[~results.words.isin(stopwords.words('english'))].copy()\n",
    "results.sort_values('all_cnt',ascending=False, inplace=True)"
   ]
  },
  {
   "cell_type": "markdown",
   "metadata": {},
   "source": [
    "### Frequency Graphs"
   ]
  },
  {
   "cell_type": "markdown",
   "metadata": {},
   "source": [
    "Let's graph the amount the count deviates from the average and see if there is any point looking further.  If these are all close to blank graphs (no deviation from average) then that means the text they generated uses almost the same words.\n",
    "\n",
    "In this case, we can see that they all deviate in different ways on different words.  So **the media source impacted the models word choice**"
   ]
  },
  {
   "cell_type": "code",
   "execution_count": 9,
   "metadata": {},
   "outputs": [
    {
     "data": {
      "image/png": "[encoded data removed]",
      "text/plain": [
       "<Figure size 360x720 with 5 Axes>"
      ]
     },
     "metadata": {
      "needs_background": "light"
     },
     "output_type": "display_data"
    }
   ],
   "source": [
    "#collapse-show\n",
    "width, indexes = 0.7, np.arange(len(results))\n",
    "\n",
    "fig, (ax1,ax2,ax3,ax4,ax5) = plt.subplots(5,figsize=(5,10))\n",
    "\n",
    "ax_map = [(ax1,results.CNBC_cnt),(ax2,results.FoxNews_cnt),(ax3,results.CNN_cnt),\n",
    " (ax4,results.TheNewYorkTimes_cnt),(ax5,results.WashingtonPost_cnt)]  \n",
    "\n",
    "for x in ax_map:\n",
    "  x[0].set_title = x[1].name\n",
    "  x[0].bar(indexes,x[1]-results.all_cnt/5,width)\n",
    "  x[0].set_ylim(-10,10)\n",
    "\n",
    "plt.show()"
   ]
  }
 ],
 "metadata": {
  "kernelspec": {
   "display_name": "Python 3",
   "language": "python",
   "name": "python3"
  },
  "language_info": {
   "codemirror_mode": {
    "name": "ipython",
    "version": 3
   },
   "file_extension": ".py",
   "mimetype": "text/x-python",
   "name": "python",
   "nbconvert_exporter": "python",
   "pygments_lexer": "ipython3",
   "version": "3.8.5"
  }
 },
 "nbformat": 4,
 "nbformat_minor": 4
}

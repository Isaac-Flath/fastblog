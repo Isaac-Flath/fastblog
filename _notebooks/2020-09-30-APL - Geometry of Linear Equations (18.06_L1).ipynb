{
 "cells": [
  {
   "cell_type": "markdown",
   "metadata": {},
   "source": [
    "# APL - Geometry of Linear Equations (18.06_L1)\n",
    "> Linear Algebra - An introduction to Systems of Linear Equations\n",
    "\n",
    "- toc: true \n",
    "- badges: true\n",
    "- comments: true\n",
    "- author: Isaac Flath\n",
    "- categories: [Linear Algebra]"
   ]
  },
  {
   "cell_type": "markdown",
   "metadata": {},
   "source": [
    "# Motivation\n",
    "\n",
    "I am retaking this linear algebra course with 2 intentions.\n",
    "\n",
    "First, I want to learn Dyalog APL - which is a super cool and powerful way to do linear algebra and numerical transforms.  The second is to get a better understanding of Linear Algebra.  I would love to achieve 'fluency' in linear algebra.\n",
    "\n",
    "I will be doing everything in APL.  So what is APL?  I think of it as a better regex for linear algebra.  Like regex, it is very condensed with different symbols representing different operations.  Like regex, you can combine these symbols in many different ways to achieve almost anything (but in linear algebra instead of text).  Unlike regex, APL is it's own full language in itself and not some string sitting inside of another language.\n",
    "\n",
    "This blog post will be my notes about Lecture 1 from the following course:\n",
    "\n",
    "Gilbert Strang. 18.06 Linear Algebra. Spring 2010. Massachusetts Institute of Technology: MIT OpenCourseWare, https://ocw.mit.edu. License: Creative Commons BY-NC-SA."
   ]
  },
  {
   "cell_type": "markdown",
   "metadata": {},
   "source": [
    "# Matrix Multiplication\n",
    "\n",
    "Imagine we want to multiply 2 matrices together, a1 and a2.  How should we think about it?"
   ]
  },
  {
   "cell_type": "code",
   "execution_count": 189,
   "metadata": {},
   "outputs": [
    {
     "data": {
      "text/html": [
       "<span style=\"white-space:pre; font-family: monospace\">2 5\n",
       "1 3\n",
       "</span>"
      ]
     },
     "execution_count": 189,
     "metadata": {},
     "output_type": "execute_result"
    },
    {
     "data": {
      "text/html": [
       "<span style=\"white-space:pre; font-family: monospace\">1\n",
       "2\n",
       "</span>"
      ]
     },
     "execution_count": 189,
     "metadata": {},
     "output_type": "execute_result"
    }
   ],
   "source": [
    "+ a1 ← 2 2 ⍴ 2 5 1 3\n",
    "+ a2 ← 2 1 ⍴ 1 2"
   ]
  },
  {
   "cell_type": "markdown",
   "metadata": {},
   "source": [
    "The result is a linear combination of the columns of ar1 which we can of course write in APL like this"
   ]
  },
  {
   "cell_type": "code",
   "execution_count": 191,
   "metadata": {},
   "outputs": [
    {
     "data": {
      "text/html": [
       "<span style=\"white-space:pre; font-family: monospace\">12 7\n",
       "</span>"
      ]
     },
     "execution_count": 191,
     "metadata": {},
     "output_type": "execute_result"
    }
   ],
   "source": [
    "c1←a1[;1]×a2[1;] ⍝ Column 1 of a1 time row 1 of a2\n",
    "c2←a1[;2]×a2[2;] ⍝ Column 2 of a1 time row 2 of a2\n",
    "c1+c2 ⍝ Sum those up as a linear combination"
   ]
  },
  {
   "cell_type": "markdown",
   "metadata": {},
   "source": [
    "A better way to do this in APL is to condense it down using an inner product. "
   ]
  },
  {
   "cell_type": "code",
   "execution_count": 192,
   "metadata": {},
   "outputs": [
    {
     "data": {
      "text/html": [
       "<span style=\"white-space:pre; font-family: monospace\">12\n",
       " 7\n",
       "</span>"
      ]
     },
     "execution_count": 192,
     "metadata": {},
     "output_type": "execute_result"
    }
   ],
   "source": [
    "a1+.×a2 "
   ]
  },
  {
   "cell_type": "markdown",
   "metadata": {},
   "source": [
    "So lets walk through the example of +.× and see why we get the correct answer and what it is doing.\n",
    "\n",
    "What the . does is gives us a framework or structure for the answer.  We take combinations of rows columns, which gives us the following equations to calculate our 2 numbers.\n",
    "\n",
    "(2 ?1? 1) ?2? (5 ?1? 2)\n",
    "\n",
    "(1 ?1? 1) ?2? (3 ?1? 2)\n",
    "\n",
    "Then we need to define the 2 unknown operators (?1? and ?2?).  These are defined by the operators on each side of the dot.  Normal matrix multiplication means ?1? = * and ?2? = +, which is why +.x gives us matrix multiplication.  But really we could put any operators in there.  Addition, division, subtraction, exponents, min or max, or any other operator you can think of or create.\n",
    "\n",
    "Another way to think about the same thing is to do this in three steps\n",
    "\n",
    "**Create our inner product matrices (rows * columns from original matrices):**\n",
    "\n",
    "$\\begin{bmatrix}?&&1\\\\&?&2\\\\2&5&\\end{bmatrix}$\n",
    "$\\begin{bmatrix}?&&1\\\\&?&2\\\\1&3&\\end{bmatrix}$\n",
    "\n",
    "**Use the final operator (multiplication) to fill in the ?**\n",
    "\n",
    "$\\begin{bmatrix}2&\\\\&10\\end{bmatrix}$\n",
    "$\\begin{bmatrix}1&\\\\&6\\end{bmatrix}$\n",
    "\n",
    "**Use the first operator to combine the ?**\n",
    "\n",
    "$10+2 = 12$\n",
    "\n",
    "$1+6 = 7$\n"
   ]
  },
  {
   "cell_type": "markdown",
   "metadata": {},
   "source": [
    "Now that we understand that, we can flip our operators and look at ×.+ instead of +.×. We can also do any number of other operators to do lots of different matrix operations."
   ]
  },
  {
   "cell_type": "code",
   "execution_count": 6,
   "metadata": {},
   "outputs": [
    {
     "data": {
      "text/html": [
       "<span style=\"white-space:pre; font-family: monospace\">12\n",
       " 7\n",
       "</span>"
      ]
     },
     "execution_count": 6,
     "metadata": {},
     "output_type": "execute_result"
    },
    {
     "data": {
      "text/html": [
       "<span style=\"white-space:pre; font-family: monospace\">21\n",
       "10\n",
       "</span>"
      ]
     },
     "execution_count": 6,
     "metadata": {},
     "output_type": "execute_result"
    },
    {
     "data": {
      "text/html": [
       "<span style=\"white-space:pre; font-family: monospace\">2\n",
       "2\n",
       "</span>"
      ]
     },
     "execution_count": 6,
     "metadata": {},
     "output_type": "execute_result"
    },
    {
     "data": {
      "text/html": [
       "<span style=\"white-space:pre; font-family: monospace\">¯4\n",
       "¯3\n",
       "</span>"
      ]
     },
     "execution_count": 6,
     "metadata": {},
     "output_type": "execute_result"
    },
    {
     "data": {
      "text/html": [
       "<span style=\"white-space:pre; font-family: monospace\">5.65685\n",
       "1      \n",
       "</span>"
      ]
     },
     "execution_count": 6,
     "metadata": {},
     "output_type": "execute_result"
    },
    {
     "data": {
      "text/html": [
       "<span style=\"white-space:pre; font-family: monospace\">1      \n",
       "0.63093\n",
       "</span>"
      ]
     },
     "execution_count": 6,
     "metadata": {},
     "output_type": "execute_result"
    }
   ],
   "source": [
    "⍝ using addition.multiplication (normal matrix multiplication) \n",
    "a1+.×a2 \n",
    "\n",
    "⍝ using multiplication.addition\n",
    "a1×.+a2 \n",
    "\n",
    "⍝ using max.min\n",
    "a1⌈.⌊a2\n",
    "\n",
    "⍝ using addition.subtraction\n",
    "a1-.+a2\n",
    "\n",
    "⍝ using exponent.division\n",
    "a1*.÷a2\n",
    "\n",
    "⍝ using factorial.natural_log\n",
    "a1!.⍟a2"
   ]
  },
  {
   "cell_type": "markdown",
   "metadata": {},
   "source": [
    "# Calculating Y values"
   ]
  },
  {
   "cell_type": "markdown",
   "metadata": {},
   "source": [
    "Let's imaging we have a system of 2 equations and want to graph them.  How would we solve for many values of x in APL?  Let's just use the same example we had above"
   ]
  },
  {
   "cell_type": "code",
   "execution_count": 157,
   "metadata": {},
   "outputs": [
    {
     "data": {
      "text/html": [
       "<span style=\"white-space:pre; font-family: monospace\">2   5  \n",
       "0.5 1.5\n",
       "</span>"
      ]
     },
     "execution_count": 157,
     "metadata": {},
     "output_type": "execute_result"
    }
   ],
   "source": [
    "+ res ← a1 ÷ 2/a2 ⍝ Isolate function so right side (y) is 1 in all instanced"
   ]
  },
  {
   "cell_type": "code",
   "execution_count": 180,
   "metadata": {},
   "outputs": [
    {
     "data": {
      "text/html": [
       "<span style=\"white-space:pre; font-family: monospace\">7 9   11 13   15 17   19 21   23 25  \n",
       "2 2.5  3  3.5  4  4.5  5  5.5  6  6.5\n",
       "</span>"
      ]
     },
     "execution_count": 180,
     "metadata": {},
     "output_type": "execute_result"
    }
   ],
   "source": [
    "⍝ calculate y values for x is 1 through 10\n",
    "xs ← ⍳10\n",
    "(res[;1] ∘.× xs) + ((⍴ xs)/2 1 ⍴ res[;2])"
   ]
  },
  {
   "cell_type": "markdown",
   "metadata": {},
   "source": [
    "And there you have it!"
   ]
  },
  {
   "cell_type": "markdown",
   "metadata": {},
   "source": [
    "# Elimination"
   ]
  },
  {
   "cell_type": "code",
   "execution_count": 113,
   "metadata": {
    "scrolled": true
   },
   "outputs": [
    {
     "data": {
      "text/html": [
       "<span style=\"white-space:pre; font-family: monospace\">1 2 1\n",
       "3 8 1\n",
       "0 4 1\n",
       "</span>"
      ]
     },
     "execution_count": 113,
     "metadata": {},
     "output_type": "execute_result"
    }
   ],
   "source": [
    "+A ← 3 3 ⍴ 1 2 1 3 8 1 0 4 1\n",
    "v ← 3 1 ⍴ 2 12 2\n",
    "E21 ← 3 3 ⍴ 1 0 0 (A[2;1]×¯1÷A[1;1]) 1 0 0 0 1\n",
    "E31 ← 3 3 ⍴ 1 0 0 0 1 0 ((E21+.×A)[3;1]×¯1÷(E21+.×A)[1;1]) 0 1\n",
    "E32 ← 3 3 ⍴ 1 0 0 0 1 0 0 ((E31+.×E21+.×A)[3;2]×¯1÷(E31+.×E21+.×A)[2;2]) 1"
   ]
  },
  {
   "cell_type": "code",
   "execution_count": 114,
   "metadata": {},
   "outputs": [
    {
     "data": {
      "text/html": [
       "<span style=\"white-space:pre; font-family: monospace\">  2\n",
       "  6\n",
       "¯10\n",
       "</span>"
      ]
     },
     "execution_count": 114,
     "metadata": {},
     "output_type": "execute_result"
    }
   ],
   "source": [
    "E32+.×E31+.×E21+.×v"
   ]
  }
 ],
 "metadata": {
  "kernelspec": {
   "display_name": "Dyalog APL [conda env:root] *",
   "language": "apl",
   "name": "conda-root-dyalog-kernel"
  },
  "language_info": {
   "file_extension": ".apl",
   "mimetype": "text/apl",
   "name": "APL"
  }
 },
 "nbformat": 4,
 "nbformat_minor": 4
}

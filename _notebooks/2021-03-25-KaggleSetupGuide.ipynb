{
 "cells": [
  {
   "cell_type": "markdown",
   "metadata": {},
   "source": [
    "# Kaggle Setup Guide\n",
    "> Getting started with Kaggle Kernel Submission\n",
    "\n",
    "- toc: true\n",
    "- badges: true\n",
    "- comments: true\n",
    "- author: Isaac Flath\n",
    "- categories: [Kaggle, Getting Started]"
   ]
  },
  {
   "cell_type": "markdown",
   "metadata": {},
   "source": [
    "# Purpose\n",
    "\n",
    "Many Kaggle competition are adopting a format where you must do portions of your work (particularly inference) in a kaggle kernal with internet disables.  When people are first starting with the format there is usually some frustration figuring out how to work around this.  This guide is my resource and reference sheet to setting all of it up and I hope it helps others as well.\n",
    "\n",
    "None of what I am doing is novel or a method I created - I am simply taking pieces from a lot of different places and consolidating it into a guide formatted in the way I like.  I will credit sources as they come up, so please check out the original content for extra details!\n",
    "\n",
    "There's 2 main things you will need to adjust due to the no internet stipulation:\n",
    "+ Downloading and using pretrained models\n",
    "+ Installing new packages and libraries\n",
    "\n",
    ">Note:  [Follow me on twitter](https://twitter.com/isaac_flath) if you want updates to the blog posts.  \n"
   ]
  },
  {
   "cell_type": "markdown",
   "metadata": {},
   "source": [
    "# Setup"
   ]
  },
  {
   "cell_type": "markdown",
   "metadata": {},
   "source": [
    "I this post I will be assuming that you already have the kaggle API installed.  If you don't go have it installed yet, no problem!\n",
    "\n",
    "Go to [this repo](https://github.com/kaggle/kaggle-api) and follow the instruction in the readme.  You will need to follow the instructions in the Installation and API Credentials sections"
   ]
  },
  {
   "cell_type": "markdown",
   "metadata": {},
   "source": [
    "# Datasets"
   ]
  },
  {
   "cell_type": "markdown",
   "metadata": {},
   "source": [
    "The key to all of this is to use datasets.  [Kaggle datasets](https://www.kaggle.com/datasets) are accessible to kaggle kernels without internet.  A common application is just what you think, to upload datasets for machine learning.  They can also be used to upload other things you need access to in that environment, such as model weights or libraries.\n",
    "\n",
    "The instructions in this section are everything you need to create and update a dataset."
   ]
  },
  {
   "cell_type": "markdown",
   "metadata": {},
   "source": [
    "## How do I create a dataset?"
   ]
  },
  {
   "cell_type": "markdown",
   "metadata": {},
   "source": [
    "1. Create a folder containing the files you want to upload\n",
    "2. Run `kaggle datasets init -p /path/to/dataset` to generate a metadata file\n",
    "3. Add your dataset's metadata to the generated file, `datapackage.json`\n",
    "4. Run `kaggle datasets create -p /path/to/dataset` to create the dataset\n",
    "\n",
    ">Note: Credit for these instructions goes to [Meg Risdal's post](https://www.kaggle.com/product-feedback/52640)"
   ]
  },
  {
   "cell_type": "markdown",
   "metadata": {},
   "source": [
    "## How do I update a dataset?"
   ]
  },
  {
   "cell_type": "markdown",
   "metadata": {},
   "source": [
    "1. Run `kaggle datasets init -p /path/to/dataset` to generate a metadata file if you don't already have one\n",
    "1. Make sure the id field in `datapackage.json` points to your dataset\n",
    "1. Run `kaggle datasets version -p /path/to/dataset -m \"Your message here\"`\n",
    "\n",
    ">Note: Credit for these instructions goes to [Meg Risdal's post](https://www.kaggle.com/product-feedback/52640)"
   ]
  },
  {
   "cell_type": "markdown",
   "metadata": {},
   "source": [
    "# Getting and Using the Files\n",
    "\n",
    "Now that we know how to create and update a dataset, we need to know what to put in there.  How do we get a pretrained model?  How do we get a library?  That's what this section is for :)"
   ]
  },
  {
   "cell_type": "markdown",
   "metadata": {},
   "source": [
    "## Pretrained Models\n",
    "\n",
    "Once you have your model, you can export it.  Check out the docs for the specific library you are working in.\n",
    "\n",
    "For example in fastai for an inference export/import:\n",
    "\n",
    "```python\n",
    "learner = cnn_learner(dls,resnet18)\n",
    "learn.fine_tune(3)\n",
    "learn.export('your_dataset/model.pkl')\n",
    "```\n",
    "\n",
    "That would then be imported using\n",
    "\n",
    "```python\n",
    "learn = load_learner('file:///kaggle/input/fastai/model.pkl')\n",
    "dl = learn.dls.test_dl(df)\n",
    "preds - learn.get_preds(dl=dl)\n",
    "```"
   ]
  },
  {
   "cell_type": "markdown",
   "metadata": {},
   "source": [
    "## Libraries"
   ]
  },
  {
   "cell_type": "markdown",
   "metadata": {},
   "source": [
    "To download a library you can use `pip download`.  If you download it to the dataset folder you created, you can update the dataset with the instructions above.  We'll download fastai in this example so we can update to the latest version, but the same thing applies with libraries not installed at all in the kernel\n",
    "\n",
    "```bash\n",
    "!pip download fastai -d ./your_dataset/```\n",
    "\n",
    "then you can install in the kaggle kernal like this:\n",
    "\n",
    "```bash\n",
    "!pip install -Uqq fastai --no-index --find-links=file:///kaggle/input/your_dataset/\n",
    "```\n",
    "and then import is as normal\n",
    "\n",
    "```python \n",
    "from fastai.vision.all import *```\n"
   ]
  },
  {
   "cell_type": "markdown",
   "metadata": {},
   "source": [
    ">Note: Credit for these instructions goes to [samuelepino's kaggle kernel](https://www.kaggle.com/samuelepino/pip-installing-packages-with-no-internet)"
   ]
  },
  {
   "cell_type": "markdown",
   "metadata": {},
   "source": [
    "# Conclusion\n",
    "\n",
    "If there's anything you do that's missing or you would like added please let me know via comment or twitter.  My goal is to have a one stop shop guide for all the small config/setup stuff needed for kaggle competitors.\n",
    "\n",
    "\n",
    "[Follow me on twitter](https://twitter.com/isaac_flath) if you want updates to the blog posts.  \n"
   ]
  },
  {
   "cell_type": "code",
   "execution_count": null,
   "metadata": {},
   "outputs": [],
   "source": []
  }
 ],
 "metadata": {
  "kernelspec": {
   "display_name": "Python 3",
   "language": "python",
   "name": "python3"
  },
  "language_info": {
   "codemirror_mode": {
    "name": "ipython",
    "version": 3
   },
   "file_extension": ".py",
   "mimetype": "text/x-python",
   "name": "python",
   "nbconvert_exporter": "python",
   "pygments_lexer": "ipython3",
   "version": "3.8.5"
  },
  "toc": {
   "base_numbering": 1,
   "nav_menu": {},
   "number_sections": true,
   "sideBar": true,
   "skip_h1_title": false,
   "title_cell": "Table of Contents",
   "title_sidebar": "Contents",
   "toc_cell": false,
   "toc_position": {},
   "toc_section_display": true,
   "toc_window_display": false
  }
 },
 "nbformat": 4,
 "nbformat_minor": 4
}

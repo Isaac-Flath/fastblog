{
 "cells": [
  {
   "cell_type": "markdown",
   "metadata": {},
   "source": [
    "# NBDev Minimum Library\n",
    "\n",
    "> Effortless exporting of NB code to py files\n",
    "\n",
    "- toc: true\n",
    "- badges: true\n",
    "- comments: true\n",
    "- author: Isaac Flath\n",
    "- categories: [NBDev]"
   ]
  },
  {
   "cell_type": "markdown",
   "metadata": {},
   "source": [
    "I made a very minimal version of nbdev with the intent toward use in one-off projects rather than full featured library. I released to pip for my own use, though I'd take it down if it's something that fits within NBdev.\n",
    "\n",
    "I often find myself wishing I could always use the export flags when coding in notebooks and have any code cells I want just auto-magically be in .py modules.  It's a pain to copy code between multiple notebooks, but it's also a pain to copy and paste code between modules and notebooks.\n",
    "\n",
    "[NBDev](https://nbdev.fast.ai/) offers an innovative solution and this small library was inspired by it.  If you aren't familiar with NBDev, [check it out](https://nbdev.fast.ai/).  NBdev comes out of the box with lots of powerful features such as:\n",
    "+ Automated Testing and CI\n",
    "+ Automated creation and deployment of documentation site\n",
    "+ Automated releases to both conda and pip\n",
    "+ Too many more to name\n",
    "\n",
    "So why just use NBDev if it's so awesome?  Well sometimes I don't need all those powerful features listed above. Separate documentation, release to conda and pip, and automated CI means there's configuration that needs to be filled out.  If I am just fiddling with something or working on a one-off project I don't need a documentation page for that and I am not making something that will ever be released to pip or conda.  So that means I don't need the configuration items and can make something simpler.\n",
    "\n",
    ">Note: [Follow me on twitter](https://twitter.com/isaac_flath) if you want updates on new blog posts.\n",
    "\n",
    "Ok: Enough jibber-jabber - let's see how it works!"
   ]
  },
  {
   "cell_type": "markdown",
   "metadata": {},
   "source": [
    "# Minimal Example\n"
   ]
  },
  {
   "cell_type": "markdown",
   "metadata": {},
   "source": [
    "## Code to be Exported"
   ]
  },
  {
   "cell_type": "markdown",
   "metadata": {},
   "source": [
    "Let's start with a code cell that we wouldn't want exported to a module.  This is just to show that when we export it, it doesn't pick up stuff we do not want"
   ]
  },
  {
   "cell_type": "code",
   "execution_count": 14,
   "metadata": {},
   "outputs": [
    {
     "data": {
      "text/plain": [
       "(4, 1)"
      ]
     },
     "execution_count": 14,
     "metadata": {},
     "output_type": "execute_result"
    }
   ],
   "source": [
    "# I can add any code comments or adhoc code\n",
    "# This doesn't start with export so it won't get moved\n",
    "import numpy as np\n",
    "import os\n",
    "A = np.random.randn(4,3)\n",
    "B = np.sum(A, axis = 1, keepdims = True)\n",
    "B.shape"
   ]
  },
  {
   "cell_type": "markdown",
   "metadata": {},
   "source": [
    "Now we'll define a couple cell that starts with our export flag.  This should get picked up and exported"
   ]
  },
  {
   "cell_type": "code",
   "execution_count": 2,
   "metadata": {},
   "outputs": [],
   "source": [
    "#export\n",
    "def add(a,b): return a+b"
   ]
  },
  {
   "cell_type": "code",
   "execution_count": 3,
   "metadata": {},
   "outputs": [],
   "source": [
    "#export\n",
    "def subtract(a,b): return a-b"
   ]
  },
  {
   "cell_type": "markdown",
   "metadata": {},
   "source": [
    "## Export Code"
   ]
  },
  {
   "cell_type": "markdown",
   "metadata": {},
   "source": [
    "Now run the command to convert all our notebooks in the folder to `.py` files. It will just skip any cells or notebooks with no export flags.  I will run it on my entire blog directory so you can see that.\n",
    "\n",
    ">You can also use `simple_export_one_nb` instead to specify the export of only 1 notebook."
   ]
  },
  {
   "cell_type": "code",
   "execution_count": 4,
   "metadata": {},
   "outputs": [
    {
     "name": "stdout",
     "output_type": "stream",
     "text": [
      "Nothing to Convert src/2020-12-06-SecretsInNBDevCI.ipynb\n",
      "Nothing to Convert src/2021-02-20-GANBasics.ipynb\n",
      "Nothing to Convert src/2020-05-11-RandomForestClassifier.ipynb\n",
      "Nothing to Convert src/2021-03-15-FastaiPytorchTrainingLoop.ipynb\n",
      "Nothing to Convert src/2020-09-30-APL - Geometry of Linear Equations (18.06_L1).ipynb\n",
      "Nothing to Convert src/2021-03-01-StyleGANComponents.ipynb\n",
      "Nothing to Convert src/2020-10-20-UsingTheLearningRateFinder.ipynb\n",
      "Nothing to Convert src/2020-12-15-PseudoLabelingDataCleaning.ipynb\n",
      "Nothing to Convert src/2020-05-09-GradientDescentforLinearRegression-P1.ipynb\n",
      "Nothing to Convert src/2021-02-01-HierarchicalArchitecture.ipynb\n",
      "Nothing to Convert src/2020-06-19-NeuralNetworkBasicsP1.ipynb\n",
      "Nothing to Convert src/2020-05-16-18.06_6_ColumnSpace_Nullspace.ipynb\n",
      "Nothing to Convert src/2021-03-25-KaggleSetupGuide.ipynb\n",
      "Nothing to Convert src/2021-03-15-RANZCRCLIP.ipynb\n",
      "Nothing to Convert src/2021-02-15-PlantPathologyKaggle.ipynb\n",
      "Nothing to Convert src/2020-05-13-18.06_5_Transposes,Permutations,Spaces.ipynb\n",
      "Nothing to Convert src/2020-05-17-18.06_7_pivot_variables_special_solutions.ipynb\n",
      "Nothing to Convert src/2020-06-01-GradientDescentforLinearRegression-P1B.ipynb\n",
      "Nothing to Convert src/2020-05-09-18.06_1_GeometryOfLinearEquations.ipynb\n",
      "Nothing to Convert src/2020-05-12-18.06_4_Factorization into a-lu.ipynb\n",
      "Nothing to Convert src/2020-11-20-PartialDependencePlotting.ipynb\n",
      "Nothing to Convert src/2020-06-06-18.06_8_Solving Ax=b - row reduced form R.ipynb\n",
      "Nothing to Convert src/2021-02-01-CustomArchitectureResearch.ipynb\n",
      "Converted src/NbdevMinimum.py\n",
      "Nothing to Convert src/2021-01-18-SoftLabeling.ipynb\n",
      "Nothing to Convert src/2020-08-01-MultiCatImageClassification.ipynb\n",
      "Nothing to Convert src/2020-08-11-MixupDeepDive.ipynb\n",
      "Nothing to Convert src/2020-06-21-NeuralNetworkBasicsP2.ipynb\n",
      "Nothing to Convert src/2020-05-10-18.06_2_EliminationWithMatrices.ipynb\n",
      "Nothing to Convert src/2020-06-25-ConnectingJupyterToEC2.ipynb\n",
      "Nothing to Convert src/2020-11-01-MediaBiasTextGenerationTransformer.ipynb\n",
      "Nothing to Convert src/2020-06-27-FineGrainImageClassification.ipynb\n",
      "Nothing to Convert src/2020-08-19-NLPTokenizationBasics.ipynb\n",
      "Nothing to Convert src/2021-01-09-NeuralNetworksXOR.ipynb\n",
      "Nothing to Convert src/2020-08-22-RNNFoundations.ipynb\n",
      "Nothing to Convert src/2021-03-20-CycleGanWalkThrough.ipynb\n",
      "Nothing to Convert src/2020-05-07-JupyterNotebookTutorial.ipynb\n",
      "Nothing to Convert src/2020-06-11-GradientDescentforLinearRegression-P2.ipynb\n",
      "Nothing to Convert src/2020-07-21-HierarchicalLossFunction.ipynb\n",
      "Nothing to Convert src/2020-07-15-TerraformBasicsP1.ipynb\n",
      "Nothing to Convert src/2020-05-11-18.06_3_Multiplication and Inverse Matrices.ipynb\n"
     ]
    }
   ],
   "source": [
    "from nbdevminimum.core import *\n",
    "simple_export_all_nb()"
   ]
  },
  {
   "cell_type": "markdown",
   "metadata": {},
   "source": [
    "## Proof that it worked"
   ]
  },
  {
   "cell_type": "markdown",
   "metadata": {},
   "source": [
    "To prove that is only put the export code cells lets look at the py file.\n",
    "\n",
    ">Note: Numbers, spaces, and understcores at the beginning of the file name, as well as dashes anywhere are automatically removed from the file name so you can import easily."
   ]
  },
  {
   "cell_type": "code",
   "execution_count": 15,
   "metadata": {},
   "outputs": [
    {
     "data": {
      "text/plain": [
       "['NbdevMinimum.py']"
      ]
     },
     "execution_count": 15,
     "metadata": {},
     "output_type": "execute_result"
    }
   ],
   "source": [
    "os.listdir('src')"
   ]
  },
  {
   "cell_type": "code",
   "execution_count": 16,
   "metadata": {},
   "outputs": [
    {
     "name": "stdout",
     "output_type": "stream",
     "text": [
      "#export\n",
      "\n",
      "def add(a,b): return a+b\n",
      "\n",
      "\n",
      "\n",
      "#export\n",
      "\n",
      "def subtract(a,b): return a-b\n",
      "\n",
      "\n",
      "\n"
     ]
    }
   ],
   "source": [
    "f = open(\"src/NbdevMinimum.py\", \"r\")\n",
    "for line in f: print(line)"
   ]
  },
  {
   "cell_type": "code",
   "execution_count": 17,
   "metadata": {},
   "outputs": [
    {
     "data": {
      "text/plain": [
       "15"
      ]
     },
     "execution_count": 17,
     "metadata": {},
     "output_type": "execute_result"
    }
   ],
   "source": [
    "from src.NbdevMinimum import add as test_add\n",
    "test_add(5,10)"
   ]
  },
  {
   "cell_type": "code",
   "execution_count": 18,
   "metadata": {},
   "outputs": [
    {
     "data": {
      "text/plain": [
       "<function src.NbdevMinimum.add(a, b)>"
      ]
     },
     "execution_count": 18,
     "metadata": {},
     "output_type": "execute_result"
    }
   ],
   "source": [
    "test_add"
   ]
  },
  {
   "cell_type": "markdown",
   "metadata": {},
   "source": [
    "# Conclusion\n",
    "\n",
    "Thats's all there is too it.  Just drop the two lines in any notebook cell and it'll export the folder for you.  [Check out the documentation](https://isaac-flath.github.io/nbdevminimum/) for information about helpful arguments or exporting single notebooks.\n",
    "\n",
    "```python\n",
    "from nbdevminimum.core import *\n",
    "simple_export_all_nb()\n",
    "```\n",
    "\n",
    "[Follow me on twitter](https://twitter.com/isaac_flath) if you want updates on new blog posts."
   ]
  }
 ],
 "metadata": {
  "kernelspec": {
   "display_name": "Python 3",
   "language": "python",
   "name": "python3"
  },
  "language_info": {
   "codemirror_mode": {
    "name": "ipython",
    "version": 3
   },
   "file_extension": ".py",
   "mimetype": "text/x-python",
   "name": "python",
   "nbconvert_exporter": "python",
   "pygments_lexer": "ipython3",
   "version": "3.8.5"
  },
  "toc": {
   "base_numbering": 1,
   "nav_menu": {},
   "number_sections": true,
   "sideBar": true,
   "skip_h1_title": false,
   "title_cell": "Table of Contents",
   "title_sidebar": "Contents",
   "toc_cell": false,
   "toc_position": {},
   "toc_section_display": true,
   "toc_window_display": false
  }
 },
 "nbformat": 4,
 "nbformat_minor": 4
}

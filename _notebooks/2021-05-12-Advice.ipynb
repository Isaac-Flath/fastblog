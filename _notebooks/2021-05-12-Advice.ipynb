{
 "cells": [
  {
   "cell_type": "markdown",
   "metadata": {},
   "source": [
    "# Advice\n",
    "\n",
    "> Advice on how to grow and develop\n",
    "\n",
    "- toc: true\n",
    "- badges: true\n",
    "- comments: true\n",
    "- author: Isaac Flath"
   ]
  },
  {
   "cell_type": "markdown",
   "metadata": {},
   "source": [
    "This post is a collection of thoughts that helped me as I learned Data Science and Machine Learning.  I won't tell you what courses to take or what projects to do - I don't think that's helpful advice for most people.\n",
    "\n",
    "My first piece of advice is not to listen to much to other people's advice.  I normally wouldn't share, but since several people have asked, here's my thoughts on the topic anyway."
   ]
  },
  {
   "cell_type": "markdown",
   "metadata": {},
   "source": [
    "# Listening to Advice\n",
    "\n",
    "Be careful about blindly following advice about how to grow, learn, or doing what others tell you.  Really think deeply about any advice being given and decide whether it makes sense or not before acting on it. A few reasons why:\n",
    "\n",
    "+ Doing actual projects and work is the most important thing.  Following advice can often be a distraction from actually doing projects.\n",
    "+ Just because someone has a fancy title or a big following does not mean they know what they are talking about.\n",
    "+ Most people do not/did not follow the advice they give out.  Look for people whose actions align with their advice!\n",
    "\n",
    ">Bottom Line:  Listen to advice, take the insights, and decide independently whether you think it would help you or not.  Most advice should be discarded (but there are really useful nuggets sometimes so don't ignore all of it!)"
   ]
  },
  {
   "cell_type": "markdown",
   "metadata": {},
   "source": [
    "# Try and see\n",
    "\n",
    "If your goal is to learn, don't ask if x would work.  Instead, try x out and see for yourself.  Two reasons why:\n",
    "\n",
    "+ Trying and seeing for yourself is how you build intuition and experience, which is a really important thing to build.  By asking someone else, you are depriving yourself of a super crucial learning opportunity.\n",
    "+ I've been surprised at how often things work after being told definitively that it would not work.\n",
    "\n",
    ">Bottom Line: Don't ask if x would work, try x and see if it works for yourself!"
   ]
  },
  {
   "cell_type": "markdown",
   "metadata": {},
   "source": [
    "# Learn by Doing\n",
    "\n",
    "If you want to learn how to build software, then build software.  If you want to learn machine learning, then do machine learning.  If you want to learn deep learning, then do deep learning.  If in the course of one of those projects you need to learn something (ie linear algebra) in order to complete it, then you can learn it then.  This approach will build a very strong practical foundation.\n",
    "\n",
    "Don't learn x so that you can do y.  Some examples of what I don't think make sense are \"Learn linear algebra and calculus, so that later you can do deep learning\".  Or \"Learn data structures and algorithms so that you can build efficient software later\".\n",
    "\n",
    ">Bottom Line: Start a project to do exactly what you want to do and learn what you need to do it along the way."
   ]
  },
  {
   "cell_type": "markdown",
   "metadata": {},
   "source": [
    "# Courses and Tutorials\n",
    "\n",
    "Watching a course lecture or reading a tutorial can be a multiplier for learning how to do something.  But any multiplier times 0 is still 0.  The actual learning how to do something comes when you actually do something on your own.\n",
    "\n",
    "For example, I could watch lots of art videos and read many books about art.  I could then converse with others about art, different styles, how different artists use different brush strokes, and much more.  But that's not the same as being able to do art.  We all know that you can't actually get good at painting by reading books or watching lectures.  The same applies to every other topic such as deep learning, data science, or software engineering.\n",
    "\n",
    "So spend most of your time doing whatever the lecture/tutorial discussed.  Apply whatever was in the lecture to a new dataset.  If the course implemented a loss function, implement a different loss function.  Do lots of related projects where you don't have a tutorial, course, or instructions for exactly what you are doing.  Try a different architecture.  Just experiment a lot and try as much stuff out as you can.  Tinker.  That is where you actually learn.  A lecture can make this step faster and easier, but does not replace it.\n",
    "\n",
    "In an interview I can't find Chris Lattner talked about creation vs consumption.  Try to create more than consume.\n",
    "\n",
    "+ Consuming is things like watching a lecture, reading a book, watching tv, reading or following a tutorial, watching tv.\n",
    "+ Creation are things like writing a blog post, training a model on a new dataset, coding something, solving problems, painting something, doing crafts with the family.\n",
    "\n",
    ">Bottom Line: You learn by doing, not by taking a course.  Following tutorials, watching lectures, doing school projects are a starting point.  But you don't know how to do something until you apply knowledge to an independent project.  Focus on those."
   ]
  },
  {
   "cell_type": "markdown",
   "metadata": {},
   "source": [
    "# Struggling is Learning\n",
    "\n",
    "Learning is a struggle.  If something is hard and you don't understand, that means when you eventually do figure it out you will have learned something.  The harder it is for you to grasp the more you learn from figuring it out.\n",
    "\n",
    "If you are struggling with content that means you are in the learning process.  Over time that struggle will be enjoyable.  Sometimes that struggle is spending 3 hours looking at something and feeling like you made 0 progress.  That happens to everyone at some point.  This is part of the learning process.\n",
    "\n",
    ">Bottom Line: Struggling is learning and learning is struggling.  That's the process and that is true for everyone.  Really successful people learn to enjoy the struggle, but it's still a struggle."
   ]
  },
  {
   "cell_type": "markdown",
   "metadata": {},
   "source": [
    "# Communicate what you learn\n",
    "\n",
    "To learn concepts, teach or communicate them.  This can take a lot of forms.  I chose to have a blog approach because then my resume can link to my blog and write-ups of past work.  That shows technical ability but also communication/writing skills.  \n",
    "\n",
    "A few other ideas if blogging is not for you:\n",
    "+ A friend of mine does a youtube video series about concepts\n",
    "+ Make a course (for example walkwithfastai.com)\n",
    "+ Write a book\n",
    "+ Tutor someone\n",
    "\n",
    ">Bottom Line: Teach or communicate what you learn in some way.  It will help you solidify understanding.  That can be directly to another person, or more generally in a course, youtube series, or blog."
   ]
  },
  {
   "cell_type": "markdown",
   "metadata": {},
   "source": [
    "# Resume\n",
    "\n",
    "Don't worry about a 'traditional' resume template.  Go to canva.com, sign up for the free plan, and find a nice looking resume template you like.  Doesn't have to be the traditional black and white only.\n",
    "\n",
    "Put your strongest things first.  Give your strongest things the most space.  Don't worry about the traditional \"Work Experience\" then \"Education\" standard.  Highlight what you want to show, give less space to things that aren't as important.\n",
    "+ If you have a PHD and have publications, but no work experience beyond that focus on that. \n",
    "+ If you don't have a degree but have fantastic personal projects, move education to page 2 or a small side bar.  Fill up the first page mostly with your personal projects.  If you can link to a blog writeup they can go to for more detail that's even better.\n",
    "\n",
    "For me, Page 1 of my resume for example has \"Recent Projects\" and \"Recent Blog Posts\" sections.  One of the projects also links to my blog for a complete write up as well.  I have education as small as possible in the side bar.  This is because education was not as important for my development personally.  I moved the work experience section to page 2.  I chose to highlight my blog and projects over work experience and education.  You don't have to do it just like I did, but give thought to what you are highlighting.\n",
    "\n",
    ">Bottom Line:  For a resume, who caress what's traditional.  Do what makes sense and looks good.  Focus on what makes your valuable regardless of whether that's personal projects, education, work experience, or something else.  Whatever that is, put that first and give it the most space."
   ]
  },
  {
   "cell_type": "code",
   "execution_count": null,
   "metadata": {},
   "outputs": [],
   "source": []
  }
 ],
 "metadata": {
  "kernelspec": {
   "display_name": "Python 3",
   "language": "python",
   "name": "python3"
  },
  "language_info": {
   "codemirror_mode": {
    "name": "ipython",
    "version": 3
   },
   "file_extension": ".py",
   "mimetype": "text/x-python",
   "name": "python",
   "nbconvert_exporter": "python",
   "pygments_lexer": "ipython3",
   "version": "3.8.5"
  },
  "toc": {
   "base_numbering": 1,
   "nav_menu": {},
   "number_sections": true,
   "sideBar": true,
   "skip_h1_title": false,
   "title_cell": "Table of Contents",
   "title_sidebar": "Contents",
   "toc_cell": false,
   "toc_position": {},
   "toc_section_display": true,
   "toc_window_display": false
  }
 },
 "nbformat": 4,
 "nbformat_minor": 4
}

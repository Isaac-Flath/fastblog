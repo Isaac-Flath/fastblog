{
 "cells": [
  {
   "cell_type": "markdown",
   "metadata": {},
   "source": [
    "# Elimination with Matrices (18.06_L2)\n",
    "> Linear Algebra - An introduction to Elimination (solving systems of equations)\n",
    "\n",
    "- toc: true \n",
    "- badges: true\n",
    "- comments: true\n",
    "- author: Isaac Flath\n",
    "- categories: [Linear Algebra]"
   ]
  },
  {
   "cell_type": "markdown",
   "metadata": {},
   "source": [
    "# Motivation\n",
    "\n",
    "One of my goals is to understand more deeply what Neural Networks are doing.  Another is to have an easier time understanding and implementing cutting edge academic papers.  In order to work toward those goals, I am revisiting the Math behind Neural Networks.  This time my goal is to understand intuitively every piece of the material forward and backward - rather than to pass a course on a deadline.\n",
    "\n",
    "This blog post will be my notes about Lecture 2 from the following course:\n",
    "\n",
    "Gilbert Strang. 18.06 Linear Algebra. Spring 2010. Massachusetts Institute of Technology: MIT OpenCourseWare, https://ocw.mit.edu. License: Creative Commons BY-NC-SA."
   ]
  },
  {
   "cell_type": "markdown",
   "metadata": {},
   "source": [
    "# Goal\n",
    "\n",
    "The goal is to solve N equations with N unknowns, just like it was with lecture 1.  In the first Lecture it was about understanding how to solve them intuitively with linear combinations and matrix multiplication.  In reality, that is not a scalable choice when you get to higher and higher dimensions.  We need to be able to express these concepts in matrices and be more comfortable with that language and operations.."
   ]
  },
  {
   "cell_type": "markdown",
   "metadata": {},
   "source": [
    "# Matrix Form\n",
    "\n",
    "As a recap, we can express a system of equations by listing the equations.  x\n",
    "\n",
    "$x+2y+z=2$\n",
    "\n",
    "$3x+8y+z=12$\n",
    "\n",
    "$4y+z=2$\n",
    "\n",
    "We can write the same thing in matrix form using the formula $Ax=b$.  The matrix A is from the system of equation above.\n",
    "\n",
    "$A = \\begin{bmatrix}1&2&1\\\\3&8&1\\\\0&4&1\\end{bmatrix}$\n",
    "\n"
   ]
  },
  {
   "cell_type": "markdown",
   "metadata": {},
   "source": [
    "# Elimination\n",
    "\n",
    "The general idea in elimination is to isolate variables so we can solve the equation.  For example, if we have 0x + 0y + 1z = 10, it is very easy to solve for z.  We can then plug it into another equation in the series that has z and 1 other unknown to get another value, and so on and so forth."
   ]
  },
  {
   "cell_type": "markdown",
   "metadata": {},
   "source": [
    "## $E_{21}$\n",
    "\n",
    "We are going to start by eliminating the first variable in the second row.  Row 2, column 1.  This would leave the second row with only 2 unknowns.\n",
    "\n",
    "The way we do this is we subtract row 1 from row 2.  If we substract 3 * 1 from 3, we get 0, so 3 will be the multiplier.\n",
    "\n",
    "$\\begin{bmatrix}1&0&0\\\\-3&1&0\\\\0&0&1\\end{bmatrix}\n",
    "\\begin{bmatrix}1&2&1\\\\3&8&1\\\\0&4&1\\end{bmatrix}\n",
    "=\\begin{bmatrix}1&2&1\\\\0&2&-2\\\\0&4&1\\end{bmatrix}$\n"
   ]
  },
  {
   "cell_type": "markdown",
   "metadata": {},
   "source": [
    "## $E_{31}$\n",
    "\n",
    "We then move on to row 3, column 1.  Lucky for us it's already 0 so we can skip this step"
   ]
  },
  {
   "cell_type": "markdown",
   "metadata": {},
   "source": [
    "## $E_{32}$\n",
    "\n",
    "We now move on to row 3, column 2.  If we can get this to 0, then we have 1 unknown in that column.  That's what we want as that's easily solvable. \n",
    "\n",
    "$\\begin{bmatrix}1&0&0\\\\0&1&0\\\\0&-2&1\\end{bmatrix}\n",
    "\\begin{bmatrix}1&2&1\\\\0&2&-2\\\\0&4&1\\end{bmatrix}\n",
    "=\\begin{bmatrix}1&2&1\\\\0&2&-2\\\\0&0&5\\end{bmatrix}$"
   ]
  },
  {
   "cell_type": "markdown",
   "metadata": {},
   "source": [
    "## How can this fail?\n",
    "\n",
    "A 0 cannot be in one of the pivot spots.  The pivot positions are the diagonals.  If that happens, elimination will fail.  If you think about it, a  0 being in the pivot spot means that the left side of the equation is 0.  Either the right side is also 0 and it gives you no information, or the right side is not 0 and there is no solution (ie 2 = 0 is False).\n",
    "\n",
    "Of course, there are some tricks that can be added to minimize failures.  The most common of these are row exchanges.  By swapping the order of the rows, you can potentially solve an equation that would have failed in the original order.\n",
    "\n",
    "For example, if I were to exchange the 2nd and 3rd rows I would multiply by the following matrix.\n",
    "\n",
    "$\\begin{bmatrix}1&0&0\\\\0&0&1\\\\0&1&0\\end{bmatrix}$\n",
    "\n"
   ]
  },
  {
   "cell_type": "markdown",
   "metadata": {},
   "source": [
    "# Back Substitution\n",
    "\n",
    "Let's recap the steps that were taken.  We started with A and through elimination in 2 steps we ended with a new matrix.\n",
    "\n",
    "$A => \\begin{bmatrix}1&2&1\\\\3&8&1\\\\0&4&1\\end{bmatrix} => \\begin{bmatrix}1&2&1\\\\0&2&-2\\\\0&4&1\\end{bmatrix} => \\begin{bmatrix}1&2&1\\\\0&2&-2\\\\0&0&5\\end{bmatrix} => U$\n",
    "\n"
   ]
  },
  {
   "cell_type": "markdown",
   "metadata": {},
   "source": [
    "## Finish the Equation\n",
    "\n",
    "You may have realized these matrices represented the left side of the equation.  You may have wondered how we can modify the left side of the equation while leaving the right side alone?  The answer is that we cannot.  What is done on the left side must be applied to the right side.  Let's do that now."
   ]
  },
  {
   "cell_type": "markdown",
   "metadata": {},
   "source": [
    "We have done 2 transformations.\n",
    "\n",
    "1. The first transformation was subtracting 3 of the first row from the second.\n",
    "1. The second transformation was subracting 2 of the second row from the third.\n",
    "\n",
    "Let's do that to the the right side\n",
    "\n",
    "b => $\\begin{bmatrix}2\\\\12\\\\2\\end{bmatrix} => \\begin{bmatrix}2\\\\6\\\\2\\end{bmatrix} =>\n",
    "\\begin{bmatrix}2\\\\6\\\\-10\\end{bmatrix} => c$"
   ]
  },
  {
   "cell_type": "markdown",
   "metadata": {},
   "source": [
    "Let's put the left and right side of the equations together to see what it looks like.\n",
    "\n",
    "$Ux = C$\n",
    "\n",
    "$\\begin{bmatrix}1&2&1\\\\0&2&-2\\\\0&0&5\\end{bmatrix}\\begin{bmatrix}x\\\\y\\\\z\\end{bmatrix}=\\begin{bmatrix}2\\\\6\\\\-10\\end{bmatrix}$"
   ]
  },
  {
   "cell_type": "markdown",
   "metadata": {},
   "source": [
    "# Final Solution"
   ]
  },
  {
   "cell_type": "markdown",
   "metadata": {},
   "source": [
    "## Intuitive Solution"
   ]
  },
  {
   "cell_type": "markdown",
   "metadata": {},
   "source": [
    "Great!  Let's translate the $Ux=C$ matrix above back to our systems of equations view just to see if we can see how this transformation helps us.\n",
    "\n",
    "$x + 2y + z = 2$\n",
    "\n",
    "$2y - 2z = 6$\n",
    "\n",
    "$5z = -10$"
   ]
  },
  {
   "cell_type": "markdown",
   "metadata": {},
   "source": [
    "When we look at it here, we can solve them with some simple algebra starting from the bottom equation.\n",
    "\n",
    "$5z = -10 \\;\\;\\;\\mathbf{=>}\\;\\;\\; z = -10/5 \\;\\;\\;\\mathbf{=>}\\;\\;\\; z = -2$ \n",
    "\n",
    "$2y - 2z = 6 \\;\\;\\;\\mathbf{=>}\\;\\;\\; 2y - 2(-2) = 6 \\;\\;\\;\\mathbf{=>}\\;\\;\\; 2y + 4 = 6 \\;\\;\\;\\mathbf{=>}\\;\\;\\; 2y = 2 \\;\\;\\;\\mathbf{=>}\\;\\;\\; y = 1$\n",
    "\n",
    "$x+2y+z=2 \\;\\;\\;\\mathbf{=>}\\;\\;\\;x+2-2=2$$x+2y+z=2 \\;\\;\\;\\mathbf{=>}\\;\\;\\;x=2$"
   ]
  },
  {
   "cell_type": "markdown",
   "metadata": {},
   "source": [
    "## Matrix Solution\n",
    "\n",
    "So first we should ask if we have an intuitive solution, why bother with doing the whole thing in matrix format?  Isn't it the same thing?\n",
    "\n",
    "And yes, we will be doing the same thing.  The reason is scalability and ability to transfer to N equation and N unknowns.  There's a limit to what can be done by hand, and matrix form allows for easier scalability."
   ]
  },
  {
   "cell_type": "markdown",
   "metadata": {},
   "source": [
    "### Recap\n",
    "\n",
    "We did several steps intuitively.  Let's recap our elimination steps from above \n",
    "\n",
    "\n",
    "$E_{21}$ step\n",
    "$\\begin{bmatrix}1&0&0\\\\-3&1&0\\\\0&0&1\\end{bmatrix}\n",
    "\\begin{bmatrix}1&2&1\\\\3&8&1\\\\0&4&1\\end{bmatrix}\n",
    "=\\begin{bmatrix}1&2&1\\\\0&2&-2\\\\0&4&1\\end{bmatrix}$\n",
    "\n",
    "$E_{32}$ step\n",
    "$\\begin{bmatrix}1&0&0\\\\0&1&0\\\\0&-2&1\\end{bmatrix}\n",
    "\\begin{bmatrix}1&2&1\\\\0&2&-2\\\\0&4&1\\end{bmatrix}\n",
    "=\\begin{bmatrix}1&2&1\\\\0&2&-2\\\\0&0&5\\end{bmatrix}$"
   ]
  },
  {
   "cell_type": "markdown",
   "metadata": {},
   "source": [
    "### Simplify into 1 step\n",
    "\n",
    "Great!  Now let's just combine these so we only have 1 equation.\n",
    "\n",
    "$E_{21}E_{32}A=U$\n",
    "$\\begin{bmatrix}1&0&0\\\\0&1&0\\\\0&-2&1\\end{bmatrix}\n",
    "\\begin{bmatrix}1&0&0\\\\-3&1&0\\\\0&0&1\\end{bmatrix}\n",
    "\\begin{bmatrix}1&2&1\\\\3&8&1\\\\0&4&1\\end{bmatrix}=\n",
    "\\begin{bmatrix}1&2&1\\\\0&2&-2\\\\0&0&5\\end{bmatrix}\n",
    "$\n",
    "\n",
    "Now let's simplify this by multiplying and combining my $E_{21}$ and $E_{31}$ matrices together.  We will call the result $E$"
   ]
  },
  {
   "cell_type": "markdown",
   "metadata": {},
   "source": [
    "$E_{21}E_{32}=E$\n",
    "$\\begin{bmatrix}1&0&0\\\\0&1&0\\\\0&-2&1\\end{bmatrix}\n",
    "\\begin{bmatrix}1&0&0\\\\-3&1&0\\\\0&0&1\\end{bmatrix} = \n",
    "\\begin{bmatrix}1&0&0\\\\-3&1&0\\\\6&-2&1\\end{bmatrix}$\n",
    "\n",
    "Great!  Now we can use this to simplify our formula.\n",
    "\n",
    "$EA=U$\n",
    "$\\begin{bmatrix}1&0&0\\\\-3&1&0\\\\6&-2&1\\end{bmatrix}\n",
    "\\begin{bmatrix}1&2&1\\\\3&8&1\\\\0&4&1\\end{bmatrix}=\n",
    "\\begin{bmatrix}1&2&1\\\\0&2&-2\\\\0&0&5\\end{bmatrix}$"
   ]
  }
 ],
 "metadata": {
  "kernelspec": {
   "display_name": "Python 3",
   "language": "python",
   "name": "python3"
  },
  "language_info": {
   "codemirror_mode": {
    "name": "ipython",
    "version": 3
   },
   "file_extension": ".py",
   "mimetype": "text/x-python",
   "name": "python",
   "nbconvert_exporter": "python",
   "pygments_lexer": "ipython3",
   "version": "3.7.4"
  }
 },
 "nbformat": 4,
 "nbformat_minor": 4
}

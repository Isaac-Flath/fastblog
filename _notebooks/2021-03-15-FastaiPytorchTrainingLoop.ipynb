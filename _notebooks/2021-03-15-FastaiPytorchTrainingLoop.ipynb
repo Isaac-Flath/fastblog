{
 "cells": [
  {
   "cell_type": "markdown",
   "id": "proud-tract",
   "metadata": {},
   "source": [
    "# Fastai with a Pytorch Training Loop\n",
    "> Use fastai with a pytorch training loop\n",
    "\n",
    "- toc: true\n",
    "- badges: true\n",
    "- comments: true\n",
    "- author: Isaac Flath\n",
    "- categories: [Deep Learning]"
   ]
  },
  {
   "cell_type": "markdown",
   "id": "linear-australian",
   "metadata": {},
   "source": [
    "This post is inspired by [Zach Mueller's](https://twitter.com/TheZachMueller) blog on [Pytorch to Fastai, Bridging the Gap](https://muellerzr.github.io/fastblog/2021/02/14/Pytorchtofastai.html).  I read that post and thought it was a fantastic illustration of how you can switch out components of fastai with pytorch as needed so you can do low level customization anytime you want.  I am writing this post to expand on Zach's work.\n",
    "\n",
    "Often a complaint about fastai is \"I need access to the training loop and fastai doesn't allow this\".   I want to show that that statement is just not true.  Zach's post demonstrated how to use pytorch components in a fastai training loop seamlessly.  This post is going to demonstrate the inverse is also just as easy.  Said another way, this post will demonstrate creating a fastai learner (without any pytorch) and then using that in a pure pytorch training loop. \n",
    "\n",
    "Of course, most of the time you would use callbacks to modify the training loop.  But this isn't a fastai requirement and fastai doesn't force you to do so.  There may be some instances where that's not desirable.  For example, I was working with CycleGAN models which has 2 generators and 2 discriminators.  While you could find a way to use callbacks to make that work in the fastai training loop, I found it easier to just have a custom pytorch training loop.  As with every other piece of fastai, switching the fastai bits out for pytorch is seamless so that's no problem."
   ]
  },
  {
   "cell_type": "code",
   "execution_count": 1,
   "id": "global-campbell",
   "metadata": {},
   "outputs": [],
   "source": [
    "from fastai.vision.all import *"
   ]
  },
  {
   "cell_type": "markdown",
   "id": "executed-harris",
   "metadata": {},
   "source": [
    "# Create the Fastai Learner\n",
    "\n",
    "This section will create everything needed to train a model model.  First, we start with the dataloaders."
   ]
  },
  {
   "cell_type": "code",
   "execution_count": 2,
   "id": "challenging-dominant",
   "metadata": {},
   "outputs": [],
   "source": [
    "# Download data\n",
    "path = untar_data(URLs.CIFAR)"
   ]
  },
  {
   "cell_type": "code",
   "execution_count": 3,
   "id": "broad-symposium",
   "metadata": {},
   "outputs": [
    {
     "data": {
      "image/png": "[encoded data removed]",
      "text/plain": [
       "<Figure size 648x216 with 3 Axes>"
      ]
     },
     "metadata": {
      "needs_background": "light"
     },
     "output_type": "display_data"
    }
   ],
   "source": [
    "# Create Dataloaders\n",
    "dls = ImageDataLoaders.from_folder(path,valid_pct=0.2)\n",
    "dls.show_batch(max_n=3)"
   ]
  },
  {
   "cell_type": "markdown",
   "id": "monetary-collins",
   "metadata": {},
   "source": [
    "Next, we ceate the fastai learner. \n",
    "\n",
    "You may notice I am not specifying a scheduler, optimizer, or loss function.  Because of that it will use fastai's defaults.    We'll use all of that fastai goodness in the pytorch training loop.\n",
    "\n",
    ">Note: Of course, you can specify any of these components more explicitly using fastai.  Or you can swap them out for pure pytorch components as demonstrated in [Zach's blog post](https://muellerzr.github.io/fastblog/2021/02/14/Pytorchtofastai.html). "
   ]
  },
  {
   "cell_type": "code",
   "execution_count": 4,
   "id": "connected-convention",
   "metadata": {},
   "outputs": [],
   "source": [
    "learn = cnn_learner(dls,resnet18)"
   ]
  },
  {
   "cell_type": "markdown",
   "id": "large-bobby",
   "metadata": {},
   "source": [
    "# Training\n",
    "\n",
    "Great!  We've got all we need to train a model using fastai, but let's do it in pytorch instead.  This code follows the the training loop in the [pytorch tutorial](https://pytorch.org/tutorials/beginner/blitz/cifar10_tutorial.html).  For more details check out that tutorial.  Naturally, you can add anything custom here just as you would in pytorch (because what you see below is pytorch).\n",
    "\n",
    "+ `learn.dls.train` is the fastai train dataloader we defined above.\n",
    "+ `learn.opt` is the optimizer in the fastai learner.\n",
    "+ `learn.loss_func` is the loss function in the fastai learner.\n",
    "+ `learn.model` is the model in the fastai learner.  \n",
    "\n",
    "All that was defined by fastai above and we can simply call them directly in a pytorch training loop.\n",
    "\n",
    ">Note: To use the fastai training loop you would do use something like `learn.fine_tune` or `learn.fit_one_cycle`.  This is doing a pytorch training loop instead."
   ]
  },
  {
   "cell_type": "code",
   "execution_count": 5,
   "id": "occupational-greene",
   "metadata": {},
   "outputs": [
    {
     "name": "stdout",
     "output_type": "stream",
     "text": [
      "[1,   100] loss: 1.827\n",
      "[1,   200] loss: 1.383\n",
      "[1,   300] loss: 1.247\n",
      "[1,   400] loss: 1.120\n",
      "[1,   500] loss: 1.040\n",
      "[1,   600] loss: 1.010\n",
      "[1,   700] loss: 0.984\n",
      "[2,   100] loss: 0.867\n",
      "[2,   200] loss: 0.899\n",
      "[2,   300] loss: 0.910\n",
      "[2,   400] loss: 0.879\n",
      "[2,   500] loss: 0.860\n",
      "[2,   600] loss: 0.851\n",
      "[2,   700] loss: 0.831\n"
     ]
    }
   ],
   "source": [
    "learn.model.to('cuda')\n",
    "\n",
    "for epoch in range(2):\n",
    "\n",
    "    running_loss = 0.0\n",
    "    for i, data in enumerate(learn.dls.train, 0): \n",
    "        inputs, labels = data\n",
    "        \n",
    "        learn.opt.zero_grad()\n",
    "        \n",
    "        outputs = learn.model(inputs)\n",
    "        loss = learn.loss_func(outputs, labels)\n",
    "        loss.backward()\n",
    "        learn.opt.step()\n",
    "        \n",
    "        # print statistics\n",
    "        running_loss += loss.item()\n",
    "        if i % 100 == 99:    # print every 2000 mini-batches\n",
    "            print('[%d, %5d] loss: %.3f' %\n",
    "                  (epoch + 1, i + 1, running_loss / 100))\n",
    "            running_loss = 0.0        "
   ]
  },
  {
   "cell_type": "markdown",
   "id": "trying-breakdown",
   "metadata": {},
   "source": [
    "# Conclusion\n",
    "\n",
    "If you need to something custom pure pytorch thing in fastai you can.  It really doesn't matter if that custom thing is in the training loop, dataloaders, optimizers, loss function, or something else - it all integrates with pytorch seamlessly.\n",
    "\n",
    "For most things I reccomend getting comfortable and using the powerful fastai callback system.  But in situations when you need or want pytorch - go for it!"
   ]
  },
  {
   "cell_type": "code",
   "execution_count": null,
   "id": "affected-ladder",
   "metadata": {},
   "outputs": [],
   "source": []
  }
 ],
 "metadata": {
  "kernelspec": {
   "display_name": "Python 3",
   "language": "python",
   "name": "python3"
  },
  "language_info": {
   "codemirror_mode": {
    "name": "ipython",
    "version": 3
   },
   "file_extension": ".py",
   "mimetype": "text/x-python",
   "name": "python",
   "nbconvert_exporter": "python",
   "pygments_lexer": "ipython3",
   "version": "3.6.10"
  }
 },
 "nbformat": 4,
 "nbformat_minor": 5
}

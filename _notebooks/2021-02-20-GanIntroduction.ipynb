{
 "cells": [
  {
   "cell_type": "markdown",
   "id": "quiet-study",
   "metadata": {},
   "source": [
    "# GAN Basics\n",
    "> Summarizing the foundational concepts relating to GANs\n",
    "\n",
    "- toc: true\n",
    "- badges: true\n",
    "- comments: true\n",
    "- author: Isaac Flath\n",
    "- categories: [Deep Learning]"
   ]
  },
  {
   "cell_type": "markdown",
   "id": "involved-parker",
   "metadata": {},
   "source": [
    "# Purpose\n",
    "\n",
    "This blog is tagetted to people wanting a general intuition about GANs.  This is not going to cover how to code one or build one, but will talk about the most basic high level concepts to understand.\n",
    "\n",
    "You do not need to understand GANs prior to reading this post.  I do assume that you generally are familiar with modeling."
   ]
  },
  {
   "cell_type": "markdown",
   "id": "controversial-couple",
   "metadata": {},
   "source": [
    "# What is a GAN and what can it do?\n",
    "\n",
    "A GAN is a Generative Adverserial Network.  They excel in creating data.  Let's take a look at a few examples:"
   ]
  },
  {
   "cell_type": "markdown",
   "id": "broke-carpet",
   "metadata": {},
   "source": [
    "## A GAN can enhance images\n",
    "\n",
    "Google Brain did research to show how GANs can be used to enhance images.  The left super blurry unrecognizable pictures were given to a GAN.  The Middle column is what the GAN made when enhancing the image.  The right column is what the image should look like if the GAN was perfect.\n",
    "\n",
    "![Image Enhancement](my_icons/SuperEnhancement.jpg)"
   ]
  },
  {
   "cell_type": "markdown",
   "id": "combined-place",
   "metadata": {},
   "source": [
    "## A GAN can change image style\n",
    "\n",
    "We can also transfer images from one style to another.  Whether that's changing video of a horse to a zerbra or combining photos with art, [this medium aricle](https://medium.com/@purnasaigudikandula/artistic-neural-style-transfer-with-pytorch-1543e08cc38f) shows a cool example!\n",
    "\n",
    "![Dog Style Transfer](my_icons/DogStyleTransfer.jpeg)\n"
   ]
  },
  {
   "cell_type": "markdown",
   "id": "subjective-label",
   "metadata": {},
   "source": [
    "## A GAN can create new images\n",
    "\n",
    "In the paper [Progressive Growing of GANs for Improved Quality, Stability, and Variation](https://arxiv.org/pdf/1710.10196.pdf), NVIDIA showed the capability of GANs to create realistic super resolution photos of people that do not exist.  These are fictional people made up by the GAN.\n",
    "\n",
    "![Super Resolution Images](my_icons/SuperResolution.png)\n"
   ]
  },
  {
   "cell_type": "markdown",
   "id": "fuzzy-reducing",
   "metadata": {},
   "source": [
    "## A GAN can help you draw\n",
    "\n",
    "NVIDIA again shows a really cool video of how basic sketches cna be turned into realistic photos.  I can imagine how this could help people create art, visualize designs, and more!\n",
    "\n",
    "> youtube: https://www.youtube.com/watch?v=p5U4NgVGAwg\n"
   ]
  },
  {
   "cell_type": "markdown",
   "id": "alien-discovery",
   "metadata": {},
   "source": [
    "## A GAN can compose music\n",
    "\n",
    "Another example is this song that was composed by AI.  The lyrics is a person, but the instrumentation is AI - a great example of Machine-Human collaboration.  You can see the GAN understood basic musical phrasing, hits, understood it can build to hits and go quiet for a couple beats before a large hit to add impact.  If I didn't know, I wouldn't have realized is was using AI\n",
    "\n",
    "> youtube: https://www.youtube.com/watch?v=XUs6CznN8pw"
   ]
  },
  {
   "cell_type": "markdown",
   "id": "organic-object",
   "metadata": {},
   "source": [
    "# How Does it Work?\n",
    "\n",
    "This is more complex than your average Neural Network because it is relying on 2 (or more) Neural Networks training in conjunction.  You have 2 models with different roles:\n",
    "\n",
    "The Critic is the quality gauge on the Generator while the generator is what's actually producing the data.  Let's look at a summary of each of those.\n",
    "\n",
    "![Critic Generator Summary](my_icons/CriticGenerator.png)"
   ]
  },
  {
   "cell_type": "markdown",
   "id": "allied-lemon",
   "metadata": {},
   "source": [
    "## How they train together\n",
    "\n",
    "There is a big loop where they pass information back and forth an dlearn.  Here's generally how it works\n",
    "\n",
    "![GAN Training Loop](my_icons/GANTrainingLoop.png)"
   ]
  },
  {
   "cell_type": "markdown",
   "id": "engaged-warner",
   "metadata": {},
   "source": [
    "# First Challenges\n",
    "\n"
   ]
  },
  {
   "cell_type": "markdown",
   "id": "aboriginal-species",
   "metadata": {},
   "source": [
    "## Co-learning\n",
    "\n",
    "As these models learn together they need to be evenly match in terms of skill.  This can be especially challenging because the critic has a much easier job.  Think about it.  You paint a fake Monet and I will determine whether it's a real monet or a fake.  Who do you think will be more competent at their task?  Clearly painting the monet is the much harder job.\n",
    "\n",
    "So what can we do about it?  The siimplest 2 appraoches are:\n",
    "1. Set how many times the generator gets updated vs the critic.\n",
    "1. Set the learning rates different for the generator vs the critic\n",
    "\n"
   ]
  },
  {
   "cell_type": "markdown",
   "id": "split-orleans",
   "metadata": {},
   "source": [
    "## Mode Collapse\n",
    "\n",
    "Mode collapse happens when the generator finds a weakness in the crtic and exploits it.  For example, the generator might do really well with golden retrievers - so rather than making all types of dogs is just learns to make lots of golden retrievors.\n",
    "\n"
   ]
  },
  {
   "cell_type": "markdown",
   "id": "shared-weather",
   "metadata": {},
   "source": [
    "# Improvements & Tweaks\n",
    "\n",
    "What I have covered above is simple data generation in an unsupervised manner.  There's several modification that can be made to let these GANs do fancier things - and Ill briefly touch on two of those here.\n",
    "\n",
    "## Conditional GANs\n",
    "\n",
    "A conditional GAN is where you can tell it what kind of image you want.  For example if you are generating different dog breeds, you tell the gan you want a specific breed (ie Golden Retriever).  The way this works:\n",
    "\n",
    "1. The Generator is given a specific class to generate data for.\n",
    "1. The Critic determins whether is is real or fake data for that class.  For example rather than \"Predict if this is a real dog or not\" it's \"Predict if this is a real golden retriever or not\".  In order to fool the critic, the generator now has to not just create a dog - but the right species of dog.\n",
    "\n",
    "## Controllable GANs\n",
    "\n",
    "A Controllable GAN allows you to control different aspects of the image.  For example, I want to be able to take an image and tell it to generate the same image but add a beard.  Or generate the same image but make the person look older.  \n",
    "\n",
    "A bit of background and how it's accomplished:  A generator creates data from random noise vectors.  These random noise vectors can be thought of as random seeds in a sense.  If I give the generator the exact same vector of random numbers, it will generate the exact same data.  So those random number translate to output features in the data, so you can figure out how they map and then tweak away!  Now, this is much more complicated to do than I am making it sound and I am skimming over a lot of details and challenges, but that's the idea.\n",
    "\n",
    "I won't dive into the details in this post and all the challenges, but feel free to reach out if you're interested and I can do a post on this specifically.\n",
    "\n",
    "Here's an example of what Photoshop is working on when it comes to controllable GANs.\n",
    "\n",
    ">youtube: https://www.youtube.com/watch?v=iJs_nqu8P08"
   ]
  },
  {
   "cell_type": "code",
   "execution_count": null,
   "id": "ecological-frame",
   "metadata": {},
   "outputs": [],
   "source": []
  }
 ],
 "metadata": {
  "kernelspec": {
   "display_name": "Python 3",
   "language": "python",
   "name": "python3"
  },
  "language_info": {
   "codemirror_mode": {
    "name": "ipython",
    "version": 3
   },
   "file_extension": ".py",
   "mimetype": "text/x-python",
   "name": "python",
   "nbconvert_exporter": "python",
   "pygments_lexer": "ipython3",
   "version": "3.6.10"
  }
 },
 "nbformat": 4,
 "nbformat_minor": 5
}

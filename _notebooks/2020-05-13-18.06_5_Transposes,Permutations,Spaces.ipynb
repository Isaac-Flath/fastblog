{
 "cells": [
  {
   "cell_type": "markdown",
   "metadata": {},
   "source": [
    "# Transposes, Permutations, and Spaces (18.06_L5)\n",
    "> Linear Algebra - Row Exchanges, spaces and subspaces, oh my!\n",
    "\n",
    "- toc: true \n",
    "- badges: true\n",
    "- comments: true\n",
    "- author: Isaac Flath\n",
    "- categories: [Linear Algebra]"
   ]
  },
  {
   "cell_type": "markdown",
   "metadata": {},
   "source": [
    "# Background\n",
    "\n",
    "In previous posts, we have gone over elimination to solve systems of equations.  However, every example workout out perfectly.  What I mean by that is we didn't have to do row exchanges.  Every example was in an order that worked on attempt 1.  In this post, we are going to talk about how to solve equations when this isn't the case. "
   ]
  },
  {
   "cell_type": "markdown",
   "metadata": {},
   "source": [
    "# Row Exchanges\n",
    "\n",
    "The way we do a row exchange in matrix language is that we multiply by a permutation matrix, which we will refer to as $P$.\n",
    "\n",
    "So how do we account for row exchanges?  Our previous equation of $A=LU$ does not account for row exchanges."
   ]
  },
  {
   "cell_type": "markdown",
   "metadata": {},
   "source": [
    "## Permutations\n",
    "\n",
    "A Permutation matrix executes our row exhanges.  This matrix $P$ is the identify matrix with reording rows. $A=LU$ becomes $PA=LU$.  We multipy a permutation matrix $P$ by $A$.\n",
    "\n",
    ">Note: The reason we were able to ignore $P$ in previous posts is because when you have no row exchanges, $P$ is just the identify matrix (no re-ordering)\n",
    "\n",
    "If we were to switch rows 2 and 3 in a 3x3 matrix, $P$ would be\n",
    "\n",
    "$$\\begin{bmatrix}1&0&0\\\\0&0&1\\\\0&1&0\\end{bmatrix}$$"
   ]
  },
  {
   "cell_type": "markdown",
   "metadata": {},
   "source": [
    "# Transposed Matrices\n",
    "\n",
    "A transposed matrix has rows and columns switched.  Naturally, symmetric matrices are unchanged by the transpose.\n",
    "\n",
    "A Matrix multiplied by it's transpose always gives a symmetric matrix.\n"
   ]
  },
  {
   "cell_type": "markdown",
   "metadata": {},
   "source": [
    "# Vector Spaces\n",
    "\n",
    "To have a vector space you need to be able to:\n",
    "\n",
    "1. Add any vectors and still be within the space\n",
    "1. Multiply by any number and stay within space\n",
    "1. Take any linear combination and stay within space\n",
    "\n",
    "## Examples\n",
    "\n",
    "$R^2$ is a vector space.  This is all real number vectors with 2 components.  Here's a few examples.\n",
    "\n",
    "$\\begin{bmatrix}3\\\\2\\end{bmatrix}$,\n",
    "$\\begin{bmatrix}0\\\\0\\end{bmatrix}$,\n",
    "$\\begin{bmatrix}\\pi\\\\e\\end{bmatrix}$\n",
    "\n",
    "$R^3$ is another vector space, but it contains all real 3D vectors.  Here's a few examples.\n",
    "\n",
    "$\\begin{bmatrix}3\\\\2\\\\5\\end{bmatrix}$,\n",
    "$\\begin{bmatrix}3\\\\2\\\\0\\end{bmatrix}$,\n",
    "$\\begin{bmatrix}0\\\\0\\\\0\\end{bmatrix}$,\n",
    "$\\begin{bmatrix}\\pi\\\\e\\\\5\\end{bmatrix}$\n",
    "\n",
    "$R^n$ is another with all column vectors with $n$ real components."
   ]
  },
  {
   "cell_type": "markdown",
   "metadata": {},
   "source": [
    "## Subspaces\n",
    "\n",
    "What if we just want a piece of $R^n$?  We still need to be able to add vectors and multiply it together.  So what are some subspaces?\n",
    "\n",
    "1. A line through $R^n$ that goes through the origin.  Any multiple of a point on a line is still on the line.  We need the origin because you can mutliply any vector by 0, which would give you the origin.\n",
    "1. Just the Origin is a subspace.  You can add it to itelf, multiply it by anything, and take any combination and you will stil lhave the origin.\n",
    "1. In $R^3$ and above, a plane through the origin is also a subspace."
   ]
  },
  {
   "cell_type": "markdown",
   "metadata": {},
   "source": [
    "## Subpace from a matrix\n",
    "\n",
    "$\\begin{bmatrix}1&3\\\\2&3\\\\4&1\\end{bmatrix}$\n",
    "\n",
    "Columns in $R^3$ and all their linear combinations are a subspace.  This subspace is a plane going through the origin"
   ]
  }
 ],
 "metadata": {
  "kernelspec": {
   "display_name": "Python 3",
   "language": "python",
   "name": "python3"
  },
  "language_info": {
   "codemirror_mode": {
    "name": "ipython",
    "version": 3
   },
   "file_extension": ".py",
   "mimetype": "text/x-python",
   "name": "python",
   "nbconvert_exporter": "python",
   "pygments_lexer": "ipython3",
   "version": "3.7.4"
  }
 },
 "nbformat": 4,
 "nbformat_minor": 4
}

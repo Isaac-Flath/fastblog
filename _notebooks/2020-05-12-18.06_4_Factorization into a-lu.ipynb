{
 "cells": [
  {
   "cell_type": "markdown",
   "metadata": {},
   "source": [
    "# Factorization into $A=LU$ (18.06_L4)\n",
    "> Linear Algebra - From $EA=U$ to $A=LU$\n",
    "\n",
    "- toc: true \n",
    "- badges: true\n",
    "- comments: true\n",
    "- author: Isaac Flath\n",
    "- categories: [Linear Algebra]"
   ]
  },
  {
   "cell_type": "markdown",
   "metadata": {},
   "source": [
    "# Inverse of $AB$, $A^T$"
   ]
  },
  {
   "cell_type": "markdown",
   "metadata": {},
   "source": [
    "## Review\n",
    "\n",
    "So we know from previous lectures/blog posts that $A$ time the inverse of $A$ gives the Identify Matrix $I$.  The Identify matrix is matrix equivilent to multiplying by 1, no change to the matrix.\n",
    "\n",
    "$AA^{-1}=I=A^{-1}A$"
   ]
  },
  {
   "cell_type": "markdown",
   "metadata": {},
   "source": [
    "## AB Inverse\n",
    "\n",
    "So if the Inverse of a Matrix time it's inverse gives the identity, how do we find the inverse of a product of matrices?  It turns out you just multiply the inverses of those matrices in reverse.\n",
    "\n",
    "Why in reverse?  If you put socks and shoes on, you wouldn't invert that process by taking socks off first.  You would invert it by doing the steps in reverse.  Shoes off first.\n",
    "\n",
    "A more technical understanding of this can be seen below:\n",
    "\n",
    "$ABB^{-1}A^{-1}= I$\n",
    "\n",
    "Let's multiply the middle piece first.  $BB^{-1}$  We know that equals the Identify matrix, and a matrix time the identity just gives that matrix.  So then what you are left wtih is $AA^{-1}=I$, which we also know is true.\n",
    "\n",
    "This work the other way as well:\n",
    "\n",
    "$B^{-1}(A^{-1}A)B = I$"
   ]
  },
  {
   "cell_type": "markdown",
   "metadata": {},
   "source": [
    "## $A^T$\n",
    "\n",
    "Transposes work in a similar way.  We can tak transposes in reverse to get the Identity Matrix.\n",
    "\n",
    "$AA^{-1}=I$\n",
    "\n",
    "$(A^{-1})^TA^T=I$"
   ]
  },
  {
   "cell_type": "markdown",
   "metadata": {},
   "source": [
    "# Converting to $A = LU$"
   ]
  },
  {
   "cell_type": "markdown",
   "metadata": {},
   "source": [
    "## 2x2 to $A=LU$"
   ]
  },
  {
   "cell_type": "markdown",
   "metadata": {},
   "source": [
    "Previously we learned that using Elimination we create these Elimination Matrices.  In this example of a 2x2 matrix:\n",
    "\n",
    "$E_{21}A = U => $\n",
    "$\\left[\n",
    "\\begin{array}{cc}\n",
    "1 & 0 \\\\\n",
    "-4 & 1 \\\\\n",
    "\\end{array}\n",
    "\\right]$\n",
    "$\\left[\n",
    "\\begin{array}{cc}\n",
    "2 & 1 \\\\\n",
    "8 & 7 \\\\\n",
    "\\end{array}\n",
    "\\right]$\n",
    "$=$\n",
    "$\\left[\n",
    "\\begin{array}{cc}\n",
    "2 & 1 \\\\\n",
    "0 & 3 \\\\\n",
    "\\end{array}\n",
    "\\right]$\n",
    "\n"
   ]
  },
  {
   "cell_type": "markdown",
   "metadata": {},
   "source": [
    "Now how do we get $A=LU$ from this.  We can see matrix $A$ and matrix $U$ are already in the right place, so lets leave those alone.  We can see that we need to turn Matrix $E_{21}$ into Matrix $L$ by switching it's sides.  The way we move a matrix from one side to the other is through the inverse of the matrix.\n",
    "\n",
    "$A=LU=>$\n",
    "$\\left[\n",
    "\\begin{array}{cc}\n",
    "2 & 1 \\\\\n",
    "8 & 7 \\\\\n",
    "\\end{array}\n",
    "\\right]$\n",
    "$=$\n",
    "$\\left[\n",
    "\\begin{array}{cc}\n",
    "1 & 0 \\\\\n",
    "4 & 1 \\\\\n",
    "\\end{array}\n",
    "\\right]$\n",
    "$\\left[\n",
    "\\begin{array}{cc}\n",
    "2 & 1 \\\\\n",
    "0 & 3 \\\\\n",
    "\\end{array}\n",
    "\\right]$\n",
    "\n",
    ">Note: $E_{21}A = U$ is just a different format of  $A=LU$.  In $A=LU$ you can see $L$ is just $E_{21}^{-1}$"
   ]
  },
  {
   "cell_type": "markdown",
   "metadata": {},
   "source": [
    "## 3x3 to $A = LU$\n",
    "\n",
    "As we saw in an earlier blog, when we do elimination of a 3x3 matrix we would get more Elmination matrices.  We are still working examples with no row exchanges.\n",
    "\n",
    "$$E_{32}E_{31}E_{21}A=U$$\n",
    "\n",
    "So how do we convert this into $A = LU$?  As we learned above, we can invert the product of matrices as well.  Let's apply that here with these matrices.\n",
    "\n",
    "$$A=E_{21}^{-1}E_{31}^{-1}E_{32}^{-1}U$$\n",
    "\n",
    "Well that doesn't look as nice to work with as $A = LU$.  So let's just simplify it by multiplying all the Elimination inverse matrices together.  Meaning L would be a product of these 3 inverse matrices.\n",
    "\n",
    "$$A=E^{-1}U=LU$$"
   ]
  },
  {
   "cell_type": "markdown",
   "metadata": {},
   "source": [
    "# $A=LU$ vs $EA=U$\n",
    "\n",
    "What's the point of taking the inverse.  It's the same formula mathamatrically, so why bother with this transformation.  Why $E^{-1}$ on the right and not just stay with $E$ on the left?  Let's do an example.\n",
    "\n",
    "$E_{32}E_{21}=E =>$\n",
    "$\\left[\n",
    "\\begin{array}{ccc}\n",
    "1 & 1 & 0 \\\\\n",
    "0 & 1 & 0 \\\\\n",
    "0 & -5 & 1\n",
    "\\end{array}\n",
    "\\right]$\n",
    "$\\left[\n",
    "\\begin{array}{ccc}\n",
    "1 & 0 & 0 \\\\\n",
    "-2 & 1 & 0 \\\\\n",
    "0 & 0 & 1\n",
    "\\end{array}\n",
    "\\right]$\n",
    "$=$\n",
    "$\\left[\n",
    "\\begin{array}{ccc}\n",
    "1 & 0 & 0 \\\\\n",
    "-2 & 1 & 0 \\\\\n",
    "10 & -5 & 1\n",
    "\\end{array}\n",
    "\\right]$\n",
    "\n",
    "$E_{21}^{-1}E_{32}^{-1}=E^{-1} =>$\n",
    "$\\left[\n",
    "\\begin{array}{ccc}\n",
    "1 & 0 & 0 \\\\\n",
    "2 & 1 & 0 \\\\\n",
    "0 & 0 & 1\n",
    "\\end{array}\n",
    "\\right]$\n",
    "$\\left[\n",
    "\\begin{array}{ccc}\n",
    "1 & 1 & 0 \\\\\n",
    "0 & 1 & 0 \\\\\n",
    "0 & 5 & 1\n",
    "\\end{array}\n",
    "\\right]$\n",
    "$=$\n",
    "$\\left[\n",
    "\\begin{array}{ccc}\n",
    "1 & 0 & 0 \\\\\n",
    "2 & 1 & 0 \\\\\n",
    "0 & 5 & 1\n",
    "\\end{array}\n",
    "\\right]$\n",
    "\n",
    ">Note: 2 and 5 were the multipliers that we used in our elinimation steps.\n",
    "\n",
    "We can see that with $E^{-1}$ has 2 and 5 in the matrix. So if there are no row exchanges L is just a record of what the multipliers were, which is very convenient.  Worded another way, with no row exchanges the multipliers go directly into L."
   ]
  }
 ],
 "metadata": {
  "kernelspec": {
   "display_name": "Python 3",
   "language": "python",
   "name": "python3"
  },
  "language_info": {
   "codemirror_mode": {
    "name": "ipython",
    "version": 3
   },
   "file_extension": ".py",
   "mimetype": "text/x-python",
   "name": "python",
   "nbconvert_exporter": "python",
   "pygments_lexer": "ipython3",
   "version": "3.7.4"
  }
 },
 "nbformat": 4,
 "nbformat_minor": 4
}

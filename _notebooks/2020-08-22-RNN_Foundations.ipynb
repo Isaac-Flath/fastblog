{
 "cells": [
  {
   "cell_type": "markdown",
   "metadata": {},
   "source": [
    "# RNN Foundations\n",
    "> What is an RNN?  How does NLP work?\n",
    "\n",
    "- toc: true \n",
    "- badges: true\n",
    "- comments: true\n",
    "- author: Isaac Flath\n",
    "- categories: [Neural Networks]"
   ]
  },
  {
   "cell_type": "code",
   "execution_count": 1,
   "metadata": {},
   "outputs": [],
   "source": [
    "from fastai.text.all import *"
   ]
  },
  {
   "cell_type": "markdown",
   "metadata": {},
   "source": [
    "# Credit Where Credit is Due\n",
    "\n",
    "The concept and techniques covered in this post are covered in much greater detail in Jeremy Howard and Sylvain Gugger's book.  If you like this post, you should buy the book as you'll probably like it even more!\n",
    "\n",
    "https://www.amazon.com/gp/product/1492045527/ref=ppx_yo_dt_b_asin_image_o08_s00?ie=UTF8&psc=1|"
   ]
  },
  {
   "cell_type": "markdown",
   "metadata": {},
   "source": [
    "# Data Setup"
   ]
  },
  {
   "cell_type": "markdown",
   "metadata": {},
   "source": [
    "### Get the Data"
   ]
  },
  {
   "cell_type": "code",
   "execution_count": 2,
   "metadata": {},
   "outputs": [
    {
     "data": {
      "text/plain": [
       "(#9998) ['one \\n','two \\n','three \\n','four \\n','five \\n','six \\n','seven \\n','eight \\n','nine \\n','ten \\n'...]"
      ]
     },
     "execution_count": 2,
     "metadata": {},
     "output_type": "execute_result"
    }
   ],
   "source": [
    "path = untar_data(URLs.HUMAN_NUMBERS)\n",
    "lines = L()\n",
    "with open(path/\"train.txt\") as f: lines += L(*f.readlines())\n",
    "with open(path/\"valid.txt\") as f: lines += L(*f.readlines())\n",
    "lines"
   ]
  },
  {
   "cell_type": "markdown",
   "metadata": {},
   "source": [
    "### Tokenization\n",
    "\n",
    "What is Tokenization?  Tokenization is about getting 'tokens' of language that have meaning.  A word could be a token as it has meaning.  A piece of punctuation could be a token as it has meaning.  If a work is in all capital letters that could be a token.  A portion of a word could be a token (ie dis) because a word beginning with dis has meaning.  There are many many ways to tokenize, for this post I will use the most simple approach.  That is, I will split based on spaces to make each word a token."
   ]
  },
  {
   "cell_type": "code",
   "execution_count": 3,
   "metadata": {},
   "outputs": [],
   "source": [
    "txt = ' . '.join([l.strip() for l in lines])"
   ]
  },
  {
   "cell_type": "code",
   "execution_count": 4,
   "metadata": {},
   "outputs": [
    {
     "data": {
      "text/plain": [
       "(#63095) ['one','.','two','.','three','.','four','.','five','.'...]"
      ]
     },
     "execution_count": 4,
     "metadata": {},
     "output_type": "execute_result"
    }
   ],
   "source": [
    "tokens = L(*txt.split(' ')); tokens"
   ]
  },
  {
   "cell_type": "markdown",
   "metadata": {},
   "source": [
    "### Numericalization\n",
    "\n",
    "Now that things are split into tokens, we need to start thinking about how to feed it to a Neural Network.  Neural Networks rely on multiplication and addition, and we can't do that with a word.  Somehow we need to convert these tokens to numbers.  That is what Numericalization is all about.  We will do this in a few steps:\n",
    "\n",
    "1. Get a unique list of all tokens (v)\n",
    "1. Assign a number to each of token (vocab)\n",
    "1. Replace tokens with numbers (nums)"
   ]
  },
  {
   "cell_type": "code",
   "execution_count": 5,
   "metadata": {},
   "outputs": [
    {
     "data": {
      "text/plain": [
       "23"
      ]
     },
     "execution_count": 5,
     "metadata": {},
     "output_type": "execute_result"
    }
   ],
   "source": [
    "# Get a unique list of all tokens (v)\n",
    "v = tokens.unique()\n",
    "\n",
    "# Assign a number to each of token (vocab)\n",
    "vocab = {v:i for i,v in enumerate(v)};\n",
    "\n",
    "# We can lookup the number associated with a token like this\n",
    "vocab['fifty']"
   ]
  },
  {
   "cell_type": "code",
   "execution_count": 6,
   "metadata": {},
   "outputs": [
    {
     "data": {
      "text/plain": [
       "(#63095) [0,1,2,1,3,1,4,1,5,1...]"
      ]
     },
     "execution_count": 6,
     "metadata": {},
     "output_type": "execute_result"
    }
   ],
   "source": [
    "# Replace tokens with numbers (nums)\n",
    "nums = L(vocab[tok] for tok in tokens); nums"
   ]
  },
  {
   "cell_type": "markdown",
   "metadata": {},
   "source": [
    "### Sequence Definition\n",
    "\n",
    "Now that we have tokens in the form of numbers, we need to create out inputs and outputs to the model.  For this we need to organize our data into dependent and independent variables.  Let's use the preceding 3 words to predict the next word.  Below, we see the same thing in 2 ways - one with tokens and one with numbers.  These are the same thing, just translating the tokens to numbers using the vocab above.\n",
    "\n",
    ">Note: Sequence Length (sl) will be 3, because we are using a sequence of 3 words to predict the next word."
   ]
  },
  {
   "cell_type": "code",
   "execution_count": 7,
   "metadata": {},
   "outputs": [
    {
     "data": {
      "text/plain": [
       "(#21031) [((#3) ['one','.','two'], '.'),((#3) ['.','three','.'], 'four'),((#3) ['four','.','five'], '.'),((#3) ['.','six','.'], 'seven'),((#3) ['seven','.','eight'], '.'),((#3) ['.','nine','.'], 'ten'),((#3) ['ten','.','eleven'], '.'),((#3) ['.','twelve','.'], 'thirteen'),((#3) ['thirteen','.','fourteen'], '.'),((#3) ['.','fifteen','.'], 'sixteen')...]"
      ]
     },
     "execution_count": 7,
     "metadata": {},
     "output_type": "execute_result"
    }
   ],
   "source": [
    "sl = 3\n",
    "\n",
    "# For example, we will use the tokens 'one','.', and 'two' to predict '.'\n",
    "L((tokens[i:i+sl], tokens[i+sl]) for i in range(0,len(tokens)-sl-1,sl))"
   ]
  },
  {
   "cell_type": "code",
   "execution_count": 8,
   "metadata": {},
   "outputs": [
    {
     "data": {
      "text/plain": [
       "(#21031) [(tensor([0, 1, 2]), 1),(tensor([1, 3, 1]), 4),(tensor([4, 1, 5]), 1),(tensor([1, 6, 1]), 7),(tensor([7, 1, 8]), 1),(tensor([1, 9, 1]), 10),(tensor([10,  1, 11]), 1),(tensor([ 1, 12,  1]), 13),(tensor([13,  1, 14]), 1),(tensor([ 1, 15,  1]), 16)...]"
      ]
     },
     "execution_count": 8,
     "metadata": {},
     "output_type": "execute_result"
    }
   ],
   "source": [
    "seqs = L((tensor(nums[i:i+sl]), nums[i+sl]) for i in range(0,len(nums)-sl-1,sl)); seqs"
   ]
  },
  {
   "cell_type": "markdown",
   "metadata": {},
   "source": [
    "### Dataloader\n",
    "\n",
    "Now we need to create out dataloader.  The Dataloader is just packaging it into batches, and not doing any tranformations or changes to the data.  What we saw above is what will be given to the model."
   ]
  },
  {
   "cell_type": "code",
   "execution_count": 9,
   "metadata": {},
   "outputs": [],
   "source": [
    "bs = 128\n",
    "cut = int(len(seqs) * 0.8)\n",
    "dls = DataLoaders.from_dsets(seqs[:cut],seqs[cut:],bs=bs, shuffle=False)"
   ]
  },
  {
   "cell_type": "code",
   "execution_count": 10,
   "metadata": {},
   "outputs": [],
   "source": [
    "dls2 = DataLoader(seqs[:cut],bs=bs, shuffle=False)\n",
    "dls3 = DataLoader(seqs[cut:],bs=bs, shuffle=False)\n",
    "\n",
    "dls4 = DataLoaders(dls3,dls3)"
   ]
  },
  {
   "cell_type": "markdown",
   "metadata": {},
   "source": [
    "# Language Model"
   ]
  },
  {
   "cell_type": "markdown",
   "metadata": {},
   "source": [
    "### Naive Model\n",
    "\n",
    "First, let's figure out a baseline for what is the best 'non-stupid' model we can come up with.  If a model can't beat this score, then it's not worth anything.\n",
    "\n",
    "The approach we will take will be to predict the most common token every time.  If we do that we get about a 15% accuracy. "
   ]
  },
  {
   "cell_type": "code",
   "execution_count": 11,
   "metadata": {},
   "outputs": [
    {
     "data": {
      "text/plain": [
       "(tensor(29), 'thousand', 0.15165200855716662)"
      ]
     },
     "execution_count": 11,
     "metadata": {},
     "output_type": "execute_result"
    }
   ],
   "source": [
    "n,counts = 0,torch.zeros(len(vocab))\n",
    "for x,y in dls.valid:\n",
    "    n += y.shape[0]\n",
    "    for i in range_of(vocab): counts[i] += (y==i).long().sum()\n",
    "idx = torch.argmax(counts)\n",
    "idx, v[idx.item()], counts[idx].item()/n"
   ]
  },
  {
   "cell_type": "markdown",
   "metadata": {},
   "source": [
    "### RNN Number 1\n",
    "\n",
    "##### Code\n",
    "\n",
    "We are going to make the simplest RNN we can.  Here's a quick explanation of the code below.\n",
    "\n",
    "```for i in range(sl):```\n",
    "Because we are feeding in a number of tokens based on our sequence length, sl, which was defined as 3.  We will have 3 steps, 1 per token.\n",
    "\n",
    "```h = h + self.i_h(x[:,i])```\n",
    "For each input token we will run our input to hidden function.  We are indexing to grab the column in our embedding matrix that corresponds with the token, and adding that. All this is doing is adding the embedding for the particular token. \n",
    "    \n",
    "```h = F.relu(self.h_h(h))```\n",
    "We then run our hidden to hidden function (h_h), which is a linear layer (y = wx + b).  We do a ReLu of that, which is just replacing any negative values with 0.\n",
    "    \n",
    "```return self.h_o(h)```\n",
    "We then run our hidden to output function (h_o), which is another linear layer, but it is outputing the prediction of which word is next.  Naturally, this is the size of our vocabulary.\n",
    "\n",
    "Wrap all that in a class and it looks like the below:"
   ]
  },
  {
   "cell_type": "code",
   "execution_count": 12,
   "metadata": {},
   "outputs": [],
   "source": [
    "class LM1(Module):\n",
    "    def __init__(self, vocab_sz, n_hidden):\n",
    "        self.i_h = nn.Embedding(vocab_sz, n_hidden)\n",
    "        self.h_h = nn.Linear(n_hidden, n_hidden)\n",
    "        self.h_o = nn.Linear(n_hidden,vocab_sz)\n",
    "        \n",
    "    def forward(self, x):\n",
    "        h = 0\n",
    "        for i in range(sl):\n",
    "            h = h + self.i_h(x[:,i])\n",
    "            h = F.relu(self.h_h(h))\n",
    "        return self.h_o(h)"
   ]
  },
  {
   "cell_type": "markdown",
   "metadata": {},
   "source": [
    "Now we can run it below and see that we get almost 50% accuracy before we overfit, which is great considering the most common token only appears 15% of the time."
   ]
  },
  {
   "cell_type": "code",
   "execution_count": 14,
   "metadata": {},
   "outputs": [
    {
     "data": {
      "text/html": [
       "<table border=\"1\" class=\"dataframe\">\n",
       "  <thead>\n",
       "    <tr style=\"text-align: left;\">\n",
       "      <th>epoch</th>\n",
       "      <th>train_loss</th>\n",
       "      <th>valid_loss</th>\n",
       "      <th>accuracy</th>\n",
       "      <th>time</th>\n",
       "    </tr>\n",
       "  </thead>\n",
       "  <tbody>\n",
       "    <tr>\n",
       "      <td>0</td>\n",
       "      <td>2.505863</td>\n",
       "      <td>2.136583</td>\n",
       "      <td>0.458046</td>\n",
       "      <td>00:00</td>\n",
       "    </tr>\n",
       "    <tr>\n",
       "      <td>1</td>\n",
       "      <td>1.602575</td>\n",
       "      <td>1.847033</td>\n",
       "      <td>0.480865</td>\n",
       "      <td>00:00</td>\n",
       "    </tr>\n",
       "    <tr>\n",
       "      <td>2</td>\n",
       "      <td>1.503249</td>\n",
       "      <td>1.727588</td>\n",
       "      <td>0.492275</td>\n",
       "      <td>00:00</td>\n",
       "    </tr>\n",
       "    <tr>\n",
       "      <td>3</td>\n",
       "      <td>1.436492</td>\n",
       "      <td>1.771485</td>\n",
       "      <td>0.410506</td>\n",
       "      <td>00:00</td>\n",
       "    </tr>\n",
       "  </tbody>\n",
       "</table>"
      ],
      "text/plain": [
       "<IPython.core.display.HTML object>"
      ]
     },
     "metadata": {},
     "output_type": "display_data"
    }
   ],
   "source": [
    "learn = Learner(dls, LM1(len(vocab), 64), loss_func=F.cross_entropy, metrics=accuracy)\n",
    "learn.fit_one_cycle(4, 1e-3)"
   ]
  },
  {
   "cell_type": "markdown",
   "metadata": {},
   "source": [
    "##### Tensors\n",
    "\n",
    "So what is it REALLY doing?  To understand that, I find it helpful to think about the matrix/tensor sizes at each step.  "
   ]
  },
  {
   "cell_type": "markdown",
   "metadata": {},
   "source": [
    "**Embeddings**\n",
    "\n",
    "Let's start with our input_hidden.  Our Embedding matrix is has 64 weights (n_hidden) for each token in our vocabulary.  So that looks like this:\n",
    "\n",
    "\n",
    "$\\underbrace{\n",
    "\\begin{bmatrix}\n",
    "\\cdots & \\cdots & \\cdots & \\cdots & \\cdots & \\cdots\\\\\n",
    "\\cdots & \\cdots & \\cdots & \\cdots & \\cdots & \\cdots\\\\\n",
    "\\end{bmatrix}}_{\\displaystyle 64-weights}\n",
    "\\left.\\vphantom{\\begin{bmatrix}\n",
    "\\cdots & \\cdots & \\cdots & \\cdots & \\cdots & \\cdots\\\\\n",
    "\\cdots & \\cdots & \\cdots & \\cdots & \\cdots & \\cdots\\\\\n",
    "\\end{bmatrix}}\\right\\}30-tokens$\n",
    "\n",
    "Now all the embedding layer does is get the correct columns.  So for the first word in the sequence we get the index, then look it up in the embedding matrix.  That 1 index location turns into the 64 weights.\n",
    "\n",
    "$\\underbrace{\n",
    "\\begin{bmatrix}\n",
    "\\cdots \\\\\n",
    "\\cdots \\\\ \n",
    "\\cdots \\\\\n",
    "\\cdots \\\\\n",
    "\\cdots \\\\\n",
    "\\cdots \\\\\n",
    "\\end{bmatrix}}_{\\displaystyle token-idx}\n",
    "\\left.\\vphantom{\\begin{bmatrix}\n",
    "\\cdots \\\\\n",
    "\\cdots \\\\ \n",
    "\\cdots \\\\\n",
    "\\cdots \\\\\n",
    "\\cdots \\\\\n",
    "\\cdots \\\\\n",
    "\\end{bmatrix}}\\right\\}128-bs$\n",
    "$==$\n",
    "lookup in embedding matrix\n",
    "$==>$\n",
    "$\\underbrace{\n",
    "\\begin{bmatrix}\n",
    "\\cdots & \\cdots & \\cdots & \\cdots\\\\\n",
    "\\cdots & \\cdots & \\cdots & \\cdots\\\\\n",
    "\\cdots & \\cdots & \\cdots & \\cdots\\\\\n",
    "\\cdots & \\cdots & \\cdots & \\cdots\\\\\n",
    "\\cdots & \\cdots & \\cdots & \\cdots\\\\\n",
    "\\cdots & \\cdots & \\cdots & \\cdots\\\\\n",
    "\\end{bmatrix}}_{\\displaystyle 64}\n",
    "\\left.\\vphantom{\\begin{bmatrix}\n",
    "\\cdots & \\cdots & \\cdots & \\cdots\\\\\n",
    "\\cdots & \\cdots & \\cdots & \\cdots\\\\\n",
    "\\cdots & \\cdots & \\cdots & \\cdots\\\\\n",
    "\\cdots & \\cdots & \\cdots & \\cdots\\\\\n",
    "\\cdots & \\cdots & \\cdots & \\cdots\\\\\n",
    "\\cdots & \\cdots & \\cdots & \\cdots\\\\\n",
    "\\end{bmatrix}}\\right\\}128$\n"
   ]
  },
  {
   "cell_type": "markdown",
   "metadata": {},
   "source": [
    "**Hidden Linear Layer**\n",
    "\n",
    "Next, we have out hidden_hidden.  We have our 128x64 matrix from our embedding lookup and we need to do a linear layer.\n",
    "\n",
    "$\\underbrace{\n",
    "\\begin{bmatrix}\n",
    "\\cdots & \\cdots & \\cdots & \\cdots\\\\\n",
    "\\cdots & \\cdots & \\cdots & \\cdots\\\\\n",
    "\\cdots & \\cdots & \\cdots & \\cdots\\\\\n",
    "\\cdots & \\cdots & \\cdots & \\cdots\\\\\n",
    "\\cdots & \\cdots & \\cdots & \\cdots\\\\\n",
    "\\cdots & \\cdots & \\cdots & \\cdots\\\\\n",
    "\\end{bmatrix}}_{\\displaystyle 64-weights}\n",
    "\\left.\\vphantom{\\begin{bmatrix}\n",
    "\\cdots & \\cdots & \\cdots & \\cdots\\\\\n",
    "\\cdots & \\cdots & \\cdots & \\cdots\\\\\n",
    "\\cdots & \\cdots & \\cdots & \\cdots\\\\\n",
    "\\cdots & \\cdots & \\cdots & \\cdots\\\\\n",
    "\\cdots & \\cdots & \\cdots & \\cdots\\\\\n",
    "\\cdots & \\cdots & \\cdots & \\cdots\\\\\n",
    "\\end{bmatrix}}\\right\\}128-bs$\n",
    "$\\underbrace{\n",
    "\\begin{bmatrix}\n",
    "\\cdots & \\cdots & \\cdots & \\cdots\\\\\n",
    "\\cdots & \\cdots & \\cdots & \\cdots\\\\\n",
    "\\cdots & \\cdots & \\cdots & \\cdots\\\\\n",
    "\\cdots & \\cdots & \\cdots & \\cdots\\\\\n",
    "\\end{bmatrix}}_{\\displaystyle 64}\n",
    "\\left.\\vphantom{\\begin{bmatrix}\n",
    "\\cdots & \\cdots & \\cdots & \\cdots\\\\\n",
    "\\cdots & \\cdots & \\cdots & \\cdots\\\\\n",
    "\\cdots & \\cdots & \\cdots & \\cdots\\\\\n",
    "\\cdots & \\cdots & \\cdots & \\cdots\\\\\n",
    "\\end{bmatrix}}\\right\\}64$\n",
    "$+$\n",
    "$\\underbrace{\n",
    "\\begin{bmatrix}\n",
    "\\cdots & \\cdots & \\cdots & \\cdots & \\cdots & \\cdots\\\\\n",
    "\\end{bmatrix}}_{\\displaystyle 64-bias}\n",
    "\\left.\\vphantom{\\begin{bmatrix}\n",
    "\\cdots & \\cdots & \\cdots & \\cdots & \\cdots & \\cdots\\\\\n",
    "\\end{bmatrix}}\\right\\}1$\n",
    "$=$\n",
    "$\\underbrace{\n",
    "\\begin{bmatrix}\n",
    "\\cdots & \\cdots & \\cdots & \\cdots\\\\\n",
    "\\cdots & \\cdots & \\cdots & \\cdots\\\\\n",
    "\\cdots & \\cdots & \\cdots & \\cdots\\\\\n",
    "\\cdots & \\cdots & \\cdots & \\cdots\\\\\n",
    "\\cdots & \\cdots & \\cdots & \\cdots\\\\\n",
    "\\cdots & \\cdots & \\cdots & \\cdots\\\\\n",
    "\\end{bmatrix}}_{\\displaystyle 64-weights}\n",
    "\\left.\\vphantom{\\begin{bmatrix}\n",
    "\\cdots & \\cdots & \\cdots & \\cdots\\\\\n",
    "\\cdots & \\cdots & \\cdots & \\cdots\\\\\n",
    "\\cdots & \\cdots & \\cdots & \\cdots\\\\\n",
    "\\cdots & \\cdots & \\cdots & \\cdots\\\\\n",
    "\\cdots & \\cdots & \\cdots & \\cdots\\\\\n",
    "\\cdots & \\cdots & \\cdots & \\cdots\\\\\n",
    "\\end{bmatrix}}\\right\\}128-bs$\n",
    "===ReLu - Replace all negatives with 0 ===>\n",
    "$\\underbrace{\n",
    "\\begin{bmatrix}\n",
    "\\cdots & \\cdots & \\cdots & \\cdots\\\\\n",
    "\\cdots & \\cdots & \\cdots & \\cdots\\\\\n",
    "\\cdots & \\cdots & \\cdots & \\cdots\\\\\n",
    "\\cdots & \\cdots & \\cdots & \\cdots\\\\\n",
    "\\cdots & \\cdots & \\cdots & \\cdots\\\\\n",
    "\\cdots & \\cdots & \\cdots & \\cdots\\\\\n",
    "\\end{bmatrix}}_{\\displaystyle 64-weights}\n",
    "\\left.\\vphantom{\\begin{bmatrix}\n",
    "\\cdots & \\cdots & \\cdots & \\cdots\\\\\n",
    "\\cdots & \\cdots & \\cdots & \\cdots\\\\\n",
    "\\cdots & \\cdots & \\cdots & \\cdots\\\\\n",
    "\\cdots & \\cdots & \\cdots & \\cdots\\\\\n",
    "\\cdots & \\cdots & \\cdots & \\cdots\\\\\n",
    "\\cdots & \\cdots & \\cdots & \\cdots\\\\\n",
    "\\end{bmatrix}}\\right\\}128-bs$"
   ]
  },
  {
   "cell_type": "markdown",
   "metadata": {},
   "source": [
    "And we do the above for however long our sequence is, in our case 3.  So for each token we do the above.  We start with 0 on the first loop, and each subsequence loop through we add onto that.\n",
    "\n",
    "**Ouput Linear Layer**\n",
    "\n",
    "We ended with a 128x64 matrix, which isn't exactly what we want.  We have 30 words, so we want to know which one of the 30 is most likely.  Specifically for each of the 128 items in our batch, we want 30 scores (1 for each word in our vocab).  So we do a similar stepp as our hidden linear layer, but adjust the number of weights so we end up with the matrix of the appropriate size.\n",
    "\n",
    "\n",
    "$\\underbrace{\n",
    "\\begin{bmatrix}\n",
    "\\cdots & \\cdots & \\cdots & \\cdots\\\\\n",
    "\\cdots & \\cdots & \\cdots & \\cdots\\\\\n",
    "\\cdots & \\cdots & \\cdots & \\cdots\\\\\n",
    "\\cdots & \\cdots & \\cdots & \\cdots\\\\\n",
    "\\cdots & \\cdots & \\cdots & \\cdots\\\\\n",
    "\\cdots & \\cdots & \\cdots & \\cdots\\\\\n",
    "\\end{bmatrix}}_{\\displaystyle 64-weights}\n",
    "\\left.\\vphantom{\\begin{bmatrix}\n",
    "\\cdots & \\cdots & \\cdots & \\cdots\\\\\n",
    "\\cdots & \\cdots & \\cdots & \\cdots\\\\\n",
    "\\cdots & \\cdots & \\cdots & \\cdots\\\\\n",
    "\\cdots & \\cdots & \\cdots & \\cdots\\\\\n",
    "\\cdots & \\cdots & \\cdots & \\cdots\\\\\n",
    "\\cdots & \\cdots & \\cdots & \\cdots\\\\\n",
    "\\end{bmatrix}}\\right\\}128-bs$\n",
    "$\\underbrace{\n",
    "\\begin{bmatrix}\n",
    "\\cdots & \\cdots\\\\\n",
    "\\cdots & \\cdots\\\\\n",
    "\\cdots & \\cdots\\\\\n",
    "\\cdots & \\cdots\\\\\n",
    "\\end{bmatrix}}_{\\displaystyle 30}\n",
    "\\left.\\vphantom{\\begin{bmatrix}\n",
    "\\cdots & \\cdots\\\\\n",
    "\\cdots & \\cdots\\\\\n",
    "\\cdots & \\cdots\\\\\n",
    "\\cdots & \\cdots\\\\\n",
    "\\end{bmatrix}}\\right\\}64$\n",
    "$+$\n",
    "$\\underbrace{\n",
    "\\begin{bmatrix}\n",
    "\\cdots & \\cdots & \\cdots\\\\\n",
    "\\end{bmatrix}}_{\\displaystyle 30-bias}\n",
    "\\left.\\vphantom{\\begin{bmatrix}\n",
    "\\cdots & \\cdots & \\cdots\\\\\n",
    "\\end{bmatrix}}\\right\\}1$\n",
    "$=$\n",
    "$\\underbrace{\n",
    "\\begin{bmatrix}\n",
    "\\cdots & \\cdots & \\cdots & \\cdots\\\\\n",
    "\\cdots & \\cdots & \\cdots & \\cdots\\\\\n",
    "\\cdots & \\cdots & \\cdots & \\cdots\\\\\n",
    "\\cdots & \\cdots & \\cdots & \\cdots\\\\\n",
    "\\cdots & \\cdots & \\cdots & \\cdots\\\\\n",
    "\\cdots & \\cdots & \\cdots & \\cdots\\\\\n",
    "\\end{bmatrix}}_{\\displaystyle 30-preds}\n",
    "\\left.\\vphantom{\\begin{bmatrix}\n",
    "\\cdots & \\cdots & \\cdots & \\cdots\\\\\n",
    "\\cdots & \\cdots & \\cdots & \\cdots\\\\\n",
    "\\cdots & \\cdots & \\cdots & \\cdots\\\\\n",
    "\\cdots & \\cdots & \\cdots & \\cdots\\\\\n",
    "\\cdots & \\cdots & \\cdots & \\cdots\\\\\n",
    "\\cdots & \\cdots & \\cdots & \\cdots\\\\\n",
    "\\end{bmatrix}}\\right\\}128-bs$"
   ]
  },
  {
   "cell_type": "markdown",
   "metadata": {},
   "source": [
    "### RNN Number 2\n",
    "\n",
    "Now that we have a simple model, how do we improve it?  There are many steps that need to be taken to get to a cutting edge model.  We'll do one improvement, then leave the rest for future blog posts.\n",
    "\n",
    "One thing that was a bit odd is in the training loop we reset back to 0 every time.  What I mean by that, is we would loop through each of the 3 tokens, output our predictions for those, update the weights, then reset back for a new set.  This isn't really how language works.  Language has a pattern and a sequence to it.  The further back you go the less important, but even things said a couple minutes ago could be important.  Could you imagine holding a conversation if you could only remember and respond based on the last 3 words?\n",
    "\n",
    "So let's fix this problem.  We will move our h=0 up to the initialization of the class, and never reset back to 0.  Instead, we will continuously keep adding to it.  We will only update the last batch of weights (as if we updated all of them by the 1000th one we would be updating far to many weights to compute).  We call this \"detaching\" it.  Ultimately we are left with the same thing, but if has a memory of previous sequences beyond the one we are processing!  Let's see if it makes things better."
   ]
  },
  {
   "cell_type": "code",
   "execution_count": 15,
   "metadata": {},
   "outputs": [],
   "source": [
    "class LM2(Module):\n",
    "    def __init__(self, vocab_sz, n_hidden):\n",
    "        self.i_h = nn.Embedding(vocab_sz, n_hidden)\n",
    "        self.h_h = nn.Linear(n_hidden, n_hidden)\n",
    "        self.h_o = nn.Linear(n_hidden,vocab_sz)\n",
    "        self.h = 0\n",
    "\n",
    "    def forward(self, x):\n",
    "        for i in range(3):\n",
    "            self.h = self.h + self.i_h(x[:,i])\n",
    "            self.h = F.relu(self.h_h(self.h))\n",
    "        out = self.h_o(self.h)\n",
    "        self.h = self.h.detach()\n",
    "        return out"
   ]
  },
  {
   "cell_type": "markdown",
   "metadata": {},
   "source": [
    "To do this we need to take care that our data is in the appropriate order, so let's do a few tranformations to make that work."
   ]
  },
  {
   "cell_type": "code",
   "execution_count": 23,
   "metadata": {},
   "outputs": [],
   "source": [
    "m = len(seqs)//bs\n",
    "m,bs,len(seqs)\n",
    "def group_chunks(ds, bs):\n",
    "    m = len(ds) // bs\n",
    "    new_ds = L()\n",
    "    for i in range(m): new_ds += L(ds[i + m*j] for j in range(bs))\n",
    "    return new_ds"
   ]
  },
  {
   "cell_type": "code",
   "execution_count": 24,
   "metadata": {},
   "outputs": [],
   "source": [
    "cut = int(len(seqs) * 0.8)\n",
    "dls = DataLoaders.from_dsets(\n",
    "    group_chunks(seqs[:cut], bs), \n",
    "    group_chunks(seqs[cut:], bs), \n",
    "    bs=bs, drop_last=True, shuffle=False)"
   ]
  },
  {
   "cell_type": "code",
   "execution_count": 25,
   "metadata": {},
   "outputs": [],
   "source": [
    "learn = Learner(dls, LM2(len(vocab), 64), loss_func=F.cross_entropy, metrics=accuracy)"
   ]
  },
  {
   "cell_type": "code",
   "execution_count": 26,
   "metadata": {},
   "outputs": [
    {
     "data": {
      "text/html": [
       "<table border=\"1\" class=\"dataframe\">\n",
       "  <thead>\n",
       "    <tr style=\"text-align: left;\">\n",
       "      <th>epoch</th>\n",
       "      <th>train_loss</th>\n",
       "      <th>valid_loss</th>\n",
       "      <th>accuracy</th>\n",
       "      <th>time</th>\n",
       "    </tr>\n",
       "  </thead>\n",
       "  <tbody>\n",
       "    <tr>\n",
       "      <td>0</td>\n",
       "      <td>2.342321</td>\n",
       "      <td>1.897249</td>\n",
       "      <td>0.481689</td>\n",
       "      <td>00:00</td>\n",
       "    </tr>\n",
       "    <tr>\n",
       "      <td>1</td>\n",
       "      <td>1.453624</td>\n",
       "      <td>1.713581</td>\n",
       "      <td>0.449707</td>\n",
       "      <td>00:00</td>\n",
       "    </tr>\n",
       "    <tr>\n",
       "      <td>2</td>\n",
       "      <td>1.154838</td>\n",
       "      <td>1.680148</td>\n",
       "      <td>0.519775</td>\n",
       "      <td>00:00</td>\n",
       "    </tr>\n",
       "    <tr>\n",
       "      <td>3</td>\n",
       "      <td>1.042766</td>\n",
       "      <td>1.566625</td>\n",
       "      <td>0.517822</td>\n",
       "      <td>00:00</td>\n",
       "    </tr>\n",
       "    <tr>\n",
       "      <td>4</td>\n",
       "      <td>0.969852</td>\n",
       "      <td>1.633654</td>\n",
       "      <td>0.542480</td>\n",
       "      <td>00:00</td>\n",
       "    </tr>\n",
       "    <tr>\n",
       "      <td>5</td>\n",
       "      <td>0.937066</td>\n",
       "      <td>1.581196</td>\n",
       "      <td>0.559570</td>\n",
       "      <td>00:00</td>\n",
       "    </tr>\n",
       "    <tr>\n",
       "      <td>6</td>\n",
       "      <td>0.882712</td>\n",
       "      <td>1.660810</td>\n",
       "      <td>0.588379</td>\n",
       "      <td>00:00</td>\n",
       "    </tr>\n",
       "    <tr>\n",
       "      <td>7</td>\n",
       "      <td>0.844926</td>\n",
       "      <td>1.595611</td>\n",
       "      <td>0.597656</td>\n",
       "      <td>00:00</td>\n",
       "    </tr>\n",
       "    <tr>\n",
       "      <td>8</td>\n",
       "      <td>0.808309</td>\n",
       "      <td>1.613600</td>\n",
       "      <td>0.605225</td>\n",
       "      <td>00:00</td>\n",
       "    </tr>\n",
       "    <tr>\n",
       "      <td>9</td>\n",
       "      <td>0.797358</td>\n",
       "      <td>1.621867</td>\n",
       "      <td>0.605713</td>\n",
       "      <td>00:00</td>\n",
       "    </tr>\n",
       "  </tbody>\n",
       "</table>"
      ],
      "text/plain": [
       "<IPython.core.display.HTML object>"
      ]
     },
     "metadata": {},
     "output_type": "display_data"
    }
   ],
   "source": [
    "learn.fit_one_cycle(10, 3e-3)"
   ]
  },
  {
   "cell_type": "markdown",
   "metadata": {},
   "source": [
    "And we are up from about 50% accuracy to about 60%!"
   ]
  },
  {
   "cell_type": "markdown",
   "metadata": {},
   "source": [
    "# Conclusion\n",
    "\n",
    "Hopefully from this post you gained an understanding of the fundamental concepts behind NLP using Neural Networks.  While this isn't cutting edge, the fundamental principles must be understood if you want to gain an intuition about what types of things might work."
   ]
  }
 ],
 "metadata": {
  "kernelspec": {
   "display_name": "Python 3",
   "language": "python",
   "name": "python3"
  },
  "language_info": {
   "codemirror_mode": {
    "name": "ipython",
    "version": 3
   },
   "file_extension": ".py",
   "mimetype": "text/x-python",
   "name": "python",
   "nbconvert_exporter": "python",
   "pygments_lexer": "ipython3",
   "version": "3.7.7"
  }
 },
 "nbformat": 4,
 "nbformat_minor": 4
}

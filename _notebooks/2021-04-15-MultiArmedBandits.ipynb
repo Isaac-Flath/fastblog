{
 "cells": [
  {
   "cell_type": "markdown",
   "metadata": {},
   "source": [
    "# Multi Armed Bandits\n",
    "\n",
    "> How can a Multi Armed Bandit (probabilistic model) help me choose the \"right\" action\n",
    "\n",
    "- badges: true\n",
    "- comments: true\n",
    "- author: Isaac Flath\n",
    "- categories: [Probabilistic Models]"
   ]
  },
  {
   "cell_type": "markdown",
   "metadata": {},
   "source": [
    "**Background:**  Multi Armed Bandits (MAB) are a method of choosing the best action from a bunch of options.  In order to choose the best action there are several problems to solve.  These are:\n",
    "1. How do you know what action is \"best\"?\n",
    "2. What if the \"best\" action changes over time?  How do you know it's changed?\n",
    "3. How do I balance choosing the best action with collecting new information?\n",
    "\n",
    "**Purpose:**  The purpose of this post is to explain what a Multi Armed Bandit (MAB) is, and how it solves those problems."
   ]
  },
  {
   "cell_type": "markdown",
   "metadata": {},
   "source": [
    "# MAB Setup Requirements\n",
    "\n",
    "In it's essence, MAB is just A/B testing in an intelligent and automated way.  Because it is like A/B testing it has very similar requirements for setup, but because it is automated it often requires defining these items with a bit more precision.  Let's start with what we need to have before we can use a MAB.\n",
    "\n",
    "**Things to Define** The things needed to set up new actions are the same as needed to set up an A/B test:\n",
    "1. What the action is (ie send an email)\n",
    "1. When selected, what should be done (ie use x template to send automated email to y customer)\n",
    "1. What is the success criteria\n",
    "1. What is the metric\n",
    "\n",
    "Most of the above is business information that business stakeholders decide in conjunction with technical teams.  The tricky piece is **all metrics must be comparable to each other**.  This is easy if it's all emails and you just want to measure click through rate, but sometimes comparisons are harder.  A common approach is to **define each of these in terms of dollars** (if possible).\n",
    "\n",
    ">Example: Which is better: A 10% click through email rate, or 2% phone answering rate?  Without defining it in terms of dollars (profit or revenue), how do you know which is better for the business?"
   ]
  },
  {
   "cell_type": "markdown",
   "metadata": {},
   "source": [
    "# Terminology\n",
    "\n",
    "Before we go further there are 2 terms we need to understand:\n",
    "\n",
    "+ **Exploitation:**  This simply means we are going to pick the action we think is best based on the metric\n",
    "+ **Exploration:**  This means we are not going to pick the best action, but rather we are going to survey other action.  One particular action may change in effectiveness over time and we want to spend some amount of time exploring so we can stay on top of these changes."
   ]
  },
  {
   "cell_type": "markdown",
   "metadata": {},
   "source": [
    "# The Minimal Implementation\n",
    "\n",
    "Let's describe what the simplest implementation would look like.  The point of this is to understand the core of what a MAB is.  Once we understand that we can look at all the 'tricks' that are used to make it fit a particular business and work better.\n",
    "\n",
    "First we will do 2 things:\n",
    "1. What percent of the time will be exploiting vs exploring (see terminology section above)\n",
    "1. Calculate metrics for all actions\n",
    "\n",
    "Then loop through this repeatedly:\n",
    "1. Pick action (Using probability to define whether we are exploiting or exploring)\n",
    "1. Update data with results when available\n",
    "1. Recalculate metrics using new data\n",
    "1. Repeat\n",
    "\n",
    "This is the simplest MAB we can create.  Let's look at what we need to do to make it 'smarter' and fit a business."
   ]
  },
  {
   "cell_type": "markdown",
   "metadata": {},
   "source": [
    "# Enhancements & Customization\n",
    "\n",
    "Now that we understand what a MAB is, let's look at how to make it smarter.  Which of these we do is problem dependent, but these are the key ideas to consider."
   ]
  },
  {
   "cell_type": "markdown",
   "metadata": {},
   "source": [
    "## 1. Use segments\n",
    "\n",
    "**Rather than calculate metrics over the entire universe of customers.**\n",
    "\n",
    "Different segments of customers may behave differently.  The \"best\" action for 1 group of customers may be different than the \"best action\" for a different group of customers.  Instead of treating all customers equal, break them into segments so we can personalize actions more.\n",
    "\n",
    ">Example: One segment could be \"people over 65 that live in a cold climate area that has opened at least 1 email in the past\""
   ]
  },
  {
   "cell_type": "markdown",
   "metadata": {},
   "source": [
    "## 2. Use smarter exploration methods\n",
    "\n",
    "**Rather than picking exploration actions based on random chance use statistics to determine which need more sampling**  \n",
    "\n",
    "The most common 2 methods of defining exploration:\n",
    "+ **Thompson Sampling:** Choose best action based on random belief based on the distributions rather than just the metric.  1 action may be better overall but based on a random sample in the distribution a 'less good' action may be better than a 'best action' based on distribution overlap.  \n",
    "+ **Upper Confidence Bound:** Choose based on how confident you are in your measurements.  The is no need to explore a category you have high confidence in (ie very stable with lots of data)."
   ]
  },
  {
   "cell_type": "markdown",
   "metadata": {},
   "source": [
    "## 3. Incorporate business logic  \n",
    "\n",
    "There are 2 main places this can be added\n",
    "\n",
    "### Action Selection\n",
    "\n",
    "Sometimes not all actions are appropriate or we want to modify the probability an action is selected based on specific customer behavior.  Let's look at a couple examples of how we can weave in business logic."
   ]
  },
  {
   "cell_type": "markdown",
   "metadata": {},
   "source": [
    ">Example: If no phone number on file all actions related to email cannot be selected\n",
    "\n",
    "This is the simplest example of a business rule.  It could be that overall sending an email is the best action for customers, but we wouldn't want to choose an email action if we have no way to reach out to them."
   ]
  },
  {
   "cell_type": "markdown",
   "metadata": {},
   "source": [
    ">Example: If have customer has not answered the last 10 phone calls, reduce call action probabilities by 10%\n",
    "\n",
    "This is a simple example.  Making a phone call may be the best way overall to make a sale, but we have information on this specific customer that they do not answer the phone.  We may still want to try on occasion, but less often for this specific customer."
   ]
  },
  {
   "cell_type": "markdown",
   "metadata": {},
   "source": [
    ">Example:  If a customer has bought X products before, remove Y offer from consideration\n",
    "\n",
    "This is where it's important to incorporate human expertise and knowledge of a business in.  The best technical solutions don't ignore human expertise, but rather enhance human expertise and help scale that expertise to more customers."
   ]
  },
  {
   "cell_type": "markdown",
   "metadata": {},
   "source": [
    "### Action Execution\n",
    " \n",
    "You can have some generic actions such as \"Send Offer Email\" and insert business logic there.  For example \"Send Offer Email\" may send template 1 with cruise destinations for landlocked states or template 2 with resort destinations for people in ocean border states.  "
   ]
  },
  {
   "cell_type": "markdown",
   "metadata": {},
   "source": [
    "## 4. Deep Learning\n",
    "\n",
    "This is rarely the best starting point and requires a great deal of expertise.  Rather than picking actions based on metric you could pick an action based on predicted outcomes using an output of NN (meaning NN needs to be updated in real time). \n",
    "\n",
    "Using deep learning can often improve accuracy quite a bit, but it comes with a lot of negatives as well.  \n",
    "\n",
    "**Pros:**\n",
    "+ Increased accuracy\n",
    "\n",
    "**Cons:**\n",
    "+ Harder to change, add, and remove actions\n",
    "+ Less \"Interpretable\", meaning it is harder to understand rationale behind what/why certain actions are considered \"best\"\n",
    "+ Much longer to set up and much harder to maintain over time\n",
    "+ Higher risk of hidden biases\n",
    "\n",
    "Think carefully before going this route!  Using deep learning for this is an incredibly powerful approach in the right situations, but those situations are not as common as many people believe."
   ]
  },
  {
   "cell_type": "markdown",
   "metadata": {},
   "source": [
    "# Code it up!\n",
    "\n",
    "Here we will code the simplest example so we can see a skeleton of how it works and get you started on the path of implementing one for your use-case."
   ]
  },
  {
   "cell_type": "code",
   "execution_count": 28,
   "metadata": {},
   "outputs": [],
   "source": [
    "import pandas as pd\n",
    "from collections import defaultdict \n",
    "import numpy as np\n",
    "import math, statistics, random"
   ]
  },
  {
   "cell_type": "markdown",
   "metadata": {},
   "source": [
    "First let's load and take a look at our data.  The dataset we will be using is website latency.  We want to pick the website at each given moment with the lowest latency.\n",
    "\n",
    ">Note: This dataset is easy because it's very easy to have comparable metrics.  We don't have to worry about comparing phone calls to emails, we have the same universal metric for each action."
   ]
  },
  {
   "cell_type": "code",
   "execution_count": 14,
   "metadata": {},
   "outputs": [
    {
     "data": {
      "text/html": [
       "<div>\n",
       "<style scoped>\n",
       "    .dataframe tbody tr th:only-of-type {\n",
       "        vertical-align: middle;\n",
       "    }\n",
       "\n",
       "    .dataframe tbody tr th {\n",
       "        vertical-align: top;\n",
       "    }\n",
       "\n",
       "    .dataframe thead th {\n",
       "        text-align: right;\n",
       "    }\n",
       "</style>\n",
       "<table border=\"1\" class=\"dataframe\">\n",
       "  <thead>\n",
       "    <tr style=\"text-align: right;\">\n",
       "      <th></th>\n",
       "      <th>acu-edu</th>\n",
       "      <th>acadiau-ca</th>\n",
       "      <th>adrian-edu</th>\n",
       "      <th>agnesscott-edu</th>\n",
       "      <th>aims-edu</th>\n",
       "      <th>uni-freiburg-de</th>\n",
       "      <th>alfred-edu</th>\n",
       "      <th>alvernia-edu</th>\n",
       "      <th>alverno-edu</th>\n",
       "      <th>american-edu</th>\n",
       "      <th>...</th>\n",
       "      <th>williams-edu</th>\n",
       "      <th>wsc-nodak-edu</th>\n",
       "      <th>winona-msus-edu</th>\n",
       "      <th>wpi-edu</th>\n",
       "      <th>wright-edu</th>\n",
       "      <th>yale-edu</th>\n",
       "      <th>yu-edu</th>\n",
       "      <th>yorku-ca</th>\n",
       "      <th>upenn-edu</th>\n",
       "      <th>ens-fr</th>\n",
       "    </tr>\n",
       "  </thead>\n",
       "  <tbody>\n",
       "    <tr>\n",
       "      <th>0</th>\n",
       "      <td>396</td>\n",
       "      <td>381</td>\n",
       "      <td>488</td>\n",
       "      <td>506</td>\n",
       "      <td>333</td>\n",
       "      <td>1327</td>\n",
       "      <td>132</td>\n",
       "      <td>70</td>\n",
       "      <td>456</td>\n",
       "      <td>121</td>\n",
       "      <td>...</td>\n",
       "      <td>220</td>\n",
       "      <td>1898</td>\n",
       "      <td>434</td>\n",
       "      <td>125</td>\n",
       "      <td>304</td>\n",
       "      <td>94</td>\n",
       "      <td>460</td>\n",
       "      <td>347</td>\n",
       "      <td>532</td>\n",
       "      <td>429</td>\n",
       "    </tr>\n",
       "    <tr>\n",
       "      <th>1</th>\n",
       "      <td>271</td>\n",
       "      <td>261</td>\n",
       "      <td>488</td>\n",
       "      <td>504</td>\n",
       "      <td>276</td>\n",
       "      <td>1084</td>\n",
       "      <td>89</td>\n",
       "      <td>23</td>\n",
       "      <td>409</td>\n",
       "      <td>34</td>\n",
       "      <td>...</td>\n",
       "      <td>263</td>\n",
       "      <td>1032</td>\n",
       "      <td>294</td>\n",
       "      <td>74</td>\n",
       "      <td>269</td>\n",
       "      <td>252</td>\n",
       "      <td>98</td>\n",
       "      <td>265</td>\n",
       "      <td>233</td>\n",
       "      <td>293</td>\n",
       "    </tr>\n",
       "    <tr>\n",
       "      <th>2</th>\n",
       "      <td>271</td>\n",
       "      <td>141</td>\n",
       "      <td>325</td>\n",
       "      <td>545</td>\n",
       "      <td>266</td>\n",
       "      <td>1078</td>\n",
       "      <td>86</td>\n",
       "      <td>27</td>\n",
       "      <td>837</td>\n",
       "      <td>33</td>\n",
       "      <td>...</td>\n",
       "      <td>409</td>\n",
       "      <td>891</td>\n",
       "      <td>292</td>\n",
       "      <td>77</td>\n",
       "      <td>288</td>\n",
       "      <td>41</td>\n",
       "      <td>78</td>\n",
       "      <td>261</td>\n",
       "      <td>114</td>\n",
       "      <td>300</td>\n",
       "    </tr>\n",
       "    <tr>\n",
       "      <th>3</th>\n",
       "      <td>268</td>\n",
       "      <td>136</td>\n",
       "      <td>324</td>\n",
       "      <td>1946</td>\n",
       "      <td>331</td>\n",
       "      <td>1342</td>\n",
       "      <td>88</td>\n",
       "      <td>24</td>\n",
       "      <td>531</td>\n",
       "      <td>35</td>\n",
       "      <td>...</td>\n",
       "      <td>361</td>\n",
       "      <td>421</td>\n",
       "      <td>298</td>\n",
       "      <td>76</td>\n",
       "      <td>228</td>\n",
       "      <td>42</td>\n",
       "      <td>153</td>\n",
       "      <td>266</td>\n",
       "      <td>322</td>\n",
       "      <td>532</td>\n",
       "    </tr>\n",
       "    <tr>\n",
       "      <th>4</th>\n",
       "      <td>273</td>\n",
       "      <td>136</td>\n",
       "      <td>321</td>\n",
       "      <td>549</td>\n",
       "      <td>290</td>\n",
       "      <td>1192</td>\n",
       "      <td>143</td>\n",
       "      <td>26</td>\n",
       "      <td>434</td>\n",
       "      <td>32</td>\n",
       "      <td>...</td>\n",
       "      <td>982</td>\n",
       "      <td>522</td>\n",
       "      <td>296</td>\n",
       "      <td>73</td>\n",
       "      <td>764</td>\n",
       "      <td>41</td>\n",
       "      <td>98</td>\n",
       "      <td>262</td>\n",
       "      <td>234</td>\n",
       "      <td>271</td>\n",
       "    </tr>\n",
       "  </tbody>\n",
       "</table>\n",
       "<p>5 rows × 760 columns</p>\n",
       "</div>"
      ],
      "text/plain": [
       "   acu-edu   acadiau-ca   adrian-edu   agnesscott-edu   aims-edu  \\\n",
       "0      396          381          488              506        333   \n",
       "1      271          261          488              504        276   \n",
       "2      271          141          325              545        266   \n",
       "3      268          136          324             1946        331   \n",
       "4      273          136          321              549        290   \n",
       "\n",
       "    uni-freiburg-de   alfred-edu   alvernia-edu   alverno-edu   american-edu  \\\n",
       "0              1327          132             70           456            121   \n",
       "1              1084           89             23           409             34   \n",
       "2              1078           86             27           837             33   \n",
       "3              1342           88             24           531             35   \n",
       "4              1192          143             26           434             32   \n",
       "\n",
       "   ...   williams-edu   wsc-nodak-edu   winona-msus-edu   wpi-edu  \\\n",
       "0  ...            220            1898               434       125   \n",
       "1  ...            263            1032               294        74   \n",
       "2  ...            409             891               292        77   \n",
       "3  ...            361             421               298        76   \n",
       "4  ...            982             522               296        73   \n",
       "\n",
       "    wright-edu   yale-edu   yu-edu   yorku-ca   upenn-edu   ens-fr  \n",
       "0          304         94      460        347         532      429  \n",
       "1          269        252       98        265         233      293  \n",
       "2          288         41       78        261         114      300  \n",
       "3          228         42      153        266         322      532  \n",
       "4          764         41       98        262         234      271  \n",
       "\n",
       "[5 rows x 760 columns]"
      ]
     },
     "execution_count": 14,
     "metadata": {},
     "output_type": "execute_result"
    }
   ],
   "source": [
    "df = pd.read_csv('univ-latencies/univ-latencies.txt')\n",
    "df.head()"
   ]
  },
  {
   "cell_type": "markdown",
   "metadata": {},
   "source": [
    "So first, we need to define out metrics and how we will update the metrics.  As new data comes in we need to always keep track of the data so we can determine which is the best action and which we need to explore periodically."
   ]
  },
  {
   "cell_type": "code",
   "execution_count": 29,
   "metadata": {},
   "outputs": [],
   "source": [
    "class Metrics:\n",
    "    def __init__(self):\n",
    "        self.values = defaultdict(lambda: [])\n",
    "        self.metrics = dict()\n",
    "    \n",
    "    def update_metrics(self):\n",
    "        '''calculate the metrics for each action'''\n",
    "        self.metrics = dict() # Reset metrics\n",
    "        for key in self.values.keys(): # For each action\n",
    "            self.metrics[key] = statistics.mean(self.values[key]) # average the latencies for our metric\n",
    "      \n",
    "    def add_data(self,series):\n",
    "        for key in series.keys(): # for each action\n",
    "            self.values[key].append(series[key]) # Append the new data \n",
    "            if len(self.values[key]) > 7: self.values[key].pop(0) # only keep last 7 values - older data is no longer relevant\n",
    "        self.update_metrics() # Update metrics using recent data"
   ]
  },
  {
   "cell_type": "markdown",
   "metadata": {},
   "source": [
    "Next, we need the actual Multi-Armed Bandit that can select actions based on the metrics the previous class calculates.  Let's build this now."
   ]
  },
  {
   "cell_type": "code",
   "execution_count": 30,
   "metadata": {},
   "outputs": [],
   "source": [
    "class MAB:\n",
    "    def __init__(self,exploration_prob):\n",
    "        self.exploration_prob = exploration_prob # User defined\n",
    "        self.actions = pd.DataFrame(columns=['action','latency','min_latency','regret'])\n",
    "    \n",
    "    def perform_action(self,m):\n",
    "        \n",
    "        # Identify the \"best\" action based on the smallest average latency\n",
    "        ideal_action = min(m.metrics, key=m.metrics.get) \n",
    "        \n",
    "        # Based on exploration probabiliity choose either random exploration or choose the \"best action\"\n",
    "        if np.random.rand() < self.exploration_prob: action = random.choice(list(m.metrics.keys()))\n",
    "        else: action = ideal_action\n",
    "            \n",
    "        # Store results\n",
    "        idx = mab.actions.index.max()+1\n",
    "        if math.isnan(idx): idx = 0\n",
    "        self.actions.loc[idx] = [action,m.metrics[action],m.metrics[ideal_action],m.metrics[action]-m.metrics[ideal_action]]\n",
    "    "
   ]
  },
  {
   "cell_type": "markdown",
   "metadata": {},
   "source": [
    "We can now use those to run through the entire dataset and choose actions.  Regret measures the difference between the latency we chose and the latency of the best choice, which helps us understand the cost of our exploration."
   ]
  },
  {
   "cell_type": "code",
   "execution_count": 33,
   "metadata": {},
   "outputs": [],
   "source": [
    "m = Metrics() # Initialize Metrics\n",
    "mab = MAB(0.15) # Initionalize our MAB with a 15% exploration probabilty\n",
    "for i in range(len(df)): # for each point in time\n",
    "    m.add_data(series=df.iloc[i]) # Add Data\n",
    "    mab.perform_action(m) # Select an action and calculate results"
   ]
  },
  {
   "cell_type": "markdown",
   "metadata": {},
   "source": [
    "When we look at the results we see that the \"best\" action is not always the same but we are pretty good about selecting the best action anyway.  We do this by sampling options to monitor how all the actions change over time through constant exploration (15% of the time).  The regret column measures the difference between the latency of the option we selected and the ideal option which we can use to measure and tune the cost of our exploration."
   ]
  },
  {
   "cell_type": "code",
   "execution_count": 35,
   "metadata": {},
   "outputs": [
    {
     "data": {
      "text/html": [
       "<div>\n",
       "<style scoped>\n",
       "    .dataframe tbody tr th:only-of-type {\n",
       "        vertical-align: middle;\n",
       "    }\n",
       "\n",
       "    .dataframe tbody tr th {\n",
       "        vertical-align: top;\n",
       "    }\n",
       "\n",
       "    .dataframe thead th {\n",
       "        text-align: right;\n",
       "    }\n",
       "</style>\n",
       "<table border=\"1\" class=\"dataframe\">\n",
       "  <thead>\n",
       "    <tr style=\"text-align: right;\">\n",
       "      <th></th>\n",
       "      <th>action</th>\n",
       "      <th>latency</th>\n",
       "      <th>min_latency</th>\n",
       "      <th>regret</th>\n",
       "    </tr>\n",
       "  </thead>\n",
       "  <tbody>\n",
       "    <tr>\n",
       "      <th>502</th>\n",
       "      <td>uoregon-edu</td>\n",
       "      <td>417</td>\n",
       "      <td>17</td>\n",
       "      <td>400</td>\n",
       "    </tr>\n",
       "    <tr>\n",
       "      <th>698</th>\n",
       "      <td>pace-edu</td>\n",
       "      <td>17</td>\n",
       "      <td>17</td>\n",
       "      <td>0</td>\n",
       "    </tr>\n",
       "    <tr>\n",
       "      <th>808</th>\n",
       "      <td>fitnyc-edu</td>\n",
       "      <td>13</td>\n",
       "      <td>13</td>\n",
       "      <td>0</td>\n",
       "    </tr>\n",
       "    <tr>\n",
       "      <th>954</th>\n",
       "      <td>fitnyc-edu</td>\n",
       "      <td>10</td>\n",
       "      <td>10</td>\n",
       "      <td>0</td>\n",
       "    </tr>\n",
       "    <tr>\n",
       "      <th>81</th>\n",
       "      <td>stjohns-edu</td>\n",
       "      <td>17</td>\n",
       "      <td>17</td>\n",
       "      <td>0</td>\n",
       "    </tr>\n",
       "    <tr>\n",
       "      <th>947</th>\n",
       "      <td>fitnyc-edu</td>\n",
       "      <td>10</td>\n",
       "      <td>10</td>\n",
       "      <td>0</td>\n",
       "    </tr>\n",
       "    <tr>\n",
       "      <th>29</th>\n",
       "      <td>wcupa-edu</td>\n",
       "      <td>15</td>\n",
       "      <td>15</td>\n",
       "      <td>0</td>\n",
       "    </tr>\n",
       "    <tr>\n",
       "      <th>604</th>\n",
       "      <td>cmu-edu</td>\n",
       "      <td>70</td>\n",
       "      <td>18</td>\n",
       "      <td>52</td>\n",
       "    </tr>\n",
       "    <tr>\n",
       "      <th>573</th>\n",
       "      <td>pace-edu</td>\n",
       "      <td>18</td>\n",
       "      <td>18</td>\n",
       "      <td>0</td>\n",
       "    </tr>\n",
       "    <tr>\n",
       "      <th>920</th>\n",
       "      <td>fitnyc-edu</td>\n",
       "      <td>11</td>\n",
       "      <td>11</td>\n",
       "      <td>0</td>\n",
       "    </tr>\n",
       "  </tbody>\n",
       "</table>\n",
       "</div>"
      ],
      "text/plain": [
       "           action latency min_latency regret\n",
       "502   uoregon-edu     417          17    400\n",
       "698      pace-edu      17          17      0\n",
       "808    fitnyc-edu      13          13      0\n",
       "954    fitnyc-edu      10          10      0\n",
       "81    stjohns-edu      17          17      0\n",
       "947    fitnyc-edu      10          10      0\n",
       "29      wcupa-edu      15          15      0\n",
       "604       cmu-edu      70          18     52\n",
       "573      pace-edu      18          18      0\n",
       "920    fitnyc-edu      11          11      0"
      ]
     },
     "execution_count": 35,
     "metadata": {},
     "output_type": "execute_result"
    }
   ],
   "source": [
    "mab.actions.sample(10)"
   ]
  },
  {
   "cell_type": "markdown",
   "metadata": {},
   "source": [
    "# Conclusion\n",
    "\n",
    "I hope after reading this post you have an good technical foundation in what a multi-armed bandit is and how to code a very simple one.  I hope in addition to that you understand what are some of the challenges to a succesful implementation and full solution.  I did not code up the variations that make this approach more powerful, but with this as a foundation and a little research you now should have all the tools you need to get started."
   ]
  }
 ],
 "metadata": {
  "kernelspec": {
   "display_name": "Python 3",
   "language": "python",
   "name": "python3"
  },
  "language_info": {
   "codemirror_mode": {
    "name": "ipython",
    "version": 3
   },
   "file_extension": ".py",
   "mimetype": "text/x-python",
   "name": "python",
   "nbconvert_exporter": "python",
   "pygments_lexer": "ipython3",
   "version": "3.7.4"
  },
  "toc": {
   "base_numbering": 1,
   "nav_menu": {},
   "number_sections": true,
   "sideBar": true,
   "skip_h1_title": false,
   "title_cell": "Table of Contents",
   "title_sidebar": "Contents",
   "toc_cell": false,
   "toc_position": {},
   "toc_section_display": true,
   "toc_window_display": false
  }
 },
 "nbformat": 4,
 "nbformat_minor": 4
}

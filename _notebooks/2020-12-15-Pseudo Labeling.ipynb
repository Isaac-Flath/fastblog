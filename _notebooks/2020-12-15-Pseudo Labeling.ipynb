{
 "cells": [
  {
   "cell_type": "markdown",
   "metadata": {
    "heading_collapsed": true
   },
   "source": [
    "# Pseudo Labeling\n",
    "\n",
    "> Pseudo Labeling basics for Noise Reduction and Data Creation\n",
    "\n",
    "- toc: true \n",
    "- badges: true\n",
    "- comments: true\n",
    "- author: Isaac Flath\n",
    "- categories: [Deep Learning]"
   ]
  },
  {
   "cell_type": "markdown",
   "metadata": {},
   "source": [
    "# Intro\n",
    "\n",
    "**Goal:** The goal of this article is to provide an understanding of what pseudo labeling is, why you might use it, and how you would go about using it.\n",
    "\n",
    "**What's Included in this post:** The information needed to get **started** on pseudo labeling on your project."
   ]
  },
  {
   "cell_type": "markdown",
   "metadata": {},
   "source": [
    "# What is pseudo labeling\n",
    "\n",
    "**Pseudo Labeling** is the process of creating new labels for a piece of data.\n",
    "\n",
    "The general idea can be broken into a few steps:\n",
    "1. Create a model\n",
    "1. Make predictions on some data with that model\n",
    "1. Pretend all (or some) of those predictions are ground truth label\n",
    "1. Train a new model with those predictions\n",
    "\n",
    "We will get into more of the details in the how-to section!"
   ]
  },
  {
   "cell_type": "markdown",
   "metadata": {},
   "source": [
    "# Why would I use pseudo labeling?\n",
    "\n",
    "There are two main functions pseudo Labeling can be used for.  I will step through each and provide a general \n",
    "\n",
    "## Data Cleaning & Noise Reduction\n",
    "\n",
    "Imagine you have a dataset and all the samples have been hand labeled.  You know they can't all be labeled appropriately because it was manual labeling and you want to improve your labels.  You have a few options:\n",
    "\n",
    "1. Go through every datapoint again and manually verify them all\n",
    "1. Somehow identify the ones that are likely to be wrong and put more focus on those ones.\n",
    "\n",
    "Pseudo labeling can help with option number 2.  By creating a prediction on a datapoint, you can see which labels the model disagrees with.  Even better, you can look at the confidence that model has in the prediction.  So by looking at datapoints that the model is confident are wrong, you can really narrow your focus on your problem areas quickly.\n",
    "\n",
    "You then can fix it in 2 ways:\n",
    "1. Replace your labels with the predicted labels following some threshold (ie score of .9 or higher).\n",
    "1. Manually re-classify these labels if you have the time and domain expertise to do these.\n",
    "\n",
    "## Data Augmentation\n",
    "\n",
    "This approach can also be used on unlabeled data.  Rather than trying to replace bad labels, this approach focuses on creating labels for unlabeled data.  This can be used on a kaggle test set for example.  The reason this can work is because you are teaching the model the structure of the data.  Even if not all labels are correct, a lot can still be learning.\n",
    "\n",
    "Think about if you were to learn what a new type of object looks like.  Maybe a type of furniture you'd never heard of before.  Doing a google image search for that name and looking at all the results is really helpful, even if not all of the images that are shown are all correct.\n",
    "\n",
    ">Note:  I found out about this Approach from Jeremy Howard.  He speaks on this in an old version of the fastai course.  [Here](https://medium.com/deep-learning-journals/faster-ai-lesson-4-tl-dr-version-of-fast-ai-part-1-70124cacd560) is  a summary that includes a link to the portion of the old course he discusses this approach in.  I would highly reccomend checking out the latest course as well [here](https://course.fast.ai/)."
   ]
  },
  {
   "cell_type": "markdown",
   "metadata": {},
   "source": [
    "# How to use pseudo labeling (Noise Reduction)"
   ]
  },
  {
   "cell_type": "markdown",
   "metadata": {},
   "source": [
    "I will use the validation set for this example because it is a little bit more involved.  You can simplify this approach a bit if you are doing this on unlabeled data."
   ]
  },
  {
   "cell_type": "markdown",
   "metadata": {},
   "source": [
    "## Imports"
   ]
  },
  {
   "cell_type": "code",
   "execution_count": 1,
   "metadata": {},
   "outputs": [
    {
     "data": {
      "text/html": [],
      "text/plain": [
       "<IPython.core.display.HTML object>"
      ]
     },
     "metadata": {},
     "output_type": "display_data"
    }
   ],
   "source": [
    "from fastai.vision.all import *\n",
    "path = untar_data(URLs.MNIST,force_download=True)\n",
    "from sklearn.model_selection import StratifiedKFold\n",
    "from numpy.random import default_rng"
   ]
  },
  {
   "cell_type": "markdown",
   "metadata": {},
   "source": [
    "## Introduce Noise to Data"
   ]
  },
  {
   "cell_type": "code",
   "execution_count": 2,
   "metadata": {},
   "outputs": [],
   "source": [
    "x = get_image_files(path)\n",
    "y = L(parent_label(o) for o in get_image_files(path))"
   ]
  },
  {
   "cell_type": "markdown",
   "metadata": {},
   "source": [
    "Get 10% of the indexes to randomly change"
   ]
  },
  {
   "cell_type": "code",
   "execution_count": 3,
   "metadata": {},
   "outputs": [
    {
     "data": {
      "text/plain": [
       "(7000, array([17419, 48844, 61590, 49810, 26348]))"
      ]
     },
     "execution_count": 3,
     "metadata": {},
     "output_type": "execute_result"
    }
   ],
   "source": [
    "n = len(x)\n",
    "rng = default_rng()\n",
    "\n",
    "noise_idxs = rng.choice(n, size=round(n*0.1), replace=False)\n",
    "len(noise_idxs),noise_idxs[:5]"
   ]
  },
  {
   "cell_type": "markdown",
   "metadata": {},
   "source": [
    "Randomly change these so we have some bad labels"
   ]
  },
  {
   "cell_type": "code",
   "execution_count": 4,
   "metadata": {},
   "outputs": [],
   "source": [
    "for i in range(0,len(noise_idxs)):\n",
    "    old_path = str(x[noise_idxs[i]])\n",
    "                     \n",
    "    if 'training' in old_path:\n",
    "        new_path = str(x[noise_idxs[i]])[:49]+f'{np.random.randint(0,10)}'+str(x[noise_idxs[i]])[50:]\n",
    "    elif 'testing' in old_path:\n",
    "        new_path = str(x[noise_idxs[i]])[:48]+f'{np.random.randint(0,10)}'+str(x[noise_idxs[i]])[49:]\n",
    "        \n",
    "    os.system(f'mv {old_path} {new_path}')\n"
   ]
  },
  {
   "cell_type": "markdown",
   "metadata": {},
   "source": [
    "## Look at Data"
   ]
  },
  {
   "cell_type": "markdown",
   "metadata": {},
   "source": [
    "Some of our labels are now misclassified, but we don't know which ones.  We could look at every image to find them, but that would take a ton of time.  Let's try to find the misclassified images and correct them using a pseudo labeling approach."
   ]
  },
  {
   "cell_type": "code",
   "execution_count": 31,
   "metadata": {},
   "outputs": [
    {
     "data": {
      "image/png": "[encoded data removed]",
      "text/plain": [
       "<Figure size 432x432 with 16 Axes>"
      ]
     },
     "metadata": {
      "needs_background": "light"
     },
     "output_type": "display_data"
    }
   ],
   "source": [
    "mnist = DataBlock(blocks=(ImageBlock(cls=PILImageBW), CategoryBlock), \n",
    "                  get_items=get_image_files, \n",
    "                  splitter=RandomSplitter(),\n",
    "                  get_y=parent_label)\n",
    "dls = mnist.dataloaders(path,bs=16)\n",
    "dls.show_batch(max_n=36,figsize=(6,6))"
   ]
  },
  {
   "cell_type": "markdown",
   "metadata": {},
   "source": [
    "## Create Crossfold, Train, and Predict\n",
    "\n",
    "This step is much simpler if you are generating labels for the test set, as you would train your model as normal and predict as normal.  The reason I am doing cross folds is to get predicted labels on the training set.\n",
    "\n",
    ">Note:  I am doing this with a 2 fold, but you may want to use a 5-fold or more folds.\n",
    "\n",
    "This cross-fold code was mostly supplied by [Zach Mueller](https://twitter.com/TheZachMueller), with minor modifications by me for this dataset and tutorial.  There is also a tutorial he wrote with more details [here](https://github.com/muellerzr/Practical-Deep-Learning-for-Coders-2.0/blob/master/Computer%20Vision/03_Cross_Validation.ipynb)"
   ]
  },
  {
   "cell_type": "code",
   "execution_count": 6,
   "metadata": {},
   "outputs": [
    {
     "data": {
      "text/html": [
       "<table border=\"1\" class=\"dataframe\">\n",
       "  <thead>\n",
       "    <tr style=\"text-align: left;\">\n",
       "      <th>epoch</th>\n",
       "      <th>train_loss</th>\n",
       "      <th>valid_loss</th>\n",
       "      <th>accuracy</th>\n",
       "      <th>time</th>\n",
       "    </tr>\n",
       "  </thead>\n",
       "  <tbody>\n",
       "    <tr>\n",
       "      <td>0</td>\n",
       "      <td>1.310182</td>\n",
       "      <td>1.102497</td>\n",
       "      <td>0.722114</td>\n",
       "      <td>01:01</td>\n",
       "    </tr>\n",
       "  </tbody>\n",
       "</table>"
      ],
      "text/plain": [
       "<IPython.core.display.HTML object>"
      ]
     },
     "metadata": {},
     "output_type": "display_data"
    },
    {
     "data": {
      "text/html": [
       "<table border=\"1\" class=\"dataframe\">\n",
       "  <thead>\n",
       "    <tr style=\"text-align: left;\">\n",
       "      <th>epoch</th>\n",
       "      <th>train_loss</th>\n",
       "      <th>valid_loss</th>\n",
       "      <th>accuracy</th>\n",
       "      <th>time</th>\n",
       "    </tr>\n",
       "  </thead>\n",
       "  <tbody>\n",
       "    <tr>\n",
       "      <td>0</td>\n",
       "      <td>0.696935</td>\n",
       "      <td>0.617736</td>\n",
       "      <td>0.886114</td>\n",
       "      <td>01:20</td>\n",
       "    </tr>\n",
       "    <tr>\n",
       "      <td>1</td>\n",
       "      <td>0.631840</td>\n",
       "      <td>0.570121</td>\n",
       "      <td>0.895343</td>\n",
       "      <td>01:21</td>\n",
       "    </tr>\n",
       "  </tbody>\n",
       "</table>"
      ],
      "text/plain": [
       "<IPython.core.display.HTML object>"
      ]
     },
     "metadata": {},
     "output_type": "display_data"
    },
    {
     "data": {
      "text/html": [],
      "text/plain": [
       "<IPython.core.display.HTML object>"
      ]
     },
     "metadata": {},
     "output_type": "display_data"
    },
    {
     "data": {
      "text/html": [
       "<table border=\"1\" class=\"dataframe\">\n",
       "  <thead>\n",
       "    <tr style=\"text-align: left;\">\n",
       "      <th>epoch</th>\n",
       "      <th>train_loss</th>\n",
       "      <th>valid_loss</th>\n",
       "      <th>accuracy</th>\n",
       "      <th>time</th>\n",
       "    </tr>\n",
       "  </thead>\n",
       "  <tbody>\n",
       "    <tr>\n",
       "      <td>0</td>\n",
       "      <td>1.379348</td>\n",
       "      <td>1.098212</td>\n",
       "      <td>0.715343</td>\n",
       "      <td>01:04</td>\n",
       "    </tr>\n",
       "  </tbody>\n",
       "</table>"
      ],
      "text/plain": [
       "<IPython.core.display.HTML object>"
      ]
     },
     "metadata": {},
     "output_type": "display_data"
    },
    {
     "data": {
      "text/html": [
       "<table border=\"1\" class=\"dataframe\">\n",
       "  <thead>\n",
       "    <tr style=\"text-align: left;\">\n",
       "      <th>epoch</th>\n",
       "      <th>train_loss</th>\n",
       "      <th>valid_loss</th>\n",
       "      <th>accuracy</th>\n",
       "      <th>time</th>\n",
       "    </tr>\n",
       "  </thead>\n",
       "  <tbody>\n",
       "    <tr>\n",
       "      <td>0</td>\n",
       "      <td>0.725246</td>\n",
       "      <td>0.607686</td>\n",
       "      <td>0.888714</td>\n",
       "      <td>01:21</td>\n",
       "    </tr>\n",
       "    <tr>\n",
       "      <td>1</td>\n",
       "      <td>0.625833</td>\n",
       "      <td>0.557313</td>\n",
       "      <td>0.897943</td>\n",
       "      <td>01:21</td>\n",
       "    </tr>\n",
       "  </tbody>\n",
       "</table>"
      ],
      "text/plain": [
       "<IPython.core.display.HTML object>"
      ]
     },
     "metadata": {},
     "output_type": "display_data"
    },
    {
     "data": {
      "text/html": [],
      "text/plain": [
       "<IPython.core.display.HTML object>"
      ]
     },
     "metadata": {},
     "output_type": "display_data"
    }
   ],
   "source": [
    "skf = StratifiedKFold(n_splits=2, shuffle=True, random_state=1)\n",
    "splits, preds, targs, preds_c, items = [],[],[],[], []\n",
    "\n",
    "for _, val_idx in skf.split(x,y):\n",
    "    splitter = IndexSplitter(val_idx)\n",
    "    splits.append(val_idx)\n",
    "\n",
    "    mnist = DataBlock(blocks=(ImageBlock(cls=PILImageBW), CategoryBlock), \n",
    "                      get_items=get_image_files, \n",
    "                      splitter=splitter,\n",
    "                      get_y=parent_label)\n",
    "\n",
    "    dls = mnist.dataloaders(path,bs=16)\n",
    "    learn = cnn_learner(dls,resnet18,metrics=accuracy)\n",
    "    learn.fine_tune(2,reset_opt=True)\n",
    "    \n",
    "    # store predictions\n",
    "    p, t, c = learn.get_preds(ds_idx=1,with_decoded=True)\n",
    "    preds.append(p); targs.append(t); preds_c.append(c); items.append(dls.valid.items)"
   ]
  },
  {
   "cell_type": "markdown",
   "metadata": {},
   "source": [
    "## Look at Predictions\n",
    "\n",
    "Lets throw it all in a dataframe so we can look at what we have a little easier.  First, let's break out our differnt pieces of information."
   ]
  },
  {
   "cell_type": "code",
   "execution_count": 7,
   "metadata": {},
   "outputs": [],
   "source": [
    "items_flat = L(itertools.chain.from_iterable(items))\n",
    "imgs = L(o for o in items_flat)\n",
    "y_true = L(int(parent_label(o)) for o in items_flat) # Labels from dataset\n",
    "y_targ = L(int(o) for o in torch.cat(targs)) # Labels from out predictions\n",
    "y_pred = L(int(o) for o in torch.cat(preds_c)) # predicted labels or \"pseudo labels\"\n",
    "p_max = torch.cat(preds).max(dim=1)[0] # max model score for row"
   ]
  },
  {
   "cell_type": "markdown",
   "metadata": {},
   "source": [
    "We can double check we are matching things upp correctly by checking that the labels line up from the predictions and the original data.  Throwing some simple assert statements in is nice because it takes no time and it will let you know if you screw something up later as you are tinkering with things."
   ]
  },
  {
   "cell_type": "code",
   "execution_count": 8,
   "metadata": {},
   "outputs": [],
   "source": [
    "assert (y_true == y_targ) # test we matched these up correct"
   ]
  },
  {
   "cell_type": "markdown",
   "metadata": {},
   "source": [
    "Put it in a dataframe and see what we have."
   ]
  },
  {
   "cell_type": "code",
   "execution_count": 9,
   "metadata": {},
   "outputs": [
    {
     "data": {
      "text/html": [
       "<div>\n",
       "<style scoped>\n",
       "    .dataframe tbody tr th:only-of-type {\n",
       "        vertical-align: middle;\n",
       "    }\n",
       "\n",
       "    .dataframe tbody tr th {\n",
       "        vertical-align: top;\n",
       "    }\n",
       "\n",
       "    .dataframe thead th {\n",
       "        text-align: right;\n",
       "    }\n",
       "</style>\n",
       "<table border=\"1\" class=\"dataframe\">\n",
       "  <thead>\n",
       "    <tr style=\"text-align: right;\">\n",
       "      <th></th>\n",
       "      <th>imgs</th>\n",
       "      <th>y_true</th>\n",
       "      <th>y_pred</th>\n",
       "      <th>p_max</th>\n",
       "    </tr>\n",
       "  </thead>\n",
       "  <tbody>\n",
       "    <tr>\n",
       "      <th>0</th>\n",
       "      <td>/home/isaacflath/.fastai/data/mnist_png/testing/1/8418.png</td>\n",
       "      <td>1</td>\n",
       "      <td>1</td>\n",
       "      <td>0.864995</td>\n",
       "    </tr>\n",
       "    <tr>\n",
       "      <th>1</th>\n",
       "      <td>/home/isaacflath/.fastai/data/mnist_png/testing/1/2888.png</td>\n",
       "      <td>1</td>\n",
       "      <td>7</td>\n",
       "      <td>0.900654</td>\n",
       "    </tr>\n",
       "    <tr>\n",
       "      <th>2</th>\n",
       "      <td>/home/isaacflath/.fastai/data/mnist_png/testing/1/6482.png</td>\n",
       "      <td>1</td>\n",
       "      <td>1</td>\n",
       "      <td>0.906335</td>\n",
       "    </tr>\n",
       "    <tr>\n",
       "      <th>3</th>\n",
       "      <td>/home/isaacflath/.fastai/data/mnist_png/testing/1/7582.png</td>\n",
       "      <td>1</td>\n",
       "      <td>1</td>\n",
       "      <td>0.902999</td>\n",
       "    </tr>\n",
       "    <tr>\n",
       "      <th>4</th>\n",
       "      <td>/home/isaacflath/.fastai/data/mnist_png/testing/1/4232.png</td>\n",
       "      <td>1</td>\n",
       "      <td>1</td>\n",
       "      <td>0.925955</td>\n",
       "    </tr>\n",
       "  </tbody>\n",
       "</table>\n",
       "</div>"
      ],
      "text/plain": [
       "                                                         imgs  y_true  y_pred  \\\n",
       "0  /home/isaacflath/.fastai/data/mnist_png/testing/1/8418.png       1       1   \n",
       "1  /home/isaacflath/.fastai/data/mnist_png/testing/1/2888.png       1       7   \n",
       "2  /home/isaacflath/.fastai/data/mnist_png/testing/1/6482.png       1       1   \n",
       "3  /home/isaacflath/.fastai/data/mnist_png/testing/1/7582.png       1       1   \n",
       "4  /home/isaacflath/.fastai/data/mnist_png/testing/1/4232.png       1       1   \n",
       "\n",
       "      p_max  \n",
       "0  0.864995  \n",
       "1  0.900654  \n",
       "2  0.906335  \n",
       "3  0.902999  \n",
       "4  0.925955  "
      ]
     },
     "execution_count": 9,
     "metadata": {},
     "output_type": "execute_result"
    }
   ],
   "source": [
    "res = pd.DataFrame({'imgs':imgs,'y_true':y_true,'y_pred':y_pred,'p_max':p_max})\n",
    "res.head(5)"
   ]
  },
  {
   "cell_type": "markdown",
   "metadata": {},
   "source": [
    "Perfect so lets get a list of our images our model got 'wrong' and grab some random ones out of the top 5000 the model was most confident about.  The theory is that many of these may be misclassified, and we can reclassify them either using the predicted 'pseudo' labels, or with manual classification."
   ]
  },
  {
   "cell_type": "code",
   "execution_count": 24,
   "metadata": {},
   "outputs": [],
   "source": [
    "imgs = res[res.y_true != res.y_pred].sort_values('p_max',ascending=False)[:5000].sample(frac=1)"
   ]
  },
  {
   "cell_type": "markdown",
   "metadata": {},
   "source": [
    "And then we plot them and see our predicted labels of these are WAY better than the actual labels.  A great way to identify some bad labels."
   ]
  },
  {
   "cell_type": "code",
   "execution_count": 27,
   "metadata": {},
   "outputs": [
    {
     "data": {
      "image/png": "[encoded data removed]",
      "text/plain": [
       "<Figure size 720x720 with 25 Axes>"
      ]
     },
     "metadata": {
      "needs_background": "light"
     },
     "output_type": "display_data"
    }
   ],
   "source": [
    "%matplotlib inline\n",
    "fig, ax = plt.subplots(5,5,figsize=(10,10))\n",
    "\n",
    "for row in range(0,5):\n",
    "    for col in range(0,5):\n",
    "        img_path1 = imgs.iloc[row*4+col,0]\n",
    "        img_path1 = np.array(Image.open(img_path1))\n",
    "        ax[row,col].imshow(img_path1,cmap='Greys')\n",
    "        ax[row,col].set_title(f'Label:{parent_label(imgs.iloc[row*4+col,0])} | Pred:{imgs.iloc[row*4+col,2]}')\n",
    "        ax[row,col].get_xaxis().set_visible(False)\n",
    "        ax[row,col].get_yaxis().set_visible(False)"
   ]
  },
  {
   "cell_type": "markdown",
   "metadata": {},
   "source": [
    "## What Next?"
   ]
  },
  {
   "cell_type": "markdown",
   "metadata": {},
   "source": [
    "Now that we have found mislabeled data, we can fix them.  We see that in this problem in the top 5000 most confident wrong answers our predicted labels are much better.\n",
    "\n",
    "So the next step would be to replace the labels with our predicted labels, then train our model on the newly cleaned labels!\n",
    "\n",
    ">Note:  This same approach can be used on unlabeled data to get data points the model is confident in to expand the training data."
   ]
  }
 ],
 "metadata": {
  "kernelspec": {
   "display_name": "Python 3",
   "language": "python",
   "name": "python3"
  },
  "language_info": {
   "codemirror_mode": {
    "name": "ipython",
    "version": 3
   },
   "file_extension": ".py",
   "mimetype": "text/x-python",
   "name": "python",
   "nbconvert_exporter": "python",
   "pygments_lexer": "ipython3",
   "version": "3.8.5"
  }
 },
 "nbformat": 4,
 "nbformat_minor": 4
}

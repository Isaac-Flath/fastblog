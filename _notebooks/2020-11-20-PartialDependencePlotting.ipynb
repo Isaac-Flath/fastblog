{
 "cells": [
  {
   "cell_type": "markdown",
   "metadata": {},
   "source": [
    "# Partial Dependence Plotting\n",
    "\n",
    "> A guide for showing the benefits and technique to Partial Dependence Plotting\n",
    "\n",
    "- toc: true \n",
    "- badges: true\n",
    "- comments: true\n",
    "- author: Isaac Flath\n",
    "- categories: [Interpretation]"
   ]
  },
  {
   "cell_type": "markdown",
   "metadata": {},
   "source": [
    "# What is it?\n",
    "\n",
    "Traditional analysis looks at historical data and describes it.  The data is fixed and you are looking to make a prediction based on the data.  The person is responsible for finding **and** understanding the interactions.  This gets exponentially more difficult in higher dimensional problems.\n",
    "\n",
    "Partial Dependence Plotting looks at a prediction, and modifies the data to see how it effects the prediction.  The **model** is fixed and you are looking to understand interactions by modifying the data.  **The model is responsible for finding the interactions and the person just focuses on understanding the interactions the model found.**\n",
    "\n",
    "In this way, you can think of Descriptive Analysis as a method of analysis that focuses on understanding the data, where Partial Dependence Plotting is a method of analysis that focuses on understanding the predictions.  They can accomplish similar goals but approach it differently.\n"
   ]
  },
  {
   "cell_type": "markdown",
   "metadata": {},
   "source": [
    "# Why use it?\n",
    "\n",
    "One of the **biggest challenges of statistics is that is requires a person to make a series of assumptions**.  Whether you are doing p-values, or correlations, or any other test you are typically making some assumption.  Maybe you have to assume the data follows a particular distribution, maybe you have to assume that your variables are independent, or maybe you assume your variables and linearly dependent.  Whatever the case may be, you typically have to make some assumption - and if you make the wrong assumptions you can get incorrect findings.  It's for this reason that P-Values are not recommended for use in validating results by the majority of the top statisticians (including the American Statistical Association), despite the fact that most business analysts use them heavily in their analysis and decision making.  \n",
    "\n",
    "This leads me to the first advantage of the partial dependence plotting approach, which is a big differentiator between statistics and data science.  **With partial dependence plotting you are testing through experimentation rather than through descriptive statistics and statistical testing**.  For example a Neural Network can approximate any function, whether that is linear, exponential, logistic, or any other shape with any number of interactions. So I can use that, measure the accuracy, and understand the uncertainty of my analysis with no assumptions about distribution, co-linearity, or type of function.\n",
    "\n",
    "A second advantage is that if you have sufficient data for your analysis, but it's not all the right type due to some data imbalance you can leverage all the data for the analysis.  For example, if you are looking at customer churn you likely have many more accounts that did not churn than accounts that did churn.  With descriptive statistics you will look at the few churned accounts and see what they have in common.  With a model driven approach, **you can look at accounts that did not churn and see what changes you could make to those accounts that makes them more likely to churn.**\n",
    "\n",
    "A third advantage is that the output you are seeing is the prediction.  **The prediction of the future is often what is of value**, so if the goal is to make some decision based on what is likely to happen in the future **keeping that in the forefront is ideal.**"
   ]
  },
  {
   "cell_type": "markdown",
   "metadata": {},
   "source": [
    "# Examples"
   ]
  },
  {
   "cell_type": "markdown",
   "metadata": {},
   "source": [
    "Ok enough jibber-jabber.  Let's look at some examples.  We'll start simple and get a litle bit more complicated over time."
   ]
  },
  {
   "cell_type": "markdown",
   "metadata": {},
   "source": [
    "### Logistic Regression"
   ]
  },
  {
   "cell_type": "markdown",
   "metadata": {},
   "source": [
    "Let's create a model on the classic iris dataset and fit a logistic regression to it.  When we do this, we see we have a mean accuracy score of about 97%.  "
   ]
  },
  {
   "cell_type": "code",
   "execution_count": 83,
   "metadata": {},
   "outputs": [
    {
     "data": {
      "text/plain": [
       "0.9733333333333334"
      ]
     },
     "execution_count": 83,
     "metadata": {},
     "output_type": "execute_result"
    }
   ],
   "source": [
    "from sklearn.datasets import load_iris\n",
    "from sklearn.linear_model import LogisticRegression\n",
    "X, y = load_iris(return_X_y=True)\n",
    "clf = LogisticRegression(max_iter=500).fit(X, y)\n",
    "clf.score(X, y)"
   ]
  },
  {
   "cell_type": "markdown",
   "metadata": {},
   "source": [
    "That's pretty good, but we don't really know what the important variables are.  Let's experiment a bit. \n",
    "\n",
    "for our first 2 rows of data we can see the model predicts 0, which is the correct answer.  What changes could we make to the data to make it predict something else?"
   ]
  },
  {
   "cell_type": "code",
   "execution_count": 84,
   "metadata": {},
   "outputs": [
    {
     "data": {
      "text/plain": [
       "array([[5.1, 3.5, 1.4, 0.2],\n",
       "       [4.9, 3. , 1.4, 0.2]])"
      ]
     },
     "execution_count": 84,
     "metadata": {},
     "output_type": "execute_result"
    }
   ],
   "source": [
    "X[0:2, :]"
   ]
  },
  {
   "cell_type": "code",
   "execution_count": 85,
   "metadata": {},
   "outputs": [
    {
     "data": {
      "text/plain": [
       "array([0, 0])"
      ]
     },
     "execution_count": 85,
     "metadata": {},
     "output_type": "execute_result"
    }
   ],
   "source": [
    "clf.predict(X[0:2, :])\n"
   ]
  },
  {
   "cell_type": "markdown",
   "metadata": {},
   "source": [
    "Let's test adding to each of the columns and see if any change the predictions.  Our original prediction is [0,0], so anything different tells us something"
   ]
  },
  {
   "cell_type": "code",
   "execution_count": 101,
   "metadata": {},
   "outputs": [
    {
     "name": "stdout",
     "output_type": "stream",
     "text": [
      "New Values\n",
      "[[25.1  3.5  1.4  0.2]\n",
      " [24.9  3.   1.4  0.2]]\n",
      "Prediction\n",
      "[1 1]\n",
      "New Values\n",
      "[[ 5.1 23.5  1.4  0.2]\n",
      " [ 4.9 23.   1.4  0.2]]\n",
      "Prediction\n",
      "[0 0]\n",
      "New Values\n",
      "[[ 5.1  3.5 21.4  0.2]\n",
      " [ 4.9  3.  21.4  0.2]]\n",
      "Prediction\n",
      "[2 2]\n",
      "New Values\n",
      "[[ 5.1  3.5  1.4 20.2]\n",
      " [ 4.9  3.   1.4 20.2]]\n",
      "Prediction\n",
      "[2 2]\n"
     ]
    }
   ],
   "source": [
    "for i in range(0,X_temp.shape[1]):\n",
    "  X_temp = X[0:2, :].copy()\n",
    "  X_temp[:,i] = X_temp[:,i]+20\n",
    "  print('New Values')\n",
    "  print(X_temp)\n",
    "  print('Prediction')\n",
    "  print(clf.predict(X_temp))"
   ]
  },
  {
   "cell_type": "markdown",
   "metadata": {},
   "source": [
    "That's interesting. We can see that adding to the 1st, 3rd, and 4th variable made our model make a different prediction.  Since we know our model was about 97% accurate, we know this is meaningful.  It is picking up on some trend in the data using each of these columns.  Lets hone in on column 1 to see if we can understand this more."
   ]
  },
  {
   "cell_type": "code",
   "execution_count": 118,
   "metadata": {},
   "outputs": [
    {
     "name": "stdout",
     "output_type": "stream",
     "text": [
      "Prediction for adding 4\n",
      "[0 1]\n",
      "Prediction for adding 5\n",
      "[1 1]\n",
      "Prediction for adding 6\n",
      "[1 1]\n",
      "Prediction for adding 7\n",
      "[1 1]\n",
      "Prediction for adding 8\n",
      "[1 1]\n",
      "Prediction for adding 9\n",
      "[1 1]\n"
     ]
    }
   ],
   "source": [
    "for i in range(-10,10):\n",
    "  X_temp = X[0:2, :].copy()\n",
    "  X_temp[:,0] = X_temp[:,0]+i\n",
    "  if (clf.predict(X_temp) == np.array([0,0])).all():\n",
    "    continue\n",
    "  print('Prediction for adding ' +str(i))\n",
    "  print(clf.predict(X_temp))\n"
   ]
  },
  {
   "cell_type": "markdown",
   "metadata": {},
   "source": [
    "Great, here we see that subtracting from that value does not change the prediction, but once we start adding 4 - 5 to it changes.  Our original value for these rows were 5.1 and 4.9, so it seems that when we get to the 9 - 10 range for that value it becomes more likely that it is a different class all other things equal.\n",
    "\n",
    "This is great insight, and throughout this process we made no assumptions of co-linearity, distribution, or anything else.  we just manipulated the data to see the change in predictions of the mode."
   ]
  },
  {
   "cell_type": "markdown",
   "metadata": {},
   "source": [
    "##### Neural Network"
   ]
  },
  {
   "cell_type": "markdown",
   "metadata": {},
   "source": [
    "Let's try a slightly more difficult problem and use a Neural Net.  I could have used an XGBoost or a random forest, or any other model choice.\n",
    "\n",
    "The goal of this dataset is to predict whether the person makes more or less than 50K salary.  This could be useful for marketing reasons if you are trying to decide what products to market to whom.  Let's first look at the data."
   ]
  },
  {
   "cell_type": "code",
   "execution_count": 1,
   "metadata": {},
   "outputs": [
    {
     "data": {
      "text/html": [
       "<div>\n",
       "<style scoped>\n",
       "    .dataframe tbody tr th:only-of-type {\n",
       "        vertical-align: middle;\n",
       "    }\n",
       "\n",
       "    .dataframe tbody tr th {\n",
       "        vertical-align: top;\n",
       "    }\n",
       "\n",
       "    .dataframe thead th {\n",
       "        text-align: right;\n",
       "    }\n",
       "</style>\n",
       "<table border=\"1\" class=\"dataframe\">\n",
       "  <thead>\n",
       "    <tr style=\"text-align: right;\">\n",
       "      <th></th>\n",
       "      <th>age</th>\n",
       "      <th>workclass</th>\n",
       "      <th>fnlwgt</th>\n",
       "      <th>education</th>\n",
       "      <th>education-num</th>\n",
       "      <th>marital-status</th>\n",
       "      <th>occupation</th>\n",
       "      <th>relationship</th>\n",
       "      <th>race</th>\n",
       "      <th>sex</th>\n",
       "      <th>capital-gain</th>\n",
       "      <th>capital-loss</th>\n",
       "      <th>hours-per-week</th>\n",
       "      <th>native-country</th>\n",
       "      <th>salary</th>\n",
       "    </tr>\n",
       "  </thead>\n",
       "  <tbody>\n",
       "    <tr>\n",
       "      <th>0</th>\n",
       "      <td>49</td>\n",
       "      <td>Private</td>\n",
       "      <td>101320</td>\n",
       "      <td>Assoc-acdm</td>\n",
       "      <td>12.0</td>\n",
       "      <td>Married-civ-spouse</td>\n",
       "      <td>NaN</td>\n",
       "      <td>Wife</td>\n",
       "      <td>White</td>\n",
       "      <td>Female</td>\n",
       "      <td>0</td>\n",
       "      <td>1902</td>\n",
       "      <td>40</td>\n",
       "      <td>United-States</td>\n",
       "      <td>&gt;=50k</td>\n",
       "    </tr>\n",
       "    <tr>\n",
       "      <th>1</th>\n",
       "      <td>44</td>\n",
       "      <td>Private</td>\n",
       "      <td>236746</td>\n",
       "      <td>Masters</td>\n",
       "      <td>14.0</td>\n",
       "      <td>Divorced</td>\n",
       "      <td>Exec-managerial</td>\n",
       "      <td>Not-in-family</td>\n",
       "      <td>White</td>\n",
       "      <td>Male</td>\n",
       "      <td>10520</td>\n",
       "      <td>0</td>\n",
       "      <td>45</td>\n",
       "      <td>United-States</td>\n",
       "      <td>&gt;=50k</td>\n",
       "    </tr>\n",
       "    <tr>\n",
       "      <th>2</th>\n",
       "      <td>38</td>\n",
       "      <td>Private</td>\n",
       "      <td>96185</td>\n",
       "      <td>HS-grad</td>\n",
       "      <td>NaN</td>\n",
       "      <td>Divorced</td>\n",
       "      <td>NaN</td>\n",
       "      <td>Unmarried</td>\n",
       "      <td>Black</td>\n",
       "      <td>Female</td>\n",
       "      <td>0</td>\n",
       "      <td>0</td>\n",
       "      <td>32</td>\n",
       "      <td>United-States</td>\n",
       "      <td>&lt;50k</td>\n",
       "    </tr>\n",
       "    <tr>\n",
       "      <th>3</th>\n",
       "      <td>38</td>\n",
       "      <td>Self-emp-inc</td>\n",
       "      <td>112847</td>\n",
       "      <td>Prof-school</td>\n",
       "      <td>15.0</td>\n",
       "      <td>Married-civ-spouse</td>\n",
       "      <td>Prof-specialty</td>\n",
       "      <td>Husband</td>\n",
       "      <td>Asian-Pac-Islander</td>\n",
       "      <td>Male</td>\n",
       "      <td>0</td>\n",
       "      <td>0</td>\n",
       "      <td>40</td>\n",
       "      <td>United-States</td>\n",
       "      <td>&gt;=50k</td>\n",
       "    </tr>\n",
       "    <tr>\n",
       "      <th>4</th>\n",
       "      <td>42</td>\n",
       "      <td>Self-emp-not-inc</td>\n",
       "      <td>82297</td>\n",
       "      <td>7th-8th</td>\n",
       "      <td>NaN</td>\n",
       "      <td>Married-civ-spouse</td>\n",
       "      <td>Other-service</td>\n",
       "      <td>Wife</td>\n",
       "      <td>Black</td>\n",
       "      <td>Female</td>\n",
       "      <td>0</td>\n",
       "      <td>0</td>\n",
       "      <td>50</td>\n",
       "      <td>United-States</td>\n",
       "      <td>&lt;50k</td>\n",
       "    </tr>\n",
       "  </tbody>\n",
       "</table>\n",
       "</div>"
      ],
      "text/plain": [
       "   age          workclass  fnlwgt     education  education-num  \\\n",
       "0   49            Private  101320    Assoc-acdm           12.0   \n",
       "1   44            Private  236746       Masters           14.0   \n",
       "2   38            Private   96185       HS-grad            NaN   \n",
       "3   38       Self-emp-inc  112847   Prof-school           15.0   \n",
       "4   42   Self-emp-not-inc   82297       7th-8th            NaN   \n",
       "\n",
       "        marital-status        occupation    relationship                 race  \\\n",
       "0   Married-civ-spouse               NaN            Wife                White   \n",
       "1             Divorced   Exec-managerial   Not-in-family                White   \n",
       "2             Divorced               NaN       Unmarried                Black   \n",
       "3   Married-civ-spouse    Prof-specialty         Husband   Asian-Pac-Islander   \n",
       "4   Married-civ-spouse     Other-service            Wife                Black   \n",
       "\n",
       "       sex  capital-gain  capital-loss  hours-per-week  native-country salary  \n",
       "0   Female             0          1902              40   United-States  >=50k  \n",
       "1     Male         10520             0              45   United-States  >=50k  \n",
       "2   Female             0             0              32   United-States   <50k  \n",
       "3     Male             0             0              40   United-States  >=50k  \n",
       "4   Female             0             0              50   United-States   <50k  "
      ]
     },
     "execution_count": 1,
     "metadata": {},
     "output_type": "execute_result"
    }
   ],
   "source": [
    "from fastai.tabular.all import *\n",
    "path = untar_data('ADULT_SAMPLE')\n",
    "df = pd.read_csv(path/'adult.csv')\n",
    "df.head()"
   ]
  },
  {
   "cell_type": "markdown",
   "metadata": {},
   "source": [
    "Ok, so we can see we've got a lot of difference variables or both categorical and continuous to look at.  Lets format this for a Neural Network and fit the model."
   ]
  },
  {
   "cell_type": "code",
   "execution_count": 2,
   "metadata": {},
   "outputs": [],
   "source": [
    "to = TabularPandas(df, procs=[Categorify, FillMissing,Normalize],\n",
    "                   cat_names = ['workclass', 'education', 'marital-status', 'occupation', 'relationship', 'race'],\n",
    "                   cont_names = ['age', 'fnlwgt', 'education-num'],\n",
    "                   y_names='salary',\n",
    "                   splits=RandomSplitter(valid_pct=0.2)(range_of(df)))\n",
    "dls = to.dataloaders(bs=64)\n"
   ]
  },
  {
   "cell_type": "code",
   "execution_count": 3,
   "metadata": {},
   "outputs": [
    {
     "data": {
      "text/html": [
       "<table border=\"1\" class=\"dataframe\">\n",
       "  <thead>\n",
       "    <tr style=\"text-align: left;\">\n",
       "      <th>epoch</th>\n",
       "      <th>train_loss</th>\n",
       "      <th>valid_loss</th>\n",
       "      <th>accuracy</th>\n",
       "      <th>time</th>\n",
       "    </tr>\n",
       "  </thead>\n",
       "  <tbody>\n",
       "    <tr>\n",
       "      <td>0</td>\n",
       "      <td>0.363723</td>\n",
       "      <td>0.374584</td>\n",
       "      <td>0.823710</td>\n",
       "      <td>00:04</td>\n",
       "    </tr>\n",
       "    <tr>\n",
       "      <td>1</td>\n",
       "      <td>0.350536</td>\n",
       "      <td>0.357585</td>\n",
       "      <td>0.832002</td>\n",
       "      <td>00:04</td>\n",
       "    </tr>\n",
       "    <tr>\n",
       "      <td>2</td>\n",
       "      <td>0.342484</td>\n",
       "      <td>0.354669</td>\n",
       "      <td>0.831081</td>\n",
       "      <td>00:04</td>\n",
       "    </tr>\n",
       "  </tbody>\n",
       "</table>"
      ],
      "text/plain": [
       "<IPython.core.display.HTML object>"
      ]
     },
     "metadata": {},
     "output_type": "display_data"
    }
   ],
   "source": [
    "learn = tabular_learner(dls, metrics=accuracy, wd=0.01)\n",
    "print(to.valid.xs.shape)\n",
    "learn.fit_one_cycle(3)"
   ]
  },
  {
   "cell_type": "code",
   "execution_count": 17,
   "metadata": {},
   "outputs": [
    {
     "data": {
      "text/plain": [
       "21805    0\n",
       "14537    0\n",
       "1399     0\n",
       "8107     0\n",
       "16255    0\n",
       "        ..\n",
       "3603     1\n",
       "15429    0\n",
       "3551     0\n",
       "1880     0\n",
       "30442    0\n",
       "Name: salary, Length: 32561, dtype: int8"
      ]
     },
     "execution_count": 17,
     "metadata": {},
     "output_type": "execute_result"
    }
   ],
   "source": [
    "to.y"
   ]
  },
  {
   "cell_type": "code",
   "execution_count": 37,
   "metadata": {},
   "outputs": [
    {
     "data": {
      "text/plain": [
       "age                                49\n",
       "workclass                     Private\n",
       "fnlwgt                         101320\n",
       "education                  Assoc-acdm\n",
       "education-num                      12\n",
       "marital-status     Married-civ-spouse\n",
       "occupation                        NaN\n",
       "relationship                     Wife\n",
       "race                            White\n",
       "sex                            Female\n",
       "capital-gain                        0\n",
       "capital-loss                     1902\n",
       "hours-per-week                     40\n",
       "native-country          United-States\n",
       "salary                          >=50k\n",
       "Name: 0, dtype: object"
      ]
     },
     "execution_count": 37,
     "metadata": {},
     "output_type": "execute_result"
    }
   ],
   "source": [
    "df.iloc[0]"
   ]
  },
  {
   "cell_type": "markdown",
   "metadata": {},
   "source": [
    "Perfect, we have pretty good accuracy, and our validation set has over 6000 data points.  Let's look at some features to see if we can understand what impacts our model's prediction of the individuals salary.\n",
    "\n",
    "0 = <50K, so it correctly predicts the first row is someone the makes more than 50k.  Let's see at what point the prediction switches if I reduce hours worked."
   ]
  },
  {
   "cell_type": "code",
   "execution_count": 20,
   "metadata": {},
   "outputs": [
    {
     "data": {
      "text/html": [],
      "text/plain": [
       "<IPython.core.display.HTML object>"
      ]
     },
     "metadata": {},
     "output_type": "display_data"
    },
    {
     "data": {
      "text/plain": [
       "tensor(1)"
      ]
     },
     "execution_count": 20,
     "metadata": {},
     "output_type": "execute_result"
    }
   ],
   "source": [
    "row, clas, probs = learn.predict(df.iloc[0])\n",
    "clas"
   ]
  },
  {
   "cell_type": "code",
   "execution_count": 40,
   "metadata": {},
   "outputs": [],
   "source": [
    "for i in range(-40,0):\n",
    "  X_temp = df.iloc[0].copy()\n",
    "  X_temp['hours-per-week'] = X_temp['hours-per-week']+i\n",
    "  row, clas, probs = learn.predict(X_temp)\n",
    "  if clas == tensor(1):\n",
    "    continue\n",
    "  print('Prediction for adding ' +str(i))\n",
    "  print(clas)\n",
    "  \n",
    "from IPython.display import clear_output\n",
    "clear_output()"
   ]
  },
  {
   "cell_type": "markdown",
   "metadata": {},
   "source": [
    "Interestingly, the model isn't convinced even if I change hours works to 0, maybe it thinks the money is passive income or comes from the husband.  Let's see if we can figure that out."
   ]
  },
  {
   "cell_type": "code",
   "execution_count": 41,
   "metadata": {},
   "outputs": [
    {
     "data": {
      "text/html": [],
      "text/plain": [
       "<IPython.core.display.HTML object>"
      ]
     },
     "metadata": {},
     "output_type": "display_data"
    },
    {
     "name": "stdout",
     "output_type": "stream",
     "text": [
      "Prediction for adding  Wife\n",
      "tensor(1)\n"
     ]
    },
    {
     "data": {
      "text/html": [],
      "text/plain": [
       "<IPython.core.display.HTML object>"
      ]
     },
     "metadata": {},
     "output_type": "display_data"
    },
    {
     "name": "stdout",
     "output_type": "stream",
     "text": [
      "Prediction for adding  Not-in-family\n",
      "tensor(0)\n"
     ]
    },
    {
     "data": {
      "text/html": [],
      "text/plain": [
       "<IPython.core.display.HTML object>"
      ]
     },
     "metadata": {},
     "output_type": "display_data"
    },
    {
     "name": "stdout",
     "output_type": "stream",
     "text": [
      "Prediction for adding  Unmarried\n",
      "tensor(0)\n"
     ]
    },
    {
     "data": {
      "text/html": [],
      "text/plain": [
       "<IPython.core.display.HTML object>"
      ]
     },
     "metadata": {},
     "output_type": "display_data"
    },
    {
     "name": "stdout",
     "output_type": "stream",
     "text": [
      "Prediction for adding  Husband\n",
      "tensor(0)\n"
     ]
    },
    {
     "data": {
      "text/html": [],
      "text/plain": [
       "<IPython.core.display.HTML object>"
      ]
     },
     "metadata": {},
     "output_type": "display_data"
    },
    {
     "name": "stdout",
     "output_type": "stream",
     "text": [
      "Prediction for adding  Own-child\n",
      "tensor(0)\n"
     ]
    },
    {
     "data": {
      "text/html": [],
      "text/plain": [
       "<IPython.core.display.HTML object>"
      ]
     },
     "metadata": {},
     "output_type": "display_data"
    },
    {
     "name": "stdout",
     "output_type": "stream",
     "text": [
      "Prediction for adding  Other-relative\n",
      "tensor(0)\n"
     ]
    }
   ],
   "source": [
    "for i in df.relationship.unique():\n",
    "  X_temp = df.iloc[0].copy()\n",
    "  X_temp['relationship'] = i\n",
    "  row, clas, probs = learn.predict(X_temp)\n",
    "  print('Prediction for adding ' +str(i))\n",
    "  print(clas)"
   ]
  },
  {
   "cell_type": "markdown",
   "metadata": {},
   "source": [
    "If we change the relationship to anything else, the model starts thinking she makes less than 50K instead of more.  We can continue to experiment with individual rows, or when ready try some larger experiments across the larger dataset. "
   ]
  },
  {
   "cell_type": "code",
   "execution_count": 68,
   "metadata": {},
   "outputs": [
    {
     "data": {
      "text/html": [
       "<div>\n",
       "<style scoped>\n",
       "    .dataframe tbody tr th:only-of-type {\n",
       "        vertical-align: middle;\n",
       "    }\n",
       "\n",
       "    .dataframe tbody tr th {\n",
       "        vertical-align: top;\n",
       "    }\n",
       "\n",
       "    .dataframe thead th {\n",
       "        text-align: right;\n",
       "    }\n",
       "</style>\n",
       "<table border=\"1\" class=\"dataframe\">\n",
       "  <thead>\n",
       "    <tr style=\"text-align: right;\">\n",
       "      <th></th>\n",
       "      <th>age</th>\n",
       "    </tr>\n",
       "    <tr>\n",
       "      <th>salary</th>\n",
       "      <th></th>\n",
       "    </tr>\n",
       "  </thead>\n",
       "  <tbody>\n",
       "    <tr>\n",
       "      <th>&lt;50k</th>\n",
       "      <td>754</td>\n",
       "    </tr>\n",
       "    <tr>\n",
       "      <th>&gt;=50k</th>\n",
       "      <td>246</td>\n",
       "    </tr>\n",
       "  </tbody>\n",
       "</table>\n",
       "</div>"
      ],
      "text/plain": [
       "        age\n",
       "salary     \n",
       "<50k    754\n",
       ">=50k   246"
      ]
     },
     "execution_count": 68,
     "metadata": {},
     "output_type": "execute_result"
    }
   ],
   "source": [
    "df[['salary','age']][:1000].groupby('salary').count()"
   ]
  },
  {
   "cell_type": "code",
   "execution_count": 69,
   "metadata": {},
   "outputs": [
    {
     "data": {
      "text/plain": [
       "[(' Wife', 232, 768),\n",
       " (' Not-in-family', 165, 835),\n",
       " (' Unmarried', 150, 850),\n",
       " (' Husband', 210, 790),\n",
       " (' Own-child', 161, 839),\n",
       " (' Other-relative', 107, 893)]"
      ]
     },
     "execution_count": 69,
     "metadata": {},
     "output_type": "execute_result"
    }
   ],
   "source": [
    "results = list()\n",
    "for i in df.relationship.unique():\n",
    "  g50k, l50k = (0,0)\n",
    "  df_temp = df[:1000].copy()\n",
    "  df_temp['relationship'] = i\n",
    "  for rownum in range(0,len(df_temp)):\n",
    "    if learn.predict(df_temp.iloc[rownum])[1] == tensor(1):\n",
    "      g50k += 1\n",
    "    else:\n",
    "      l50k += 1\n",
    "    clear_output()\n",
    "  results.append((i,g50k,l50k))\n",
    "results"
   ]
  },
  {
   "cell_type": "markdown",
   "metadata": {},
   "source": [
    "We see that changing the relationship did impact the predictions across 1000 samples.  Married coules, both \"Wife\" and \"Husband\" seem to be much better off with making more than 50K per year.  I wonder if their income is combined and thus being double counted.  \"Unmarried\" and \"Other-Relative\" seem to be the relationship types that are least likely to make more than 50K.  Keep iterating through experiment like we have been to dig deeper!\n",
    "\n",
    "You may be asking, how do I know 1000 samples is enough?  The answer - I don't.  Try 1500 samples next and if the results show roughly the same thing you know you have a representative sample.  This is again, the data science approach vs the statistical approach."
   ]
  },
  {
   "cell_type": "markdown",
   "metadata": {},
   "source": [
    "# What now?"
   ]
  },
  {
   "cell_type": "markdown",
   "metadata": {},
   "source": [
    "Now, you keep digging like we have been.  We can be completely sure that the model has found meaningful interactions.  We saw that in the accuracy score.  So rather than me trying to find interactions, I am trying to uncover the interactions that the model has found.  Again, I am making no assumptions in regard to distribution, co-linearity, type of relationships between variable, sample size, or anything else so it allows for much safe analysis of complex datasets."
   ]
  }
 ],
 "metadata": {
  "kernelspec": {
   "display_name": "Python 3",
   "language": "python",
   "name": "python3"
  },
  "language_info": {
   "codemirror_mode": {
    "name": "ipython",
    "version": 3
   },
   "file_extension": ".py",
   "mimetype": "text/x-python",
   "name": "python",
   "nbconvert_exporter": "python",
   "pygments_lexer": "ipython3",
   "version": "3.8.5"
  }
 },
 "nbformat": 4,
 "nbformat_minor": 4
}

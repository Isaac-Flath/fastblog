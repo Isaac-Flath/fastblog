{
 "cells": [
  {
   "cell_type": "markdown",
   "metadata": {},
   "source": [
    "# Neural Network Basics (Part 1)\n",
    "> Under the hood of a basic Deep Learning Image Classifier\n",
    "\n",
    "- toc: true \n",
    "- badges: true\n",
    "- comments: true\n",
    "- author: Isaac Flath\n",
    "- categories: [Neural Networks, Image Classification]"
   ]
  },
  {
   "cell_type": "code",
   "execution_count": 3,
   "metadata": {},
   "outputs": [
    {
     "data": {
      "text/plain": [
       "<torch._C.Generator at 0x7f38fc038470>"
      ]
     },
     "execution_count": 3,
     "metadata": {},
     "output_type": "execute_result"
    }
   ],
   "source": [
    "from fastai.vision.all import *\n",
    "from fastai.data.external import *\n",
    "from PIL import Image\n",
    "import math\n",
    "torch.manual_seed(100)"
   ]
  },
  {
   "cell_type": "markdown",
   "metadata": {},
   "source": [
    "# Intro\n",
    "\n",
    "Today we will be working with a subset of the MNIST dataset. The goal is going to be to take an image of handwritten digits and automatically predict whether it is a 3 or a 7.  We will be building a Neural Network to do this.\n",
    "\n",
    "If you get through this and want more detail, I highly recommend checking out Deep Learning for Coders with fastai & Pytorch by Jeremy Howard and Sylvain Gugger. All of the material in this guide and more is covered in much greater detail in that book.  They have some awesome courses on their fast.ai website as well.\n",
    "\n",
    "https://www.amazon.com/Deep-Learning-Coders-fastai-PyTorch/dp/1492045527"
   ]
  },
  {
   "cell_type": "markdown",
   "metadata": {},
   "source": [
    "# Load the Data\n",
    "\n",
    "Naturally, the first step is to get and load the data.  We'll look at it a bit along tohe way to make sure it was loaded properly and we understand it.  We will be using fastai's built in dataset feature rather than sourcing it ourself."
   ]
  },
  {
   "cell_type": "code",
   "execution_count": 4,
   "metadata": {},
   "outputs": [],
   "source": [
    "# This command downloads the MNIST_TINY dataset and returns the path where it was downloaded\n",
    "path = untar_data(URLs.MNIST_TINY)\n",
    "\n",
    "# This takes that path from above, and get the path for the threes and the sevens\n",
    "threes = (path/'train'/'3').ls().sorted()\n",
    "sevens = (path/'train'/'7').ls().sorted()"
   ]
  },
  {
   "cell_type": "markdown",
   "metadata": {},
   "source": [
    "Let's take a look at an image.  The first thing I reccomend doing for any dataset is to view something to verify you loaded it right. The second thing is to look at the size of it.  This is not just for memory concerns, but you want to generally know some basics about whatever you are working with. "
   ]
  },
  {
   "cell_type": "code",
   "execution_count": 5,
   "metadata": {},
   "outputs": [
    {
     "data": {
      "image/png": "[encoded data removed]",
      "text/plain": [
       "<PIL.PngImagePlugin.PngImageFile image mode=L size=28x28 at 0x7F38FC180070>"
      ]
     },
     "execution_count": 5,
     "metadata": {},
     "output_type": "execute_result"
    }
   ],
   "source": [
    "# Let's view what one of the images looks like\n",
    "im3 = Image.open(threes[1])\n",
    "im3"
   ]
  },
  {
   "cell_type": "code",
   "execution_count": 6,
   "metadata": {},
   "outputs": [
    {
     "data": {
      "text/plain": [
       "torch.Size([28, 28])"
      ]
     },
     "execution_count": 6,
     "metadata": {},
     "output_type": "execute_result"
    }
   ],
   "source": [
    "# Let's see what shape the underlying matrix is that represents the picture\n",
    "tensor(im3).shape"
   ]
  },
  {
   "cell_type": "markdown",
   "metadata": {},
   "source": [
    "What I am going to do below is put the tensor into a dataframe, and color the pixels based on the value in each place.  We can clearly see that this is a 3 just from the values in the tensor.  This should give a good idea for the data we are working with and how an image can be worked with."
   ]
  },
  {
   "cell_type": "code",
   "execution_count": 7,
   "metadata": {},
   "outputs": [
    {
     "data": {
      "text/html": [
       "<style  type=\"text/css\" >\n",
       "#T_6c54dfec_0391_11eb_9a38_c36b322c401brow0_col0,#T_6c54dfec_0391_11eb_9a38_c36b322c401brow0_col1,#T_6c54dfec_0391_11eb_9a38_c36b322c401brow0_col2,#T_6c54dfec_0391_11eb_9a38_c36b322c401brow0_col3,#T_6c54dfec_0391_11eb_9a38_c36b322c401brow0_col4,#T_6c54dfec_0391_11eb_9a38_c36b322c401brow0_col5,#T_6c54dfec_0391_11eb_9a38_c36b322c401brow0_col6,#T_6c54dfec_0391_11eb_9a38_c36b322c401brow0_col7,#T_6c54dfec_0391_11eb_9a38_c36b322c401brow0_col8,#T_6c54dfec_0391_11eb_9a38_c36b322c401brow0_col9,#T_6c54dfec_0391_11eb_9a38_c36b322c401brow0_col10,#T_6c54dfec_0391_11eb_9a38_c36b322c401brow0_col11,#T_6c54dfec_0391_11eb_9a38_c36b322c401brow0_col12,#T_6c54dfec_0391_11eb_9a38_c36b322c401brow0_col13,#T_6c54dfec_0391_11eb_9a38_c36b322c401brow0_col14,#T_6c54dfec_0391_11eb_9a38_c36b322c401brow1_col0,#T_6c54dfec_0391_11eb_9a38_c36b322c401brow1_col1,#T_6c54dfec_0391_11eb_9a38_c36b322c401brow1_col2,#T_6c54dfec_0391_11eb_9a38_c36b322c401brow1_col9,#T_6c54dfec_0391_11eb_9a38_c36b322c401brow1_col10,#T_6c54dfec_0391_11eb_9a38_c36b322c401brow1_col11,#T_6c54dfec_0391_11eb_9a38_c36b322c401brow1_col12,#T_6c54dfec_0391_11eb_9a38_c36b322c401brow1_col13,#T_6c54dfec_0391_11eb_9a38_c36b322c401brow1_col14,#T_6c54dfec_0391_11eb_9a38_c36b322c401brow2_col0,#T_6c54dfec_0391_11eb_9a38_c36b322c401brow2_col11,#T_6c54dfec_0391_11eb_9a38_c36b322c401brow2_col12,#T_6c54dfec_0391_11eb_9a38_c36b322c401brow2_col13,#T_6c54dfec_0391_11eb_9a38_c36b322c401brow2_col14,#T_6c54dfec_0391_11eb_9a38_c36b322c401brow3_col0,#T_6c54dfec_0391_11eb_9a38_c36b322c401brow3_col12,#T_6c54dfec_0391_11eb_9a38_c36b322c401brow3_col13,#T_6c54dfec_0391_11eb_9a38_c36b322c401brow3_col14,#T_6c54dfec_0391_11eb_9a38_c36b322c401brow4_col0,#T_6c54dfec_0391_11eb_9a38_c36b322c401brow4_col1,#T_6c54dfec_0391_11eb_9a38_c36b322c401brow4_col12,#T_6c54dfec_0391_11eb_9a38_c36b322c401brow4_col13,#T_6c54dfec_0391_11eb_9a38_c36b322c401brow4_col14,#T_6c54dfec_0391_11eb_9a38_c36b322c401brow5_col0,#T_6c54dfec_0391_11eb_9a38_c36b322c401brow5_col1,#T_6c54dfec_0391_11eb_9a38_c36b322c401brow5_col2,#T_6c54dfec_0391_11eb_9a38_c36b322c401brow5_col6,#T_6c54dfec_0391_11eb_9a38_c36b322c401brow5_col13,#T_6c54dfec_0391_11eb_9a38_c36b322c401brow5_col14,#T_6c54dfec_0391_11eb_9a38_c36b322c401brow6_col0,#T_6c54dfec_0391_11eb_9a38_c36b322c401brow6_col1,#T_6c54dfec_0391_11eb_9a38_c36b322c401brow6_col2,#T_6c54dfec_0391_11eb_9a38_c36b322c401brow6_col3,#T_6c54dfec_0391_11eb_9a38_c36b322c401brow6_col4,#T_6c54dfec_0391_11eb_9a38_c36b322c401brow6_col6,#T_6c54dfec_0391_11eb_9a38_c36b322c401brow6_col13,#T_6c54dfec_0391_11eb_9a38_c36b322c401brow6_col14,#T_6c54dfec_0391_11eb_9a38_c36b322c401brow7_col0,#T_6c54dfec_0391_11eb_9a38_c36b322c401brow7_col1,#T_6c54dfec_0391_11eb_9a38_c36b322c401brow7_col2,#T_6c54dfec_0391_11eb_9a38_c36b322c401brow7_col3,#T_6c54dfec_0391_11eb_9a38_c36b322c401brow7_col4,#T_6c54dfec_0391_11eb_9a38_c36b322c401brow7_col5,#T_6c54dfec_0391_11eb_9a38_c36b322c401brow7_col6,#T_6c54dfec_0391_11eb_9a38_c36b322c401brow7_col13,#T_6c54dfec_0391_11eb_9a38_c36b322c401brow7_col14,#T_6c54dfec_0391_11eb_9a38_c36b322c401brow8_col0,#T_6c54dfec_0391_11eb_9a38_c36b322c401brow8_col1,#T_6c54dfec_0391_11eb_9a38_c36b322c401brow8_col2,#T_6c54dfec_0391_11eb_9a38_c36b322c401brow8_col3,#T_6c54dfec_0391_11eb_9a38_c36b322c401brow8_col4,#T_6c54dfec_0391_11eb_9a38_c36b322c401brow8_col5,#T_6c54dfec_0391_11eb_9a38_c36b322c401brow8_col6,#T_6c54dfec_0391_11eb_9a38_c36b322c401brow8_col12,#T_6c54dfec_0391_11eb_9a38_c36b322c401brow8_col13,#T_6c54dfec_0391_11eb_9a38_c36b322c401brow8_col14,#T_6c54dfec_0391_11eb_9a38_c36b322c401brow9_col0,#T_6c54dfec_0391_11eb_9a38_c36b322c401brow9_col1,#T_6c54dfec_0391_11eb_9a38_c36b322c401brow9_col2,#T_6c54dfec_0391_11eb_9a38_c36b322c401brow9_col3,#T_6c54dfec_0391_11eb_9a38_c36b322c401brow9_col4,#T_6c54dfec_0391_11eb_9a38_c36b322c401brow9_col5,#T_6c54dfec_0391_11eb_9a38_c36b322c401brow9_col6,#T_6c54dfec_0391_11eb_9a38_c36b322c401brow9_col12,#T_6c54dfec_0391_11eb_9a38_c36b322c401brow9_col13,#T_6c54dfec_0391_11eb_9a38_c36b322c401brow9_col14,#T_6c54dfec_0391_11eb_9a38_c36b322c401brow10_col0,#T_6c54dfec_0391_11eb_9a38_c36b322c401brow10_col1,#T_6c54dfec_0391_11eb_9a38_c36b322c401brow10_col2,#T_6c54dfec_0391_11eb_9a38_c36b322c401brow10_col3,#T_6c54dfec_0391_11eb_9a38_c36b322c401brow10_col4,#T_6c54dfec_0391_11eb_9a38_c36b322c401brow10_col12,#T_6c54dfec_0391_11eb_9a38_c36b322c401brow10_col13,#T_6c54dfec_0391_11eb_9a38_c36b322c401brow10_col14,#T_6c54dfec_0391_11eb_9a38_c36b322c401brow11_col0,#T_6c54dfec_0391_11eb_9a38_c36b322c401brow11_col1,#T_6c54dfec_0391_11eb_9a38_c36b322c401brow11_col2,#T_6c54dfec_0391_11eb_9a38_c36b322c401brow11_col3,#T_6c54dfec_0391_11eb_9a38_c36b322c401brow11_col4,#T_6c54dfec_0391_11eb_9a38_c36b322c401brow11_col11,#T_6c54dfec_0391_11eb_9a38_c36b322c401brow11_col12,#T_6c54dfec_0391_11eb_9a38_c36b322c401brow11_col13,#T_6c54dfec_0391_11eb_9a38_c36b322c401brow11_col14,#T_6c54dfec_0391_11eb_9a38_c36b322c401brow12_col0,#T_6c54dfec_0391_11eb_9a38_c36b322c401brow12_col1,#T_6c54dfec_0391_11eb_9a38_c36b322c401brow12_col2,#T_6c54dfec_0391_11eb_9a38_c36b322c401brow12_col3,#T_6c54dfec_0391_11eb_9a38_c36b322c401brow12_col4,#T_6c54dfec_0391_11eb_9a38_c36b322c401brow12_col12,#T_6c54dfec_0391_11eb_9a38_c36b322c401brow12_col13,#T_6c54dfec_0391_11eb_9a38_c36b322c401brow12_col14,#T_6c54dfec_0391_11eb_9a38_c36b322c401brow13_col0,#T_6c54dfec_0391_11eb_9a38_c36b322c401brow13_col1,#T_6c54dfec_0391_11eb_9a38_c36b322c401brow13_col2,#T_6c54dfec_0391_11eb_9a38_c36b322c401brow13_col3,#T_6c54dfec_0391_11eb_9a38_c36b322c401brow13_col4,#T_6c54dfec_0391_11eb_9a38_c36b322c401brow13_col13,#T_6c54dfec_0391_11eb_9a38_c36b322c401brow13_col14,#T_6c54dfec_0391_11eb_9a38_c36b322c401brow14_col0,#T_6c54dfec_0391_11eb_9a38_c36b322c401brow14_col1,#T_6c54dfec_0391_11eb_9a38_c36b322c401brow14_col2,#T_6c54dfec_0391_11eb_9a38_c36b322c401brow14_col3,#T_6c54dfec_0391_11eb_9a38_c36b322c401brow14_col4,#T_6c54dfec_0391_11eb_9a38_c36b322c401brow14_col5,#T_6c54dfec_0391_11eb_9a38_c36b322c401brow14_col6,#T_6c54dfec_0391_11eb_9a38_c36b322c401brow14_col13,#T_6c54dfec_0391_11eb_9a38_c36b322c401brow14_col14,#T_6c54dfec_0391_11eb_9a38_c36b322c401brow15_col0,#T_6c54dfec_0391_11eb_9a38_c36b322c401brow15_col1,#T_6c54dfec_0391_11eb_9a38_c36b322c401brow15_col2,#T_6c54dfec_0391_11eb_9a38_c36b322c401brow15_col14,#T_6c54dfec_0391_11eb_9a38_c36b322c401brow16_col0,#T_6c54dfec_0391_11eb_9a38_c36b322c401brow16_col1,#T_6c54dfec_0391_11eb_9a38_c36b322c401brow16_col2,#T_6c54dfec_0391_11eb_9a38_c36b322c401brow16_col14,#T_6c54dfec_0391_11eb_9a38_c36b322c401brow17_col0,#T_6c54dfec_0391_11eb_9a38_c36b322c401brow17_col1,#T_6c54dfec_0391_11eb_9a38_c36b322c401brow17_col2,#T_6c54dfec_0391_11eb_9a38_c36b322c401brow17_col13,#T_6c54dfec_0391_11eb_9a38_c36b322c401brow17_col14,#T_6c54dfec_0391_11eb_9a38_c36b322c401brow18_col0,#T_6c54dfec_0391_11eb_9a38_c36b322c401brow18_col1,#T_6c54dfec_0391_11eb_9a38_c36b322c401brow18_col2,#T_6c54dfec_0391_11eb_9a38_c36b322c401brow18_col13,#T_6c54dfec_0391_11eb_9a38_c36b322c401brow18_col14,#T_6c54dfec_0391_11eb_9a38_c36b322c401brow19_col0,#T_6c54dfec_0391_11eb_9a38_c36b322c401brow19_col1,#T_6c54dfec_0391_11eb_9a38_c36b322c401brow19_col2,#T_6c54dfec_0391_11eb_9a38_c36b322c401brow19_col3,#T_6c54dfec_0391_11eb_9a38_c36b322c401brow19_col13,#T_6c54dfec_0391_11eb_9a38_c36b322c401brow19_col14,#T_6c54dfec_0391_11eb_9a38_c36b322c401brow20_col0,#T_6c54dfec_0391_11eb_9a38_c36b322c401brow20_col1,#T_6c54dfec_0391_11eb_9a38_c36b322c401brow20_col2,#T_6c54dfec_0391_11eb_9a38_c36b322c401brow20_col3,#T_6c54dfec_0391_11eb_9a38_c36b322c401brow20_col4,#T_6c54dfec_0391_11eb_9a38_c36b322c401brow20_col5,#T_6c54dfec_0391_11eb_9a38_c36b322c401brow20_col6,#T_6c54dfec_0391_11eb_9a38_c36b322c401brow20_col12,#T_6c54dfec_0391_11eb_9a38_c36b322c401brow20_col13,#T_6c54dfec_0391_11eb_9a38_c36b322c401brow20_col14,#T_6c54dfec_0391_11eb_9a38_c36b322c401brow21_col0,#T_6c54dfec_0391_11eb_9a38_c36b322c401brow21_col1,#T_6c54dfec_0391_11eb_9a38_c36b322c401brow21_col2,#T_6c54dfec_0391_11eb_9a38_c36b322c401brow21_col3,#T_6c54dfec_0391_11eb_9a38_c36b322c401brow21_col4,#T_6c54dfec_0391_11eb_9a38_c36b322c401brow21_col5,#T_6c54dfec_0391_11eb_9a38_c36b322c401brow21_col6,#T_6c54dfec_0391_11eb_9a38_c36b322c401brow21_col7,#T_6c54dfec_0391_11eb_9a38_c36b322c401brow21_col8,#T_6c54dfec_0391_11eb_9a38_c36b322c401brow21_col9,#T_6c54dfec_0391_11eb_9a38_c36b322c401brow21_col10,#T_6c54dfec_0391_11eb_9a38_c36b322c401brow21_col11,#T_6c54dfec_0391_11eb_9a38_c36b322c401brow21_col12,#T_6c54dfec_0391_11eb_9a38_c36b322c401brow21_col13,#T_6c54dfec_0391_11eb_9a38_c36b322c401brow21_col14{\n",
       "            font-size:  6pt;\n",
       "            background-color:  #ffffff;\n",
       "            color:  #000000;\n",
       "        }#T_6c54dfec_0391_11eb_9a38_c36b322c401brow1_col3{\n",
       "            font-size:  6pt;\n",
       "            background-color:  #cdcdcd;\n",
       "            color:  #000000;\n",
       "        }#T_6c54dfec_0391_11eb_9a38_c36b322c401brow1_col4{\n",
       "            font-size:  6pt;\n",
       "            background-color:  #5b5b5b;\n",
       "            color:  #f1f1f1;\n",
       "        }#T_6c54dfec_0391_11eb_9a38_c36b322c401brow1_col5,#T_6c54dfec_0391_11eb_9a38_c36b322c401brow1_col6,#T_6c54dfec_0391_11eb_9a38_c36b322c401brow2_col4,#T_6c54dfec_0391_11eb_9a38_c36b322c401brow2_col7,#T_6c54dfec_0391_11eb_9a38_c36b322c401brow3_col1,#T_6c54dfec_0391_11eb_9a38_c36b322c401brow3_col2,#T_6c54dfec_0391_11eb_9a38_c36b322c401brow3_col3,#T_6c54dfec_0391_11eb_9a38_c36b322c401brow3_col4,#T_6c54dfec_0391_11eb_9a38_c36b322c401brow3_col7,#T_6c54dfec_0391_11eb_9a38_c36b322c401brow3_col8,#T_6c54dfec_0391_11eb_9a38_c36b322c401brow3_col9,#T_6c54dfec_0391_11eb_9a38_c36b322c401brow4_col4,#T_6c54dfec_0391_11eb_9a38_c36b322c401brow4_col8,#T_6c54dfec_0391_11eb_9a38_c36b322c401brow4_col9,#T_6c54dfec_0391_11eb_9a38_c36b322c401brow4_col10,#T_6c54dfec_0391_11eb_9a38_c36b322c401brow5_col8,#T_6c54dfec_0391_11eb_9a38_c36b322c401brow5_col9,#T_6c54dfec_0391_11eb_9a38_c36b322c401brow5_col10,#T_6c54dfec_0391_11eb_9a38_c36b322c401brow6_col8,#T_6c54dfec_0391_11eb_9a38_c36b322c401brow6_col9,#T_6c54dfec_0391_11eb_9a38_c36b322c401brow6_col10,#T_6c54dfec_0391_11eb_9a38_c36b322c401brow6_col11,#T_6c54dfec_0391_11eb_9a38_c36b322c401brow7_col8,#T_6c54dfec_0391_11eb_9a38_c36b322c401brow7_col9,#T_6c54dfec_0391_11eb_9a38_c36b322c401brow7_col10,#T_6c54dfec_0391_11eb_9a38_c36b322c401brow8_col8,#T_6c54dfec_0391_11eb_9a38_c36b322c401brow8_col9,#T_6c54dfec_0391_11eb_9a38_c36b322c401brow8_col10,#T_6c54dfec_0391_11eb_9a38_c36b322c401brow9_col8,#T_6c54dfec_0391_11eb_9a38_c36b322c401brow9_col9,#T_6c54dfec_0391_11eb_9a38_c36b322c401brow9_col10,#T_6c54dfec_0391_11eb_9a38_c36b322c401brow10_col7,#T_6c54dfec_0391_11eb_9a38_c36b322c401brow10_col8,#T_6c54dfec_0391_11eb_9a38_c36b322c401brow10_col9,#T_6c54dfec_0391_11eb_9a38_c36b322c401brow11_col7,#T_6c54dfec_0391_11eb_9a38_c36b322c401brow11_col8,#T_6c54dfec_0391_11eb_9a38_c36b322c401brow11_col9,#T_6c54dfec_0391_11eb_9a38_c36b322c401brow12_col7,#T_6c54dfec_0391_11eb_9a38_c36b322c401brow12_col8,#T_6c54dfec_0391_11eb_9a38_c36b322c401brow12_col9,#T_6c54dfec_0391_11eb_9a38_c36b322c401brow13_col8,#T_6c54dfec_0391_11eb_9a38_c36b322c401brow13_col9,#T_6c54dfec_0391_11eb_9a38_c36b322c401brow13_col10,#T_6c54dfec_0391_11eb_9a38_c36b322c401brow14_col9,#T_6c54dfec_0391_11eb_9a38_c36b322c401brow14_col10,#T_6c54dfec_0391_11eb_9a38_c36b322c401brow14_col11,#T_6c54dfec_0391_11eb_9a38_c36b322c401brow15_col10,#T_6c54dfec_0391_11eb_9a38_c36b322c401brow15_col11,#T_6c54dfec_0391_11eb_9a38_c36b322c401brow15_col12,#T_6c54dfec_0391_11eb_9a38_c36b322c401brow15_col13,#T_6c54dfec_0391_11eb_9a38_c36b322c401brow16_col4,#T_6c54dfec_0391_11eb_9a38_c36b322c401brow16_col10,#T_6c54dfec_0391_11eb_9a38_c36b322c401brow16_col11,#T_6c54dfec_0391_11eb_9a38_c36b322c401brow17_col4,#T_6c54dfec_0391_11eb_9a38_c36b322c401brow17_col7,#T_6c54dfec_0391_11eb_9a38_c36b322c401brow17_col8,#T_6c54dfec_0391_11eb_9a38_c36b322c401brow17_col9,#T_6c54dfec_0391_11eb_9a38_c36b322c401brow17_col10,#T_6c54dfec_0391_11eb_9a38_c36b322c401brow17_col11,#T_6c54dfec_0391_11eb_9a38_c36b322c401brow18_col7,#T_6c54dfec_0391_11eb_9a38_c36b322c401brow18_col8,#T_6c54dfec_0391_11eb_9a38_c36b322c401brow18_col9,#T_6c54dfec_0391_11eb_9a38_c36b322c401brow18_col10,#T_6c54dfec_0391_11eb_9a38_c36b322c401brow18_col11,#T_6c54dfec_0391_11eb_9a38_c36b322c401brow19_col8,#T_6c54dfec_0391_11eb_9a38_c36b322c401brow19_col9,#T_6c54dfec_0391_11eb_9a38_c36b322c401brow19_col10,#T_6c54dfec_0391_11eb_9a38_c36b322c401brow20_col8,#T_6c54dfec_0391_11eb_9a38_c36b322c401brow20_col9{\n",
       "            font-size:  6pt;\n",
       "            background-color:  #000000;\n",
       "            color:  #f1f1f1;\n",
       "        }#T_6c54dfec_0391_11eb_9a38_c36b322c401brow1_col7{\n",
       "            font-size:  6pt;\n",
       "            background-color:  #bdbdbd;\n",
       "            color:  #000000;\n",
       "        }#T_6c54dfec_0391_11eb_9a38_c36b322c401brow1_col8{\n",
       "            font-size:  6pt;\n",
       "            background-color:  #c3c3c3;\n",
       "            color:  #000000;\n",
       "        }#T_6c54dfec_0391_11eb_9a38_c36b322c401brow2_col1{\n",
       "            font-size:  6pt;\n",
       "            background-color:  #ececec;\n",
       "            color:  #000000;\n",
       "        }#T_6c54dfec_0391_11eb_9a38_c36b322c401brow2_col2{\n",
       "            font-size:  6pt;\n",
       "            background-color:  #999999;\n",
       "            color:  #000000;\n",
       "        }#T_6c54dfec_0391_11eb_9a38_c36b322c401brow2_col3{\n",
       "            font-size:  6pt;\n",
       "            background-color:  #0d0d0d;\n",
       "            color:  #f1f1f1;\n",
       "        }#T_6c54dfec_0391_11eb_9a38_c36b322c401brow2_col5,#T_6c54dfec_0391_11eb_9a38_c36b322c401brow3_col5,#T_6c54dfec_0391_11eb_9a38_c36b322c401brow16_col5,#T_6c54dfec_0391_11eb_9a38_c36b322c401brow17_col5,#T_6c54dfec_0391_11eb_9a38_c36b322c401brow18_col5{\n",
       "            font-size:  6pt;\n",
       "            background-color:  #010101;\n",
       "            color:  #f1f1f1;\n",
       "        }#T_6c54dfec_0391_11eb_9a38_c36b322c401brow2_col6,#T_6c54dfec_0391_11eb_9a38_c36b322c401brow2_col8,#T_6c54dfec_0391_11eb_9a38_c36b322c401brow3_col6,#T_6c54dfec_0391_11eb_9a38_c36b322c401brow11_col6,#T_6c54dfec_0391_11eb_9a38_c36b322c401brow12_col6,#T_6c54dfec_0391_11eb_9a38_c36b322c401brow16_col6,#T_6c54dfec_0391_11eb_9a38_c36b322c401brow17_col6,#T_6c54dfec_0391_11eb_9a38_c36b322c401brow18_col6,#T_6c54dfec_0391_11eb_9a38_c36b322c401brow19_col7{\n",
       "            font-size:  6pt;\n",
       "            background-color:  #020202;\n",
       "            color:  #f1f1f1;\n",
       "        }#T_6c54dfec_0391_11eb_9a38_c36b322c401brow2_col9{\n",
       "            font-size:  6pt;\n",
       "            background-color:  #a2a2a2;\n",
       "            color:  #000000;\n",
       "        }#T_6c54dfec_0391_11eb_9a38_c36b322c401brow2_col10{\n",
       "            font-size:  6pt;\n",
       "            background-color:  #f8f8f8;\n",
       "            color:  #000000;\n",
       "        }#T_6c54dfec_0391_11eb_9a38_c36b322c401brow3_col10,#T_6c54dfec_0391_11eb_9a38_c36b322c401brow16_col12{\n",
       "            font-size:  6pt;\n",
       "            background-color:  #101010;\n",
       "            color:  #f1f1f1;\n",
       "        }#T_6c54dfec_0391_11eb_9a38_c36b322c401brow3_col11{\n",
       "            font-size:  6pt;\n",
       "            background-color:  #dcdcdc;\n",
       "            color:  #000000;\n",
       "        }#T_6c54dfec_0391_11eb_9a38_c36b322c401brow4_col2,#T_6c54dfec_0391_11eb_9a38_c36b322c401brow4_col11,#T_6c54dfec_0391_11eb_9a38_c36b322c401brow8_col11,#T_6c54dfec_0391_11eb_9a38_c36b322c401brow9_col11{\n",
       "            font-size:  6pt;\n",
       "            background-color:  #898989;\n",
       "            color:  #000000;\n",
       "        }#T_6c54dfec_0391_11eb_9a38_c36b322c401brow4_col3{\n",
       "            font-size:  6pt;\n",
       "            background-color:  #060606;\n",
       "            color:  #f1f1f1;\n",
       "        }#T_6c54dfec_0391_11eb_9a38_c36b322c401brow4_col5{\n",
       "            font-size:  6pt;\n",
       "            background-color:  #0c0c0c;\n",
       "            color:  #f1f1f1;\n",
       "        }#T_6c54dfec_0391_11eb_9a38_c36b322c401brow4_col6{\n",
       "            font-size:  6pt;\n",
       "            background-color:  #292929;\n",
       "            color:  #f1f1f1;\n",
       "        }#T_6c54dfec_0391_11eb_9a38_c36b322c401brow4_col7{\n",
       "            font-size:  6pt;\n",
       "            background-color:  #1a1a1a;\n",
       "            color:  #f1f1f1;\n",
       "        }#T_6c54dfec_0391_11eb_9a38_c36b322c401brow5_col3{\n",
       "            font-size:  6pt;\n",
       "            background-color:  #aaaaaa;\n",
       "            color:  #000000;\n",
       "        }#T_6c54dfec_0391_11eb_9a38_c36b322c401brow5_col4{\n",
       "            font-size:  6pt;\n",
       "            background-color:  #939393;\n",
       "            color:  #000000;\n",
       "        }#T_6c54dfec_0391_11eb_9a38_c36b322c401brow5_col5,#T_6c54dfec_0391_11eb_9a38_c36b322c401brow10_col10{\n",
       "            font-size:  6pt;\n",
       "            background-color:  #616161;\n",
       "            color:  #f1f1f1;\n",
       "        }#T_6c54dfec_0391_11eb_9a38_c36b322c401brow5_col7,#T_6c54dfec_0391_11eb_9a38_c36b322c401brow6_col7,#T_6c54dfec_0391_11eb_9a38_c36b322c401brow7_col7,#T_6c54dfec_0391_11eb_9a38_c36b322c401brow8_col7{\n",
       "            font-size:  6pt;\n",
       "            background-color:  #c8c8c8;\n",
       "            color:  #000000;\n",
       "        }#T_6c54dfec_0391_11eb_9a38_c36b322c401brow5_col11{\n",
       "            font-size:  6pt;\n",
       "            background-color:  #4b4b4b;\n",
       "            color:  #f1f1f1;\n",
       "        }#T_6c54dfec_0391_11eb_9a38_c36b322c401brow5_col12,#T_6c54dfec_0391_11eb_9a38_c36b322c401brow6_col5{\n",
       "            font-size:  6pt;\n",
       "            background-color:  #f3f3f3;\n",
       "            color:  #000000;\n",
       "        }#T_6c54dfec_0391_11eb_9a38_c36b322c401brow6_col12,#T_6c54dfec_0391_11eb_9a38_c36b322c401brow16_col3,#T_6c54dfec_0391_11eb_9a38_c36b322c401brow17_col3{\n",
       "            font-size:  6pt;\n",
       "            background-color:  #e3e3e3;\n",
       "            color:  #000000;\n",
       "        }#T_6c54dfec_0391_11eb_9a38_c36b322c401brow7_col11{\n",
       "            font-size:  6pt;\n",
       "            background-color:  #525252;\n",
       "            color:  #f1f1f1;\n",
       "        }#T_6c54dfec_0391_11eb_9a38_c36b322c401brow7_col12,#T_6c54dfec_0391_11eb_9a38_c36b322c401brow18_col3{\n",
       "            font-size:  6pt;\n",
       "            background-color:  #f5f5f5;\n",
       "            color:  #000000;\n",
       "        }#T_6c54dfec_0391_11eb_9a38_c36b322c401brow9_col7{\n",
       "            font-size:  6pt;\n",
       "            background-color:  #585858;\n",
       "            color:  #f1f1f1;\n",
       "        }#T_6c54dfec_0391_11eb_9a38_c36b322c401brow10_col5,#T_6c54dfec_0391_11eb_9a38_c36b322c401brow13_col6{\n",
       "            font-size:  6pt;\n",
       "            background-color:  #d8d8d8;\n",
       "            color:  #000000;\n",
       "        }#T_6c54dfec_0391_11eb_9a38_c36b322c401brow10_col6{\n",
       "            font-size:  6pt;\n",
       "            background-color:  #0a0a0a;\n",
       "            color:  #f1f1f1;\n",
       "        }#T_6c54dfec_0391_11eb_9a38_c36b322c401brow10_col11,#T_6c54dfec_0391_11eb_9a38_c36b322c401brow13_col12{\n",
       "            font-size:  6pt;\n",
       "            background-color:  #fdfdfd;\n",
       "            color:  #000000;\n",
       "        }#T_6c54dfec_0391_11eb_9a38_c36b322c401brow11_col5{\n",
       "            font-size:  6pt;\n",
       "            background-color:  #656565;\n",
       "            color:  #f1f1f1;\n",
       "        }#T_6c54dfec_0391_11eb_9a38_c36b322c401brow11_col10{\n",
       "            font-size:  6pt;\n",
       "            background-color:  #d4d4d4;\n",
       "            color:  #000000;\n",
       "        }#T_6c54dfec_0391_11eb_9a38_c36b322c401brow12_col5{\n",
       "            font-size:  6pt;\n",
       "            background-color:  #d7d7d7;\n",
       "            color:  #000000;\n",
       "        }#T_6c54dfec_0391_11eb_9a38_c36b322c401brow12_col10{\n",
       "            font-size:  6pt;\n",
       "            background-color:  #111111;\n",
       "            color:  #f1f1f1;\n",
       "        }#T_6c54dfec_0391_11eb_9a38_c36b322c401brow12_col11{\n",
       "            font-size:  6pt;\n",
       "            background-color:  #e0e0e0;\n",
       "            color:  #000000;\n",
       "        }#T_6c54dfec_0391_11eb_9a38_c36b322c401brow13_col5{\n",
       "            font-size:  6pt;\n",
       "            background-color:  #f7f7f7;\n",
       "            color:  #000000;\n",
       "        }#T_6c54dfec_0391_11eb_9a38_c36b322c401brow13_col7{\n",
       "            font-size:  6pt;\n",
       "            background-color:  #181818;\n",
       "            color:  #f1f1f1;\n",
       "        }#T_6c54dfec_0391_11eb_9a38_c36b322c401brow13_col11{\n",
       "            font-size:  6pt;\n",
       "            background-color:  #7d7d7d;\n",
       "            color:  #000000;\n",
       "        }#T_6c54dfec_0391_11eb_9a38_c36b322c401brow14_col7,#T_6c54dfec_0391_11eb_9a38_c36b322c401brow19_col12{\n",
       "            font-size:  6pt;\n",
       "            background-color:  #e7e7e7;\n",
       "            color:  #000000;\n",
       "        }#T_6c54dfec_0391_11eb_9a38_c36b322c401brow14_col8{\n",
       "            font-size:  6pt;\n",
       "            background-color:  #868686;\n",
       "            color:  #000000;\n",
       "        }#T_6c54dfec_0391_11eb_9a38_c36b322c401brow14_col12{\n",
       "            font-size:  6pt;\n",
       "            background-color:  #959595;\n",
       "            color:  #000000;\n",
       "        }#T_6c54dfec_0391_11eb_9a38_c36b322c401brow15_col3{\n",
       "            font-size:  6pt;\n",
       "            background-color:  #e9e9e9;\n",
       "            color:  #000000;\n",
       "        }#T_6c54dfec_0391_11eb_9a38_c36b322c401brow15_col4{\n",
       "            font-size:  6pt;\n",
       "            background-color:  #3c3c3c;\n",
       "            color:  #f1f1f1;\n",
       "        }#T_6c54dfec_0391_11eb_9a38_c36b322c401brow15_col5{\n",
       "            font-size:  6pt;\n",
       "            background-color:  #3d3d3d;\n",
       "            color:  #f1f1f1;\n",
       "        }#T_6c54dfec_0391_11eb_9a38_c36b322c401brow15_col6{\n",
       "            font-size:  6pt;\n",
       "            background-color:  #3f3f3f;\n",
       "            color:  #f1f1f1;\n",
       "        }#T_6c54dfec_0391_11eb_9a38_c36b322c401brow15_col7{\n",
       "            font-size:  6pt;\n",
       "            background-color:  #efefef;\n",
       "            color:  #000000;\n",
       "        }#T_6c54dfec_0391_11eb_9a38_c36b322c401brow15_col8{\n",
       "            font-size:  6pt;\n",
       "            background-color:  #fefefe;\n",
       "            color:  #000000;\n",
       "        }#T_6c54dfec_0391_11eb_9a38_c36b322c401brow15_col9{\n",
       "            font-size:  6pt;\n",
       "            background-color:  #949494;\n",
       "            color:  #000000;\n",
       "        }#T_6c54dfec_0391_11eb_9a38_c36b322c401brow16_col7{\n",
       "            font-size:  6pt;\n",
       "            background-color:  #303030;\n",
       "            color:  #f1f1f1;\n",
       "        }#T_6c54dfec_0391_11eb_9a38_c36b322c401brow16_col8{\n",
       "            font-size:  6pt;\n",
       "            background-color:  #919191;\n",
       "            color:  #000000;\n",
       "        }#T_6c54dfec_0391_11eb_9a38_c36b322c401brow16_col9{\n",
       "            font-size:  6pt;\n",
       "            background-color:  #5d5d5d;\n",
       "            color:  #f1f1f1;\n",
       "        }#T_6c54dfec_0391_11eb_9a38_c36b322c401brow16_col13{\n",
       "            font-size:  6pt;\n",
       "            background-color:  #7b7b7b;\n",
       "            color:  #000000;\n",
       "        }#T_6c54dfec_0391_11eb_9a38_c36b322c401brow17_col12,#T_6c54dfec_0391_11eb_9a38_c36b322c401brow18_col12,#T_6c54dfec_0391_11eb_9a38_c36b322c401brow19_col11{\n",
       "            font-size:  6pt;\n",
       "            background-color:  #282828;\n",
       "            color:  #f1f1f1;\n",
       "        }#T_6c54dfec_0391_11eb_9a38_c36b322c401brow18_col4{\n",
       "            font-size:  6pt;\n",
       "            background-color:  #545454;\n",
       "            color:  #f1f1f1;\n",
       "        }#T_6c54dfec_0391_11eb_9a38_c36b322c401brow19_col4{\n",
       "            font-size:  6pt;\n",
       "            background-color:  #fbfbfb;\n",
       "            color:  #000000;\n",
       "        }#T_6c54dfec_0391_11eb_9a38_c36b322c401brow19_col5{\n",
       "            font-size:  6pt;\n",
       "            background-color:  #dddddd;\n",
       "            color:  #000000;\n",
       "        }#T_6c54dfec_0391_11eb_9a38_c36b322c401brow19_col6{\n",
       "            font-size:  6pt;\n",
       "            background-color:  #5f5f5f;\n",
       "            color:  #f1f1f1;\n",
       "        }#T_6c54dfec_0391_11eb_9a38_c36b322c401brow20_col7{\n",
       "            font-size:  6pt;\n",
       "            background-color:  #888888;\n",
       "            color:  #000000;\n",
       "        }#T_6c54dfec_0391_11eb_9a38_c36b322c401brow20_col10{\n",
       "            font-size:  6pt;\n",
       "            background-color:  #929292;\n",
       "            color:  #000000;\n",
       "        }#T_6c54dfec_0391_11eb_9a38_c36b322c401brow20_col11{\n",
       "            font-size:  6pt;\n",
       "            background-color:  #e4e4e4;\n",
       "            color:  #000000;\n",
       "        }</style><table id=\"T_6c54dfec_0391_11eb_9a38_c36b322c401b\" ><thead>    <tr>        <th class=\"blank level0\" ></th>        <th class=\"col_heading level0 col0\" >6</th>        <th class=\"col_heading level0 col1\" >7</th>        <th class=\"col_heading level0 col2\" >8</th>        <th class=\"col_heading level0 col3\" >9</th>        <th class=\"col_heading level0 col4\" >10</th>        <th class=\"col_heading level0 col5\" >11</th>        <th class=\"col_heading level0 col6\" >12</th>        <th class=\"col_heading level0 col7\" >13</th>        <th class=\"col_heading level0 col8\" >14</th>        <th class=\"col_heading level0 col9\" >15</th>        <th class=\"col_heading level0 col10\" >16</th>        <th class=\"col_heading level0 col11\" >17</th>        <th class=\"col_heading level0 col12\" >18</th>        <th class=\"col_heading level0 col13\" >19</th>        <th class=\"col_heading level0 col14\" >20</th>    </tr></thead><tbody>\n",
       "                <tr>\n",
       "                        <th id=\"T_6c54dfec_0391_11eb_9a38_c36b322c401blevel0_row0\" class=\"row_heading level0 row0\" >3</th>\n",
       "                        <td id=\"T_6c54dfec_0391_11eb_9a38_c36b322c401brow0_col0\" class=\"data row0 col0\" >0</td>\n",
       "                        <td id=\"T_6c54dfec_0391_11eb_9a38_c36b322c401brow0_col1\" class=\"data row0 col1\" >0</td>\n",
       "                        <td id=\"T_6c54dfec_0391_11eb_9a38_c36b322c401brow0_col2\" class=\"data row0 col2\" >0</td>\n",
       "                        <td id=\"T_6c54dfec_0391_11eb_9a38_c36b322c401brow0_col3\" class=\"data row0 col3\" >0</td>\n",
       "                        <td id=\"T_6c54dfec_0391_11eb_9a38_c36b322c401brow0_col4\" class=\"data row0 col4\" >0</td>\n",
       "                        <td id=\"T_6c54dfec_0391_11eb_9a38_c36b322c401brow0_col5\" class=\"data row0 col5\" >0</td>\n",
       "                        <td id=\"T_6c54dfec_0391_11eb_9a38_c36b322c401brow0_col6\" class=\"data row0 col6\" >0</td>\n",
       "                        <td id=\"T_6c54dfec_0391_11eb_9a38_c36b322c401brow0_col7\" class=\"data row0 col7\" >0</td>\n",
       "                        <td id=\"T_6c54dfec_0391_11eb_9a38_c36b322c401brow0_col8\" class=\"data row0 col8\" >0</td>\n",
       "                        <td id=\"T_6c54dfec_0391_11eb_9a38_c36b322c401brow0_col9\" class=\"data row0 col9\" >0</td>\n",
       "                        <td id=\"T_6c54dfec_0391_11eb_9a38_c36b322c401brow0_col10\" class=\"data row0 col10\" >0</td>\n",
       "                        <td id=\"T_6c54dfec_0391_11eb_9a38_c36b322c401brow0_col11\" class=\"data row0 col11\" >0</td>\n",
       "                        <td id=\"T_6c54dfec_0391_11eb_9a38_c36b322c401brow0_col12\" class=\"data row0 col12\" >0</td>\n",
       "                        <td id=\"T_6c54dfec_0391_11eb_9a38_c36b322c401brow0_col13\" class=\"data row0 col13\" >0</td>\n",
       "                        <td id=\"T_6c54dfec_0391_11eb_9a38_c36b322c401brow0_col14\" class=\"data row0 col14\" >0</td>\n",
       "            </tr>\n",
       "            <tr>\n",
       "                        <th id=\"T_6c54dfec_0391_11eb_9a38_c36b322c401blevel0_row1\" class=\"row_heading level0 row1\" >4</th>\n",
       "                        <td id=\"T_6c54dfec_0391_11eb_9a38_c36b322c401brow1_col0\" class=\"data row1 col0\" >0</td>\n",
       "                        <td id=\"T_6c54dfec_0391_11eb_9a38_c36b322c401brow1_col1\" class=\"data row1 col1\" >0</td>\n",
       "                        <td id=\"T_6c54dfec_0391_11eb_9a38_c36b322c401brow1_col2\" class=\"data row1 col2\" >0</td>\n",
       "                        <td id=\"T_6c54dfec_0391_11eb_9a38_c36b322c401brow1_col3\" class=\"data row1 col3\" >77</td>\n",
       "                        <td id=\"T_6c54dfec_0391_11eb_9a38_c36b322c401brow1_col4\" class=\"data row1 col4\" >181</td>\n",
       "                        <td id=\"T_6c54dfec_0391_11eb_9a38_c36b322c401brow1_col5\" class=\"data row1 col5\" >254</td>\n",
       "                        <td id=\"T_6c54dfec_0391_11eb_9a38_c36b322c401brow1_col6\" class=\"data row1 col6\" >255</td>\n",
       "                        <td id=\"T_6c54dfec_0391_11eb_9a38_c36b322c401brow1_col7\" class=\"data row1 col7\" >95</td>\n",
       "                        <td id=\"T_6c54dfec_0391_11eb_9a38_c36b322c401brow1_col8\" class=\"data row1 col8\" >88</td>\n",
       "                        <td id=\"T_6c54dfec_0391_11eb_9a38_c36b322c401brow1_col9\" class=\"data row1 col9\" >0</td>\n",
       "                        <td id=\"T_6c54dfec_0391_11eb_9a38_c36b322c401brow1_col10\" class=\"data row1 col10\" >0</td>\n",
       "                        <td id=\"T_6c54dfec_0391_11eb_9a38_c36b322c401brow1_col11\" class=\"data row1 col11\" >0</td>\n",
       "                        <td id=\"T_6c54dfec_0391_11eb_9a38_c36b322c401brow1_col12\" class=\"data row1 col12\" >0</td>\n",
       "                        <td id=\"T_6c54dfec_0391_11eb_9a38_c36b322c401brow1_col13\" class=\"data row1 col13\" >0</td>\n",
       "                        <td id=\"T_6c54dfec_0391_11eb_9a38_c36b322c401brow1_col14\" class=\"data row1 col14\" >0</td>\n",
       "            </tr>\n",
       "            <tr>\n",
       "                        <th id=\"T_6c54dfec_0391_11eb_9a38_c36b322c401blevel0_row2\" class=\"row_heading level0 row2\" >5</th>\n",
       "                        <td id=\"T_6c54dfec_0391_11eb_9a38_c36b322c401brow2_col0\" class=\"data row2 col0\" >0</td>\n",
       "                        <td id=\"T_6c54dfec_0391_11eb_9a38_c36b322c401brow2_col1\" class=\"data row2 col1\" >3</td>\n",
       "                        <td id=\"T_6c54dfec_0391_11eb_9a38_c36b322c401brow2_col2\" class=\"data row2 col2\" >97</td>\n",
       "                        <td id=\"T_6c54dfec_0391_11eb_9a38_c36b322c401brow2_col3\" class=\"data row2 col3\" >242</td>\n",
       "                        <td id=\"T_6c54dfec_0391_11eb_9a38_c36b322c401brow2_col4\" class=\"data row2 col4\" >253</td>\n",
       "                        <td id=\"T_6c54dfec_0391_11eb_9a38_c36b322c401brow2_col5\" class=\"data row2 col5\" >253</td>\n",
       "                        <td id=\"T_6c54dfec_0391_11eb_9a38_c36b322c401brow2_col6\" class=\"data row2 col6\" >253</td>\n",
       "                        <td id=\"T_6c54dfec_0391_11eb_9a38_c36b322c401brow2_col7\" class=\"data row2 col7\" >253</td>\n",
       "                        <td id=\"T_6c54dfec_0391_11eb_9a38_c36b322c401brow2_col8\" class=\"data row2 col8\" >251</td>\n",
       "                        <td id=\"T_6c54dfec_0391_11eb_9a38_c36b322c401brow2_col9\" class=\"data row2 col9\" >117</td>\n",
       "                        <td id=\"T_6c54dfec_0391_11eb_9a38_c36b322c401brow2_col10\" class=\"data row2 col10\" >15</td>\n",
       "                        <td id=\"T_6c54dfec_0391_11eb_9a38_c36b322c401brow2_col11\" class=\"data row2 col11\" >0</td>\n",
       "                        <td id=\"T_6c54dfec_0391_11eb_9a38_c36b322c401brow2_col12\" class=\"data row2 col12\" >0</td>\n",
       "                        <td id=\"T_6c54dfec_0391_11eb_9a38_c36b322c401brow2_col13\" class=\"data row2 col13\" >0</td>\n",
       "                        <td id=\"T_6c54dfec_0391_11eb_9a38_c36b322c401brow2_col14\" class=\"data row2 col14\" >0</td>\n",
       "            </tr>\n",
       "            <tr>\n",
       "                        <th id=\"T_6c54dfec_0391_11eb_9a38_c36b322c401blevel0_row3\" class=\"row_heading level0 row3\" >6</th>\n",
       "                        <td id=\"T_6c54dfec_0391_11eb_9a38_c36b322c401brow3_col0\" class=\"data row3 col0\" >0</td>\n",
       "                        <td id=\"T_6c54dfec_0391_11eb_9a38_c36b322c401brow3_col1\" class=\"data row3 col1\" >20</td>\n",
       "                        <td id=\"T_6c54dfec_0391_11eb_9a38_c36b322c401brow3_col2\" class=\"data row3 col2\" >198</td>\n",
       "                        <td id=\"T_6c54dfec_0391_11eb_9a38_c36b322c401brow3_col3\" class=\"data row3 col3\" >253</td>\n",
       "                        <td id=\"T_6c54dfec_0391_11eb_9a38_c36b322c401brow3_col4\" class=\"data row3 col4\" >253</td>\n",
       "                        <td id=\"T_6c54dfec_0391_11eb_9a38_c36b322c401brow3_col5\" class=\"data row3 col5\" >253</td>\n",
       "                        <td id=\"T_6c54dfec_0391_11eb_9a38_c36b322c401brow3_col6\" class=\"data row3 col6\" >253</td>\n",
       "                        <td id=\"T_6c54dfec_0391_11eb_9a38_c36b322c401brow3_col7\" class=\"data row3 col7\" >253</td>\n",
       "                        <td id=\"T_6c54dfec_0391_11eb_9a38_c36b322c401brow3_col8\" class=\"data row3 col8\" >253</td>\n",
       "                        <td id=\"T_6c54dfec_0391_11eb_9a38_c36b322c401brow3_col9\" class=\"data row3 col9\" >253</td>\n",
       "                        <td id=\"T_6c54dfec_0391_11eb_9a38_c36b322c401brow3_col10\" class=\"data row3 col10\" >239</td>\n",
       "                        <td id=\"T_6c54dfec_0391_11eb_9a38_c36b322c401brow3_col11\" class=\"data row3 col11\" >59</td>\n",
       "                        <td id=\"T_6c54dfec_0391_11eb_9a38_c36b322c401brow3_col12\" class=\"data row3 col12\" >0</td>\n",
       "                        <td id=\"T_6c54dfec_0391_11eb_9a38_c36b322c401brow3_col13\" class=\"data row3 col13\" >0</td>\n",
       "                        <td id=\"T_6c54dfec_0391_11eb_9a38_c36b322c401brow3_col14\" class=\"data row3 col14\" >0</td>\n",
       "            </tr>\n",
       "            <tr>\n",
       "                        <th id=\"T_6c54dfec_0391_11eb_9a38_c36b322c401blevel0_row4\" class=\"row_heading level0 row4\" >7</th>\n",
       "                        <td id=\"T_6c54dfec_0391_11eb_9a38_c36b322c401brow4_col0\" class=\"data row4 col0\" >0</td>\n",
       "                        <td id=\"T_6c54dfec_0391_11eb_9a38_c36b322c401brow4_col1\" class=\"data row4 col1\" >0</td>\n",
       "                        <td id=\"T_6c54dfec_0391_11eb_9a38_c36b322c401brow4_col2\" class=\"data row4 col2\" >108</td>\n",
       "                        <td id=\"T_6c54dfec_0391_11eb_9a38_c36b322c401brow4_col3\" class=\"data row4 col3\" >248</td>\n",
       "                        <td id=\"T_6c54dfec_0391_11eb_9a38_c36b322c401brow4_col4\" class=\"data row4 col4\" >253</td>\n",
       "                        <td id=\"T_6c54dfec_0391_11eb_9a38_c36b322c401brow4_col5\" class=\"data row4 col5\" >244</td>\n",
       "                        <td id=\"T_6c54dfec_0391_11eb_9a38_c36b322c401brow4_col6\" class=\"data row4 col6\" >220</td>\n",
       "                        <td id=\"T_6c54dfec_0391_11eb_9a38_c36b322c401brow4_col7\" class=\"data row4 col7\" >231</td>\n",
       "                        <td id=\"T_6c54dfec_0391_11eb_9a38_c36b322c401brow4_col8\" class=\"data row4 col8\" >253</td>\n",
       "                        <td id=\"T_6c54dfec_0391_11eb_9a38_c36b322c401brow4_col9\" class=\"data row4 col9\" >253</td>\n",
       "                        <td id=\"T_6c54dfec_0391_11eb_9a38_c36b322c401brow4_col10\" class=\"data row4 col10\" >253</td>\n",
       "                        <td id=\"T_6c54dfec_0391_11eb_9a38_c36b322c401brow4_col11\" class=\"data row4 col11\" >138</td>\n",
       "                        <td id=\"T_6c54dfec_0391_11eb_9a38_c36b322c401brow4_col12\" class=\"data row4 col12\" >0</td>\n",
       "                        <td id=\"T_6c54dfec_0391_11eb_9a38_c36b322c401brow4_col13\" class=\"data row4 col13\" >0</td>\n",
       "                        <td id=\"T_6c54dfec_0391_11eb_9a38_c36b322c401brow4_col14\" class=\"data row4 col14\" >0</td>\n",
       "            </tr>\n",
       "            <tr>\n",
       "                        <th id=\"T_6c54dfec_0391_11eb_9a38_c36b322c401blevel0_row5\" class=\"row_heading level0 row5\" >8</th>\n",
       "                        <td id=\"T_6c54dfec_0391_11eb_9a38_c36b322c401brow5_col0\" class=\"data row5 col0\" >0</td>\n",
       "                        <td id=\"T_6c54dfec_0391_11eb_9a38_c36b322c401brow5_col1\" class=\"data row5 col1\" >0</td>\n",
       "                        <td id=\"T_6c54dfec_0391_11eb_9a38_c36b322c401brow5_col2\" class=\"data row5 col2\" >0</td>\n",
       "                        <td id=\"T_6c54dfec_0391_11eb_9a38_c36b322c401brow5_col3\" class=\"data row5 col3\" >110</td>\n",
       "                        <td id=\"T_6c54dfec_0391_11eb_9a38_c36b322c401brow5_col4\" class=\"data row5 col4\" >129</td>\n",
       "                        <td id=\"T_6c54dfec_0391_11eb_9a38_c36b322c401brow5_col5\" class=\"data row5 col5\" >176</td>\n",
       "                        <td id=\"T_6c54dfec_0391_11eb_9a38_c36b322c401brow5_col6\" class=\"data row5 col6\" >0</td>\n",
       "                        <td id=\"T_6c54dfec_0391_11eb_9a38_c36b322c401brow5_col7\" class=\"data row5 col7\" >83</td>\n",
       "                        <td id=\"T_6c54dfec_0391_11eb_9a38_c36b322c401brow5_col8\" class=\"data row5 col8\" >253</td>\n",
       "                        <td id=\"T_6c54dfec_0391_11eb_9a38_c36b322c401brow5_col9\" class=\"data row5 col9\" >253</td>\n",
       "                        <td id=\"T_6c54dfec_0391_11eb_9a38_c36b322c401brow5_col10\" class=\"data row5 col10\" >253</td>\n",
       "                        <td id=\"T_6c54dfec_0391_11eb_9a38_c36b322c401brow5_col11\" class=\"data row5 col11\" >194</td>\n",
       "                        <td id=\"T_6c54dfec_0391_11eb_9a38_c36b322c401brow5_col12\" class=\"data row5 col12\" >24</td>\n",
       "                        <td id=\"T_6c54dfec_0391_11eb_9a38_c36b322c401brow5_col13\" class=\"data row5 col13\" >0</td>\n",
       "                        <td id=\"T_6c54dfec_0391_11eb_9a38_c36b322c401brow5_col14\" class=\"data row5 col14\" >0</td>\n",
       "            </tr>\n",
       "            <tr>\n",
       "                        <th id=\"T_6c54dfec_0391_11eb_9a38_c36b322c401blevel0_row6\" class=\"row_heading level0 row6\" >9</th>\n",
       "                        <td id=\"T_6c54dfec_0391_11eb_9a38_c36b322c401brow6_col0\" class=\"data row6 col0\" >0</td>\n",
       "                        <td id=\"T_6c54dfec_0391_11eb_9a38_c36b322c401brow6_col1\" class=\"data row6 col1\" >0</td>\n",
       "                        <td id=\"T_6c54dfec_0391_11eb_9a38_c36b322c401brow6_col2\" class=\"data row6 col2\" >0</td>\n",
       "                        <td id=\"T_6c54dfec_0391_11eb_9a38_c36b322c401brow6_col3\" class=\"data row6 col3\" >0</td>\n",
       "                        <td id=\"T_6c54dfec_0391_11eb_9a38_c36b322c401brow6_col4\" class=\"data row6 col4\" >0</td>\n",
       "                        <td id=\"T_6c54dfec_0391_11eb_9a38_c36b322c401brow6_col5\" class=\"data row6 col5\" >26</td>\n",
       "                        <td id=\"T_6c54dfec_0391_11eb_9a38_c36b322c401brow6_col6\" class=\"data row6 col6\" >0</td>\n",
       "                        <td id=\"T_6c54dfec_0391_11eb_9a38_c36b322c401brow6_col7\" class=\"data row6 col7\" >83</td>\n",
       "                        <td id=\"T_6c54dfec_0391_11eb_9a38_c36b322c401brow6_col8\" class=\"data row6 col8\" >253</td>\n",
       "                        <td id=\"T_6c54dfec_0391_11eb_9a38_c36b322c401brow6_col9\" class=\"data row6 col9\" >253</td>\n",
       "                        <td id=\"T_6c54dfec_0391_11eb_9a38_c36b322c401brow6_col10\" class=\"data row6 col10\" >253</td>\n",
       "                        <td id=\"T_6c54dfec_0391_11eb_9a38_c36b322c401brow6_col11\" class=\"data row6 col11\" >253</td>\n",
       "                        <td id=\"T_6c54dfec_0391_11eb_9a38_c36b322c401brow6_col12\" class=\"data row6 col12\" >48</td>\n",
       "                        <td id=\"T_6c54dfec_0391_11eb_9a38_c36b322c401brow6_col13\" class=\"data row6 col13\" >0</td>\n",
       "                        <td id=\"T_6c54dfec_0391_11eb_9a38_c36b322c401brow6_col14\" class=\"data row6 col14\" >0</td>\n",
       "            </tr>\n",
       "            <tr>\n",
       "                        <th id=\"T_6c54dfec_0391_11eb_9a38_c36b322c401blevel0_row7\" class=\"row_heading level0 row7\" >10</th>\n",
       "                        <td id=\"T_6c54dfec_0391_11eb_9a38_c36b322c401brow7_col0\" class=\"data row7 col0\" >0</td>\n",
       "                        <td id=\"T_6c54dfec_0391_11eb_9a38_c36b322c401brow7_col1\" class=\"data row7 col1\" >0</td>\n",
       "                        <td id=\"T_6c54dfec_0391_11eb_9a38_c36b322c401brow7_col2\" class=\"data row7 col2\" >0</td>\n",
       "                        <td id=\"T_6c54dfec_0391_11eb_9a38_c36b322c401brow7_col3\" class=\"data row7 col3\" >0</td>\n",
       "                        <td id=\"T_6c54dfec_0391_11eb_9a38_c36b322c401brow7_col4\" class=\"data row7 col4\" >0</td>\n",
       "                        <td id=\"T_6c54dfec_0391_11eb_9a38_c36b322c401brow7_col5\" class=\"data row7 col5\" >0</td>\n",
       "                        <td id=\"T_6c54dfec_0391_11eb_9a38_c36b322c401brow7_col6\" class=\"data row7 col6\" >0</td>\n",
       "                        <td id=\"T_6c54dfec_0391_11eb_9a38_c36b322c401brow7_col7\" class=\"data row7 col7\" >83</td>\n",
       "                        <td id=\"T_6c54dfec_0391_11eb_9a38_c36b322c401brow7_col8\" class=\"data row7 col8\" >253</td>\n",
       "                        <td id=\"T_6c54dfec_0391_11eb_9a38_c36b322c401brow7_col9\" class=\"data row7 col9\" >253</td>\n",
       "                        <td id=\"T_6c54dfec_0391_11eb_9a38_c36b322c401brow7_col10\" class=\"data row7 col10\" >253</td>\n",
       "                        <td id=\"T_6c54dfec_0391_11eb_9a38_c36b322c401brow7_col11\" class=\"data row7 col11\" >189</td>\n",
       "                        <td id=\"T_6c54dfec_0391_11eb_9a38_c36b322c401brow7_col12\" class=\"data row7 col12\" >22</td>\n",
       "                        <td id=\"T_6c54dfec_0391_11eb_9a38_c36b322c401brow7_col13\" class=\"data row7 col13\" >0</td>\n",
       "                        <td id=\"T_6c54dfec_0391_11eb_9a38_c36b322c401brow7_col14\" class=\"data row7 col14\" >0</td>\n",
       "            </tr>\n",
       "            <tr>\n",
       "                        <th id=\"T_6c54dfec_0391_11eb_9a38_c36b322c401blevel0_row8\" class=\"row_heading level0 row8\" >11</th>\n",
       "                        <td id=\"T_6c54dfec_0391_11eb_9a38_c36b322c401brow8_col0\" class=\"data row8 col0\" >0</td>\n",
       "                        <td id=\"T_6c54dfec_0391_11eb_9a38_c36b322c401brow8_col1\" class=\"data row8 col1\" >0</td>\n",
       "                        <td id=\"T_6c54dfec_0391_11eb_9a38_c36b322c401brow8_col2\" class=\"data row8 col2\" >0</td>\n",
       "                        <td id=\"T_6c54dfec_0391_11eb_9a38_c36b322c401brow8_col3\" class=\"data row8 col3\" >0</td>\n",
       "                        <td id=\"T_6c54dfec_0391_11eb_9a38_c36b322c401brow8_col4\" class=\"data row8 col4\" >0</td>\n",
       "                        <td id=\"T_6c54dfec_0391_11eb_9a38_c36b322c401brow8_col5\" class=\"data row8 col5\" >0</td>\n",
       "                        <td id=\"T_6c54dfec_0391_11eb_9a38_c36b322c401brow8_col6\" class=\"data row8 col6\" >0</td>\n",
       "                        <td id=\"T_6c54dfec_0391_11eb_9a38_c36b322c401brow8_col7\" class=\"data row8 col7\" >83</td>\n",
       "                        <td id=\"T_6c54dfec_0391_11eb_9a38_c36b322c401brow8_col8\" class=\"data row8 col8\" >253</td>\n",
       "                        <td id=\"T_6c54dfec_0391_11eb_9a38_c36b322c401brow8_col9\" class=\"data row8 col9\" >253</td>\n",
       "                        <td id=\"T_6c54dfec_0391_11eb_9a38_c36b322c401brow8_col10\" class=\"data row8 col10\" >253</td>\n",
       "                        <td id=\"T_6c54dfec_0391_11eb_9a38_c36b322c401brow8_col11\" class=\"data row8 col11\" >138</td>\n",
       "                        <td id=\"T_6c54dfec_0391_11eb_9a38_c36b322c401brow8_col12\" class=\"data row8 col12\" >0</td>\n",
       "                        <td id=\"T_6c54dfec_0391_11eb_9a38_c36b322c401brow8_col13\" class=\"data row8 col13\" >0</td>\n",
       "                        <td id=\"T_6c54dfec_0391_11eb_9a38_c36b322c401brow8_col14\" class=\"data row8 col14\" >0</td>\n",
       "            </tr>\n",
       "            <tr>\n",
       "                        <th id=\"T_6c54dfec_0391_11eb_9a38_c36b322c401blevel0_row9\" class=\"row_heading level0 row9\" >12</th>\n",
       "                        <td id=\"T_6c54dfec_0391_11eb_9a38_c36b322c401brow9_col0\" class=\"data row9 col0\" >0</td>\n",
       "                        <td id=\"T_6c54dfec_0391_11eb_9a38_c36b322c401brow9_col1\" class=\"data row9 col1\" >0</td>\n",
       "                        <td id=\"T_6c54dfec_0391_11eb_9a38_c36b322c401brow9_col2\" class=\"data row9 col2\" >0</td>\n",
       "                        <td id=\"T_6c54dfec_0391_11eb_9a38_c36b322c401brow9_col3\" class=\"data row9 col3\" >0</td>\n",
       "                        <td id=\"T_6c54dfec_0391_11eb_9a38_c36b322c401brow9_col4\" class=\"data row9 col4\" >0</td>\n",
       "                        <td id=\"T_6c54dfec_0391_11eb_9a38_c36b322c401brow9_col5\" class=\"data row9 col5\" >0</td>\n",
       "                        <td id=\"T_6c54dfec_0391_11eb_9a38_c36b322c401brow9_col6\" class=\"data row9 col6\" >0</td>\n",
       "                        <td id=\"T_6c54dfec_0391_11eb_9a38_c36b322c401brow9_col7\" class=\"data row9 col7\" >183</td>\n",
       "                        <td id=\"T_6c54dfec_0391_11eb_9a38_c36b322c401brow9_col8\" class=\"data row9 col8\" >253</td>\n",
       "                        <td id=\"T_6c54dfec_0391_11eb_9a38_c36b322c401brow9_col9\" class=\"data row9 col9\" >253</td>\n",
       "                        <td id=\"T_6c54dfec_0391_11eb_9a38_c36b322c401brow9_col10\" class=\"data row9 col10\" >253</td>\n",
       "                        <td id=\"T_6c54dfec_0391_11eb_9a38_c36b322c401brow9_col11\" class=\"data row9 col11\" >138</td>\n",
       "                        <td id=\"T_6c54dfec_0391_11eb_9a38_c36b322c401brow9_col12\" class=\"data row9 col12\" >0</td>\n",
       "                        <td id=\"T_6c54dfec_0391_11eb_9a38_c36b322c401brow9_col13\" class=\"data row9 col13\" >0</td>\n",
       "                        <td id=\"T_6c54dfec_0391_11eb_9a38_c36b322c401brow9_col14\" class=\"data row9 col14\" >0</td>\n",
       "            </tr>\n",
       "            <tr>\n",
       "                        <th id=\"T_6c54dfec_0391_11eb_9a38_c36b322c401blevel0_row10\" class=\"row_heading level0 row10\" >13</th>\n",
       "                        <td id=\"T_6c54dfec_0391_11eb_9a38_c36b322c401brow10_col0\" class=\"data row10 col0\" >0</td>\n",
       "                        <td id=\"T_6c54dfec_0391_11eb_9a38_c36b322c401brow10_col1\" class=\"data row10 col1\" >0</td>\n",
       "                        <td id=\"T_6c54dfec_0391_11eb_9a38_c36b322c401brow10_col2\" class=\"data row10 col2\" >0</td>\n",
       "                        <td id=\"T_6c54dfec_0391_11eb_9a38_c36b322c401brow10_col3\" class=\"data row10 col3\" >0</td>\n",
       "                        <td id=\"T_6c54dfec_0391_11eb_9a38_c36b322c401brow10_col4\" class=\"data row10 col4\" >0</td>\n",
       "                        <td id=\"T_6c54dfec_0391_11eb_9a38_c36b322c401brow10_col5\" class=\"data row10 col5\" >65</td>\n",
       "                        <td id=\"T_6c54dfec_0391_11eb_9a38_c36b322c401brow10_col6\" class=\"data row10 col6\" >246</td>\n",
       "                        <td id=\"T_6c54dfec_0391_11eb_9a38_c36b322c401brow10_col7\" class=\"data row10 col7\" >253</td>\n",
       "                        <td id=\"T_6c54dfec_0391_11eb_9a38_c36b322c401brow10_col8\" class=\"data row10 col8\" >253</td>\n",
       "                        <td id=\"T_6c54dfec_0391_11eb_9a38_c36b322c401brow10_col9\" class=\"data row10 col9\" >253</td>\n",
       "                        <td id=\"T_6c54dfec_0391_11eb_9a38_c36b322c401brow10_col10\" class=\"data row10 col10\" >175</td>\n",
       "                        <td id=\"T_6c54dfec_0391_11eb_9a38_c36b322c401brow10_col11\" class=\"data row10 col11\" >4</td>\n",
       "                        <td id=\"T_6c54dfec_0391_11eb_9a38_c36b322c401brow10_col12\" class=\"data row10 col12\" >0</td>\n",
       "                        <td id=\"T_6c54dfec_0391_11eb_9a38_c36b322c401brow10_col13\" class=\"data row10 col13\" >0</td>\n",
       "                        <td id=\"T_6c54dfec_0391_11eb_9a38_c36b322c401brow10_col14\" class=\"data row10 col14\" >0</td>\n",
       "            </tr>\n",
       "            <tr>\n",
       "                        <th id=\"T_6c54dfec_0391_11eb_9a38_c36b322c401blevel0_row11\" class=\"row_heading level0 row11\" >14</th>\n",
       "                        <td id=\"T_6c54dfec_0391_11eb_9a38_c36b322c401brow11_col0\" class=\"data row11 col0\" >0</td>\n",
       "                        <td id=\"T_6c54dfec_0391_11eb_9a38_c36b322c401brow11_col1\" class=\"data row11 col1\" >0</td>\n",
       "                        <td id=\"T_6c54dfec_0391_11eb_9a38_c36b322c401brow11_col2\" class=\"data row11 col2\" >0</td>\n",
       "                        <td id=\"T_6c54dfec_0391_11eb_9a38_c36b322c401brow11_col3\" class=\"data row11 col3\" >0</td>\n",
       "                        <td id=\"T_6c54dfec_0391_11eb_9a38_c36b322c401brow11_col4\" class=\"data row11 col4\" >0</td>\n",
       "                        <td id=\"T_6c54dfec_0391_11eb_9a38_c36b322c401brow11_col5\" class=\"data row11 col5\" >172</td>\n",
       "                        <td id=\"T_6c54dfec_0391_11eb_9a38_c36b322c401brow11_col6\" class=\"data row11 col6\" >253</td>\n",
       "                        <td id=\"T_6c54dfec_0391_11eb_9a38_c36b322c401brow11_col7\" class=\"data row11 col7\" >253</td>\n",
       "                        <td id=\"T_6c54dfec_0391_11eb_9a38_c36b322c401brow11_col8\" class=\"data row11 col8\" >253</td>\n",
       "                        <td id=\"T_6c54dfec_0391_11eb_9a38_c36b322c401brow11_col9\" class=\"data row11 col9\" >253</td>\n",
       "                        <td id=\"T_6c54dfec_0391_11eb_9a38_c36b322c401brow11_col10\" class=\"data row11 col10\" >70</td>\n",
       "                        <td id=\"T_6c54dfec_0391_11eb_9a38_c36b322c401brow11_col11\" class=\"data row11 col11\" >0</td>\n",
       "                        <td id=\"T_6c54dfec_0391_11eb_9a38_c36b322c401brow11_col12\" class=\"data row11 col12\" >0</td>\n",
       "                        <td id=\"T_6c54dfec_0391_11eb_9a38_c36b322c401brow11_col13\" class=\"data row11 col13\" >0</td>\n",
       "                        <td id=\"T_6c54dfec_0391_11eb_9a38_c36b322c401brow11_col14\" class=\"data row11 col14\" >0</td>\n",
       "            </tr>\n",
       "            <tr>\n",
       "                        <th id=\"T_6c54dfec_0391_11eb_9a38_c36b322c401blevel0_row12\" class=\"row_heading level0 row12\" >15</th>\n",
       "                        <td id=\"T_6c54dfec_0391_11eb_9a38_c36b322c401brow12_col0\" class=\"data row12 col0\" >0</td>\n",
       "                        <td id=\"T_6c54dfec_0391_11eb_9a38_c36b322c401brow12_col1\" class=\"data row12 col1\" >0</td>\n",
       "                        <td id=\"T_6c54dfec_0391_11eb_9a38_c36b322c401brow12_col2\" class=\"data row12 col2\" >0</td>\n",
       "                        <td id=\"T_6c54dfec_0391_11eb_9a38_c36b322c401brow12_col3\" class=\"data row12 col3\" >0</td>\n",
       "                        <td id=\"T_6c54dfec_0391_11eb_9a38_c36b322c401brow12_col4\" class=\"data row12 col4\" >0</td>\n",
       "                        <td id=\"T_6c54dfec_0391_11eb_9a38_c36b322c401brow12_col5\" class=\"data row12 col5\" >66</td>\n",
       "                        <td id=\"T_6c54dfec_0391_11eb_9a38_c36b322c401brow12_col6\" class=\"data row12 col6\" >253</td>\n",
       "                        <td id=\"T_6c54dfec_0391_11eb_9a38_c36b322c401brow12_col7\" class=\"data row12 col7\" >253</td>\n",
       "                        <td id=\"T_6c54dfec_0391_11eb_9a38_c36b322c401brow12_col8\" class=\"data row12 col8\" >253</td>\n",
       "                        <td id=\"T_6c54dfec_0391_11eb_9a38_c36b322c401brow12_col9\" class=\"data row12 col9\" >253</td>\n",
       "                        <td id=\"T_6c54dfec_0391_11eb_9a38_c36b322c401brow12_col10\" class=\"data row12 col10\" >238</td>\n",
       "                        <td id=\"T_6c54dfec_0391_11eb_9a38_c36b322c401brow12_col11\" class=\"data row12 col11\" >54</td>\n",
       "                        <td id=\"T_6c54dfec_0391_11eb_9a38_c36b322c401brow12_col12\" class=\"data row12 col12\" >0</td>\n",
       "                        <td id=\"T_6c54dfec_0391_11eb_9a38_c36b322c401brow12_col13\" class=\"data row12 col13\" >0</td>\n",
       "                        <td id=\"T_6c54dfec_0391_11eb_9a38_c36b322c401brow12_col14\" class=\"data row12 col14\" >0</td>\n",
       "            </tr>\n",
       "            <tr>\n",
       "                        <th id=\"T_6c54dfec_0391_11eb_9a38_c36b322c401blevel0_row13\" class=\"row_heading level0 row13\" >16</th>\n",
       "                        <td id=\"T_6c54dfec_0391_11eb_9a38_c36b322c401brow13_col0\" class=\"data row13 col0\" >0</td>\n",
       "                        <td id=\"T_6c54dfec_0391_11eb_9a38_c36b322c401brow13_col1\" class=\"data row13 col1\" >0</td>\n",
       "                        <td id=\"T_6c54dfec_0391_11eb_9a38_c36b322c401brow13_col2\" class=\"data row13 col2\" >0</td>\n",
       "                        <td id=\"T_6c54dfec_0391_11eb_9a38_c36b322c401brow13_col3\" class=\"data row13 col3\" >0</td>\n",
       "                        <td id=\"T_6c54dfec_0391_11eb_9a38_c36b322c401brow13_col4\" class=\"data row13 col4\" >0</td>\n",
       "                        <td id=\"T_6c54dfec_0391_11eb_9a38_c36b322c401brow13_col5\" class=\"data row13 col5\" >17</td>\n",
       "                        <td id=\"T_6c54dfec_0391_11eb_9a38_c36b322c401brow13_col6\" class=\"data row13 col6\" >65</td>\n",
       "                        <td id=\"T_6c54dfec_0391_11eb_9a38_c36b322c401brow13_col7\" class=\"data row13 col7\" >232</td>\n",
       "                        <td id=\"T_6c54dfec_0391_11eb_9a38_c36b322c401brow13_col8\" class=\"data row13 col8\" >253</td>\n",
       "                        <td id=\"T_6c54dfec_0391_11eb_9a38_c36b322c401brow13_col9\" class=\"data row13 col9\" >253</td>\n",
       "                        <td id=\"T_6c54dfec_0391_11eb_9a38_c36b322c401brow13_col10\" class=\"data row13 col10\" >253</td>\n",
       "                        <td id=\"T_6c54dfec_0391_11eb_9a38_c36b322c401brow13_col11\" class=\"data row13 col11\" >149</td>\n",
       "                        <td id=\"T_6c54dfec_0391_11eb_9a38_c36b322c401brow13_col12\" class=\"data row13 col12\" >5</td>\n",
       "                        <td id=\"T_6c54dfec_0391_11eb_9a38_c36b322c401brow13_col13\" class=\"data row13 col13\" >0</td>\n",
       "                        <td id=\"T_6c54dfec_0391_11eb_9a38_c36b322c401brow13_col14\" class=\"data row13 col14\" >0</td>\n",
       "            </tr>\n",
       "            <tr>\n",
       "                        <th id=\"T_6c54dfec_0391_11eb_9a38_c36b322c401blevel0_row14\" class=\"row_heading level0 row14\" >17</th>\n",
       "                        <td id=\"T_6c54dfec_0391_11eb_9a38_c36b322c401brow14_col0\" class=\"data row14 col0\" >0</td>\n",
       "                        <td id=\"T_6c54dfec_0391_11eb_9a38_c36b322c401brow14_col1\" class=\"data row14 col1\" >0</td>\n",
       "                        <td id=\"T_6c54dfec_0391_11eb_9a38_c36b322c401brow14_col2\" class=\"data row14 col2\" >0</td>\n",
       "                        <td id=\"T_6c54dfec_0391_11eb_9a38_c36b322c401brow14_col3\" class=\"data row14 col3\" >0</td>\n",
       "                        <td id=\"T_6c54dfec_0391_11eb_9a38_c36b322c401brow14_col4\" class=\"data row14 col4\" >0</td>\n",
       "                        <td id=\"T_6c54dfec_0391_11eb_9a38_c36b322c401brow14_col5\" class=\"data row14 col5\" >0</td>\n",
       "                        <td id=\"T_6c54dfec_0391_11eb_9a38_c36b322c401brow14_col6\" class=\"data row14 col6\" >0</td>\n",
       "                        <td id=\"T_6c54dfec_0391_11eb_9a38_c36b322c401brow14_col7\" class=\"data row14 col7\" >45</td>\n",
       "                        <td id=\"T_6c54dfec_0391_11eb_9a38_c36b322c401brow14_col8\" class=\"data row14 col8\" >141</td>\n",
       "                        <td id=\"T_6c54dfec_0391_11eb_9a38_c36b322c401brow14_col9\" class=\"data row14 col9\" >253</td>\n",
       "                        <td id=\"T_6c54dfec_0391_11eb_9a38_c36b322c401brow14_col10\" class=\"data row14 col10\" >253</td>\n",
       "                        <td id=\"T_6c54dfec_0391_11eb_9a38_c36b322c401brow14_col11\" class=\"data row14 col11\" >253</td>\n",
       "                        <td id=\"T_6c54dfec_0391_11eb_9a38_c36b322c401brow14_col12\" class=\"data row14 col12\" >123</td>\n",
       "                        <td id=\"T_6c54dfec_0391_11eb_9a38_c36b322c401brow14_col13\" class=\"data row14 col13\" >0</td>\n",
       "                        <td id=\"T_6c54dfec_0391_11eb_9a38_c36b322c401brow14_col14\" class=\"data row14 col14\" >0</td>\n",
       "            </tr>\n",
       "            <tr>\n",
       "                        <th id=\"T_6c54dfec_0391_11eb_9a38_c36b322c401blevel0_row15\" class=\"row_heading level0 row15\" >18</th>\n",
       "                        <td id=\"T_6c54dfec_0391_11eb_9a38_c36b322c401brow15_col0\" class=\"data row15 col0\" >0</td>\n",
       "                        <td id=\"T_6c54dfec_0391_11eb_9a38_c36b322c401brow15_col1\" class=\"data row15 col1\" >0</td>\n",
       "                        <td id=\"T_6c54dfec_0391_11eb_9a38_c36b322c401brow15_col2\" class=\"data row15 col2\" >0</td>\n",
       "                        <td id=\"T_6c54dfec_0391_11eb_9a38_c36b322c401brow15_col3\" class=\"data row15 col3\" >41</td>\n",
       "                        <td id=\"T_6c54dfec_0391_11eb_9a38_c36b322c401brow15_col4\" class=\"data row15 col4\" >205</td>\n",
       "                        <td id=\"T_6c54dfec_0391_11eb_9a38_c36b322c401brow15_col5\" class=\"data row15 col5\" >205</td>\n",
       "                        <td id=\"T_6c54dfec_0391_11eb_9a38_c36b322c401brow15_col6\" class=\"data row15 col6\" >205</td>\n",
       "                        <td id=\"T_6c54dfec_0391_11eb_9a38_c36b322c401brow15_col7\" class=\"data row15 col7\" >33</td>\n",
       "                        <td id=\"T_6c54dfec_0391_11eb_9a38_c36b322c401brow15_col8\" class=\"data row15 col8\" >2</td>\n",
       "                        <td id=\"T_6c54dfec_0391_11eb_9a38_c36b322c401brow15_col9\" class=\"data row15 col9\" >128</td>\n",
       "                        <td id=\"T_6c54dfec_0391_11eb_9a38_c36b322c401brow15_col10\" class=\"data row15 col10\" >253</td>\n",
       "                        <td id=\"T_6c54dfec_0391_11eb_9a38_c36b322c401brow15_col11\" class=\"data row15 col11\" >253</td>\n",
       "                        <td id=\"T_6c54dfec_0391_11eb_9a38_c36b322c401brow15_col12\" class=\"data row15 col12\" >245</td>\n",
       "                        <td id=\"T_6c54dfec_0391_11eb_9a38_c36b322c401brow15_col13\" class=\"data row15 col13\" >99</td>\n",
       "                        <td id=\"T_6c54dfec_0391_11eb_9a38_c36b322c401brow15_col14\" class=\"data row15 col14\" >0</td>\n",
       "            </tr>\n",
       "            <tr>\n",
       "                        <th id=\"T_6c54dfec_0391_11eb_9a38_c36b322c401blevel0_row16\" class=\"row_heading level0 row16\" >19</th>\n",
       "                        <td id=\"T_6c54dfec_0391_11eb_9a38_c36b322c401brow16_col0\" class=\"data row16 col0\" >0</td>\n",
       "                        <td id=\"T_6c54dfec_0391_11eb_9a38_c36b322c401brow16_col1\" class=\"data row16 col1\" >0</td>\n",
       "                        <td id=\"T_6c54dfec_0391_11eb_9a38_c36b322c401brow16_col2\" class=\"data row16 col2\" >0</td>\n",
       "                        <td id=\"T_6c54dfec_0391_11eb_9a38_c36b322c401brow16_col3\" class=\"data row16 col3\" >50</td>\n",
       "                        <td id=\"T_6c54dfec_0391_11eb_9a38_c36b322c401brow16_col4\" class=\"data row16 col4\" >253</td>\n",
       "                        <td id=\"T_6c54dfec_0391_11eb_9a38_c36b322c401brow16_col5\" class=\"data row16 col5\" >253</td>\n",
       "                        <td id=\"T_6c54dfec_0391_11eb_9a38_c36b322c401brow16_col6\" class=\"data row16 col6\" >253</td>\n",
       "                        <td id=\"T_6c54dfec_0391_11eb_9a38_c36b322c401brow16_col7\" class=\"data row16 col7\" >213</td>\n",
       "                        <td id=\"T_6c54dfec_0391_11eb_9a38_c36b322c401brow16_col8\" class=\"data row16 col8\" >131</td>\n",
       "                        <td id=\"T_6c54dfec_0391_11eb_9a38_c36b322c401brow16_col9\" class=\"data row16 col9\" >179</td>\n",
       "                        <td id=\"T_6c54dfec_0391_11eb_9a38_c36b322c401brow16_col10\" class=\"data row16 col10\" >253</td>\n",
       "                        <td id=\"T_6c54dfec_0391_11eb_9a38_c36b322c401brow16_col11\" class=\"data row16 col11\" >253</td>\n",
       "                        <td id=\"T_6c54dfec_0391_11eb_9a38_c36b322c401brow16_col12\" class=\"data row16 col12\" >231</td>\n",
       "                        <td id=\"T_6c54dfec_0391_11eb_9a38_c36b322c401brow16_col13\" class=\"data row16 col13\" >59</td>\n",
       "                        <td id=\"T_6c54dfec_0391_11eb_9a38_c36b322c401brow16_col14\" class=\"data row16 col14\" >0</td>\n",
       "            </tr>\n",
       "            <tr>\n",
       "                        <th id=\"T_6c54dfec_0391_11eb_9a38_c36b322c401blevel0_row17\" class=\"row_heading level0 row17\" >20</th>\n",
       "                        <td id=\"T_6c54dfec_0391_11eb_9a38_c36b322c401brow17_col0\" class=\"data row17 col0\" >0</td>\n",
       "                        <td id=\"T_6c54dfec_0391_11eb_9a38_c36b322c401brow17_col1\" class=\"data row17 col1\" >0</td>\n",
       "                        <td id=\"T_6c54dfec_0391_11eb_9a38_c36b322c401brow17_col2\" class=\"data row17 col2\" >0</td>\n",
       "                        <td id=\"T_6c54dfec_0391_11eb_9a38_c36b322c401brow17_col3\" class=\"data row17 col3\" >50</td>\n",
       "                        <td id=\"T_6c54dfec_0391_11eb_9a38_c36b322c401brow17_col4\" class=\"data row17 col4\" >253</td>\n",
       "                        <td id=\"T_6c54dfec_0391_11eb_9a38_c36b322c401brow17_col5\" class=\"data row17 col5\" >253</td>\n",
       "                        <td id=\"T_6c54dfec_0391_11eb_9a38_c36b322c401brow17_col6\" class=\"data row17 col6\" >253</td>\n",
       "                        <td id=\"T_6c54dfec_0391_11eb_9a38_c36b322c401brow17_col7\" class=\"data row17 col7\" >253</td>\n",
       "                        <td id=\"T_6c54dfec_0391_11eb_9a38_c36b322c401brow17_col8\" class=\"data row17 col8\" >253</td>\n",
       "                        <td id=\"T_6c54dfec_0391_11eb_9a38_c36b322c401brow17_col9\" class=\"data row17 col9\" >253</td>\n",
       "                        <td id=\"T_6c54dfec_0391_11eb_9a38_c36b322c401brow17_col10\" class=\"data row17 col10\" >253</td>\n",
       "                        <td id=\"T_6c54dfec_0391_11eb_9a38_c36b322c401brow17_col11\" class=\"data row17 col11\" >253</td>\n",
       "                        <td id=\"T_6c54dfec_0391_11eb_9a38_c36b322c401brow17_col12\" class=\"data row17 col12\" >212</td>\n",
       "                        <td id=\"T_6c54dfec_0391_11eb_9a38_c36b322c401brow17_col13\" class=\"data row17 col13\" >0</td>\n",
       "                        <td id=\"T_6c54dfec_0391_11eb_9a38_c36b322c401brow17_col14\" class=\"data row17 col14\" >0</td>\n",
       "            </tr>\n",
       "            <tr>\n",
       "                        <th id=\"T_6c54dfec_0391_11eb_9a38_c36b322c401blevel0_row18\" class=\"row_heading level0 row18\" >21</th>\n",
       "                        <td id=\"T_6c54dfec_0391_11eb_9a38_c36b322c401brow18_col0\" class=\"data row18 col0\" >0</td>\n",
       "                        <td id=\"T_6c54dfec_0391_11eb_9a38_c36b322c401brow18_col1\" class=\"data row18 col1\" >0</td>\n",
       "                        <td id=\"T_6c54dfec_0391_11eb_9a38_c36b322c401brow18_col2\" class=\"data row18 col2\" >0</td>\n",
       "                        <td id=\"T_6c54dfec_0391_11eb_9a38_c36b322c401brow18_col3\" class=\"data row18 col3\" >21</td>\n",
       "                        <td id=\"T_6c54dfec_0391_11eb_9a38_c36b322c401brow18_col4\" class=\"data row18 col4\" >187</td>\n",
       "                        <td id=\"T_6c54dfec_0391_11eb_9a38_c36b322c401brow18_col5\" class=\"data row18 col5\" >253</td>\n",
       "                        <td id=\"T_6c54dfec_0391_11eb_9a38_c36b322c401brow18_col6\" class=\"data row18 col6\" >253</td>\n",
       "                        <td id=\"T_6c54dfec_0391_11eb_9a38_c36b322c401brow18_col7\" class=\"data row18 col7\" >253</td>\n",
       "                        <td id=\"T_6c54dfec_0391_11eb_9a38_c36b322c401brow18_col8\" class=\"data row18 col8\" >253</td>\n",
       "                        <td id=\"T_6c54dfec_0391_11eb_9a38_c36b322c401brow18_col9\" class=\"data row18 col9\" >253</td>\n",
       "                        <td id=\"T_6c54dfec_0391_11eb_9a38_c36b322c401brow18_col10\" class=\"data row18 col10\" >253</td>\n",
       "                        <td id=\"T_6c54dfec_0391_11eb_9a38_c36b322c401brow18_col11\" class=\"data row18 col11\" >253</td>\n",
       "                        <td id=\"T_6c54dfec_0391_11eb_9a38_c36b322c401brow18_col12\" class=\"data row18 col12\" >212</td>\n",
       "                        <td id=\"T_6c54dfec_0391_11eb_9a38_c36b322c401brow18_col13\" class=\"data row18 col13\" >0</td>\n",
       "                        <td id=\"T_6c54dfec_0391_11eb_9a38_c36b322c401brow18_col14\" class=\"data row18 col14\" >0</td>\n",
       "            </tr>\n",
       "            <tr>\n",
       "                        <th id=\"T_6c54dfec_0391_11eb_9a38_c36b322c401blevel0_row19\" class=\"row_heading level0 row19\" >22</th>\n",
       "                        <td id=\"T_6c54dfec_0391_11eb_9a38_c36b322c401brow19_col0\" class=\"data row19 col0\" >0</td>\n",
       "                        <td id=\"T_6c54dfec_0391_11eb_9a38_c36b322c401brow19_col1\" class=\"data row19 col1\" >0</td>\n",
       "                        <td id=\"T_6c54dfec_0391_11eb_9a38_c36b322c401brow19_col2\" class=\"data row19 col2\" >0</td>\n",
       "                        <td id=\"T_6c54dfec_0391_11eb_9a38_c36b322c401brow19_col3\" class=\"data row19 col3\" >0</td>\n",
       "                        <td id=\"T_6c54dfec_0391_11eb_9a38_c36b322c401brow19_col4\" class=\"data row19 col4\" >9</td>\n",
       "                        <td id=\"T_6c54dfec_0391_11eb_9a38_c36b322c401brow19_col5\" class=\"data row19 col5\" >58</td>\n",
       "                        <td id=\"T_6c54dfec_0391_11eb_9a38_c36b322c401brow19_col6\" class=\"data row19 col6\" >179</td>\n",
       "                        <td id=\"T_6c54dfec_0391_11eb_9a38_c36b322c401brow19_col7\" class=\"data row19 col7\" >251</td>\n",
       "                        <td id=\"T_6c54dfec_0391_11eb_9a38_c36b322c401brow19_col8\" class=\"data row19 col8\" >253</td>\n",
       "                        <td id=\"T_6c54dfec_0391_11eb_9a38_c36b322c401brow19_col9\" class=\"data row19 col9\" >253</td>\n",
       "                        <td id=\"T_6c54dfec_0391_11eb_9a38_c36b322c401brow19_col10\" class=\"data row19 col10\" >253</td>\n",
       "                        <td id=\"T_6c54dfec_0391_11eb_9a38_c36b322c401brow19_col11\" class=\"data row19 col11\" >219</td>\n",
       "                        <td id=\"T_6c54dfec_0391_11eb_9a38_c36b322c401brow19_col12\" class=\"data row19 col12\" >44</td>\n",
       "                        <td id=\"T_6c54dfec_0391_11eb_9a38_c36b322c401brow19_col13\" class=\"data row19 col13\" >0</td>\n",
       "                        <td id=\"T_6c54dfec_0391_11eb_9a38_c36b322c401brow19_col14\" class=\"data row19 col14\" >0</td>\n",
       "            </tr>\n",
       "            <tr>\n",
       "                        <th id=\"T_6c54dfec_0391_11eb_9a38_c36b322c401blevel0_row20\" class=\"row_heading level0 row20\" >23</th>\n",
       "                        <td id=\"T_6c54dfec_0391_11eb_9a38_c36b322c401brow20_col0\" class=\"data row20 col0\" >0</td>\n",
       "                        <td id=\"T_6c54dfec_0391_11eb_9a38_c36b322c401brow20_col1\" class=\"data row20 col1\" >0</td>\n",
       "                        <td id=\"T_6c54dfec_0391_11eb_9a38_c36b322c401brow20_col2\" class=\"data row20 col2\" >0</td>\n",
       "                        <td id=\"T_6c54dfec_0391_11eb_9a38_c36b322c401brow20_col3\" class=\"data row20 col3\" >0</td>\n",
       "                        <td id=\"T_6c54dfec_0391_11eb_9a38_c36b322c401brow20_col4\" class=\"data row20 col4\" >0</td>\n",
       "                        <td id=\"T_6c54dfec_0391_11eb_9a38_c36b322c401brow20_col5\" class=\"data row20 col5\" >0</td>\n",
       "                        <td id=\"T_6c54dfec_0391_11eb_9a38_c36b322c401brow20_col6\" class=\"data row20 col6\" >0</td>\n",
       "                        <td id=\"T_6c54dfec_0391_11eb_9a38_c36b322c401brow20_col7\" class=\"data row20 col7\" >139</td>\n",
       "                        <td id=\"T_6c54dfec_0391_11eb_9a38_c36b322c401brow20_col8\" class=\"data row20 col8\" >253</td>\n",
       "                        <td id=\"T_6c54dfec_0391_11eb_9a38_c36b322c401brow20_col9\" class=\"data row20 col9\" >253</td>\n",
       "                        <td id=\"T_6c54dfec_0391_11eb_9a38_c36b322c401brow20_col10\" class=\"data row20 col10\" >130</td>\n",
       "                        <td id=\"T_6c54dfec_0391_11eb_9a38_c36b322c401brow20_col11\" class=\"data row20 col11\" >49</td>\n",
       "                        <td id=\"T_6c54dfec_0391_11eb_9a38_c36b322c401brow20_col12\" class=\"data row20 col12\" >0</td>\n",
       "                        <td id=\"T_6c54dfec_0391_11eb_9a38_c36b322c401brow20_col13\" class=\"data row20 col13\" >0</td>\n",
       "                        <td id=\"T_6c54dfec_0391_11eb_9a38_c36b322c401brow20_col14\" class=\"data row20 col14\" >0</td>\n",
       "            </tr>\n",
       "            <tr>\n",
       "                        <th id=\"T_6c54dfec_0391_11eb_9a38_c36b322c401blevel0_row21\" class=\"row_heading level0 row21\" >24</th>\n",
       "                        <td id=\"T_6c54dfec_0391_11eb_9a38_c36b322c401brow21_col0\" class=\"data row21 col0\" >0</td>\n",
       "                        <td id=\"T_6c54dfec_0391_11eb_9a38_c36b322c401brow21_col1\" class=\"data row21 col1\" >0</td>\n",
       "                        <td id=\"T_6c54dfec_0391_11eb_9a38_c36b322c401brow21_col2\" class=\"data row21 col2\" >0</td>\n",
       "                        <td id=\"T_6c54dfec_0391_11eb_9a38_c36b322c401brow21_col3\" class=\"data row21 col3\" >0</td>\n",
       "                        <td id=\"T_6c54dfec_0391_11eb_9a38_c36b322c401brow21_col4\" class=\"data row21 col4\" >0</td>\n",
       "                        <td id=\"T_6c54dfec_0391_11eb_9a38_c36b322c401brow21_col5\" class=\"data row21 col5\" >0</td>\n",
       "                        <td id=\"T_6c54dfec_0391_11eb_9a38_c36b322c401brow21_col6\" class=\"data row21 col6\" >0</td>\n",
       "                        <td id=\"T_6c54dfec_0391_11eb_9a38_c36b322c401brow21_col7\" class=\"data row21 col7\" >0</td>\n",
       "                        <td id=\"T_6c54dfec_0391_11eb_9a38_c36b322c401brow21_col8\" class=\"data row21 col8\" >0</td>\n",
       "                        <td id=\"T_6c54dfec_0391_11eb_9a38_c36b322c401brow21_col9\" class=\"data row21 col9\" >0</td>\n",
       "                        <td id=\"T_6c54dfec_0391_11eb_9a38_c36b322c401brow21_col10\" class=\"data row21 col10\" >0</td>\n",
       "                        <td id=\"T_6c54dfec_0391_11eb_9a38_c36b322c401brow21_col11\" class=\"data row21 col11\" >0</td>\n",
       "                        <td id=\"T_6c54dfec_0391_11eb_9a38_c36b322c401brow21_col12\" class=\"data row21 col12\" >0</td>\n",
       "                        <td id=\"T_6c54dfec_0391_11eb_9a38_c36b322c401brow21_col13\" class=\"data row21 col13\" >0</td>\n",
       "                        <td id=\"T_6c54dfec_0391_11eb_9a38_c36b322c401brow21_col14\" class=\"data row21 col14\" >0</td>\n",
       "            </tr>\n",
       "    </tbody></table>"
      ],
      "text/plain": [
       "<pandas.io.formats.style.Styler at 0x7f38fc180280>"
      ]
     },
     "execution_count": 7,
     "metadata": {},
     "output_type": "execute_result"
    }
   ],
   "source": [
    "pd.DataFrame(tensor(im3)).loc[3:24,6:20].style.set_properties(**{'font-size':'6pt'}).background_gradient('Greys')"
   ]
  },
  {
   "cell_type": "markdown",
   "metadata": {},
   "source": [
    "# Defining our Linear Equation\n",
    "\n",
    "We are looking to do xw + b = y.   It seems that a Neural network should use some super fancy equation in it's layers, but that's all it is. Basically the same equation everyone learns that defines a line (mx+b)"
   ]
  },
  {
   "cell_type": "markdown",
   "metadata": {},
   "source": [
    "### Setup\n",
    "\n",
    "We will need a wieght matrix with 1 weight per pixel, meaning this will be a 784 row by 1 column matrix.  In order to multiply this by our 784 pixels we need to frormat that in 1 row x 784 column matrix.  Then we can do matrix multiplication.  We are also going to add b, so let's initialize that as well.  Since we haven't solved the problem yet, we don't know what good values for w and b are so we will make them random to start with.\n",
    "\n",
    ">Note: When we checked the shape above, we saw our images were 28 x 28 pixels, which is 784 total pixels.\n"
   ]
  },
  {
   "cell_type": "code",
   "execution_count": 8,
   "metadata": {},
   "outputs": [],
   "source": [
    "def init_params(size, std=1.0): return (torch.randn(size)*std).requires_grad_()\n",
    "\n",
    "w = init_params((28*28,1))\n",
    "b = init_params(1)"
   ]
  },
  {
   "cell_type": "code",
   "execution_count": 12,
   "metadata": {},
   "outputs": [
    {
     "data": {
      "text/plain": [
       "tensor([2.8108], grad_fn=<SelectBackward>)"
      ]
     },
     "execution_count": 12,
     "metadata": {},
     "output_type": "execute_result"
    }
   ],
   "source": [
    "max(w)"
   ]
  },
  {
   "cell_type": "markdown",
   "metadata": {},
   "source": [
    "Now we just need x and y.  A 784x1 matrix times a 1x784 matrix.  We want all values to be between 0 and 1, so we divide by the max pixel value (255)"
   ]
  },
  {
   "cell_type": "code",
   "execution_count": 8,
   "metadata": {},
   "outputs": [
    {
     "data": {
      "text/plain": [
       "(tensor(0.), tensor(1.), tensor(0.), tensor(1.))"
      ]
     },
     "execution_count": 8,
     "metadata": {},
     "output_type": "execute_result"
    }
   ],
   "source": [
    "# open each image and convert them to a tensor\n",
    "threes_t = [tensor(Image.open(i)) for i in threes]\n",
    "sevens_t = [tensor(Image.open(i)) for i in sevens]\n",
    "\n",
    "# Get my list of tensors and \"stack\" them.  Also dividing by 255 so all values are between 0 and 1\n",
    "threes_s = torch.stack(threes_t).float()/255\n",
    "sevens_s = torch.stack(sevens_t).float()/255\n",
    "\n",
    "#Verify max and min pixel values\n",
    "torch.min(threes_s), torch.max(threes_s), torch.min(sevens_s), torch.max(sevens_s)"
   ]
  },
  {
   "cell_type": "markdown",
   "metadata": {},
   "source": [
    "Let's do a simple average of all our threes together and see what we get.  It's a nice sanity check to see that we did things ok.  We can see that after averaging, we pretty much get a three!"
   ]
  },
  {
   "cell_type": "code",
   "execution_count": 9,
   "metadata": {},
   "outputs": [
    {
     "data": {
      "text/plain": [
       "<matplotlib.axes._subplots.AxesSubplot at 0x7f9fdda2a410>"
      ]
     },
     "execution_count": 9,
     "metadata": {},
     "output_type": "execute_result"
    },
    {
     "data": {
      "image/png": "[encoded data removed]",
      "text/plain": [
       "<Figure size 72x72 with 1 Axes>"
      ]
     },
     "metadata": {
      "needs_background": "light"
     },
     "output_type": "display_data"
    }
   ],
   "source": [
    "show_image(threes_s.mean(0))"
   ]
  },
  {
   "cell_type": "markdown",
   "metadata": {},
   "source": [
    "Perfect, lets finish definining our x.  We want x to have both threes and sevens, but right now they are seperate.  We will use torch.cat to combine them, and .view to change the format of the matrix to the right format.  Y is being defined as a long matrix with 1 row per image (prediction) and 1 column."
   ]
  },
  {
   "cell_type": "code",
   "execution_count": 10,
   "metadata": {},
   "outputs": [
    {
     "data": {
      "text/plain": [
       "(torch.Size([784]), tensor([1]))"
      ]
     },
     "execution_count": 10,
     "metadata": {},
     "output_type": "execute_result"
    }
   ],
   "source": [
    "# combine our threes and sevens into 1 matrix.  Convert Rank 3 matrix to rank 2.\n",
    "x = torch.cat([threes_s, sevens_s]).view(-1, 28*28)\n",
    "\n",
    "# Set my y, or dependent variable matrix.  A three will be 1, and seven will be 0.  So we will be prediction 0 or 1.\n",
    "y = tensor([1]*len(threes) + [0]*len(sevens)).unsqueeze(1)\n",
    "\n",
    "# Combine by xs and ys into 1 dataset for convenience.\n",
    "dset = list(zip(x,y))\n",
    "x_0,y_0 = dset[0]\n",
    "x_0.shape,y_0"
   ]
  },
  {
   "cell_type": "markdown",
   "metadata": {},
   "source": [
    "Perfect.  We have exactly what we need and defined above.  A 784 x 1 matrix times a 1 x 784 matrix + a constanct = our prediction.  Let's take a look to verify things are the right shape, and if we actually multiply these things together we get 1 prediction per image."
   ]
  },
  {
   "cell_type": "code",
   "execution_count": 10,
   "metadata": {},
   "outputs": [
    {
     "data": {
      "text/plain": [
       "(torch.Size([784, 1]), torch.Size([784]), torch.Size([1]), torch.Size([1]))"
      ]
     },
     "execution_count": 10,
     "metadata": {},
     "output_type": "execute_result"
    }
   ],
   "source": [
    "w.shape,x_0.shape,b.shape,y_0.shape"
   ]
  },
  {
   "cell_type": "code",
   "execution_count": 11,
   "metadata": {},
   "outputs": [
    {
     "name": "stdout",
     "output_type": "stream",
     "text": [
      "torch.Size([709, 1])\n"
     ]
    },
    {
     "data": {
      "text/plain": [
       "tensor([[ 3.3164],\n",
       "        [ 5.2035],\n",
       "        [-3.7491],\n",
       "        [ 1.2665],\n",
       "        [ 2.2916],\n",
       "        [ 1.3741],\n",
       "        [-7.6092],\n",
       "        [ 1.3464],\n",
       "        [ 2.7644]], grad_fn=<SliceBackward>)"
      ]
     },
     "execution_count": 11,
     "metadata": {},
     "output_type": "execute_result"
    }
   ],
   "source": [
    "print((x@w+b).shape)\n",
    "(x@w+b)[1:10]"
   ]
  },
  {
   "cell_type": "markdown",
   "metadata": {},
   "source": [
    "Great, we have the right number of predictions.  Obviosly the predictions are no good at predictions 0 or 1.  After all, our weights and biases are all random.  Let's do something about that."
   ]
  },
  {
   "cell_type": "markdown",
   "metadata": {},
   "source": [
    "We will need to do all this on our validation set as well, so let's do that here."
   ]
  },
  {
   "cell_type": "code",
   "execution_count": 12,
   "metadata": {},
   "outputs": [],
   "source": [
    "#collapse-hide\n",
    "valid_3_tens = torch.stack([tensor(Image.open(o)) for o in (path/'valid'/'3').ls()])\n",
    "valid_3_tens = valid_3_tens.float()/255\n",
    "valid_7_tens = torch.stack([tensor(Image.open(o)) for o in (path/'valid'/'7').ls()])\n",
    "valid_7_tens = valid_7_tens.float()/255\n",
    "valid_3_tens.shape,valid_7_tens.shape\n",
    "valid_x = torch.cat([valid_3_tens, valid_7_tens]).view(-1, 28*28)\n",
    "valid_y = tensor([1]*len(valid_3_tens) + [0]*len(valid_7_tens)).unsqueeze(1)\n",
    "valid_dset = list(zip(valid_x,valid_y))"
   ]
  },
  {
   "cell_type": "markdown",
   "metadata": {},
   "source": [
    "# Loss Function\n",
    "\n",
    "We need to improve our weights and biases (w and b) and we do that using gradient descent.  I have a few posts on gradient descent, feel free to check those out if you want details on how it works.  Here we will use the built-in pytorch functionality.\n",
    "\n",
    "The first thing we need to use gradient descent is we need a loss function.  Let's use something simple, how far off we were.  If the correct answer was 1, and we predicted a 0.5 that would be a loss of 0.5.\n",
    "\n",
    "The one addition is that we will add something called a sigmoid.  All a sigmoid is doing is ensuring that all of our predictions land between 0 and 1.  We never want to predict anything outside of these ranges as those are our 2 categories."
   ]
  },
  {
   "cell_type": "code",
   "execution_count": 13,
   "metadata": {},
   "outputs": [],
   "source": [
    "def mnist_loss(predictions, targets):\n",
    "    \n",
    "    # make all prediction between 0 and 1\n",
    "    predictions = predictions.sigmoid()\n",
    "    \n",
    "    # Difference between predictions and target\n",
    "    return torch.where(targets==1, 1-predictions, predictions).mean()"
   ]
  },
  {
   "cell_type": "markdown",
   "metadata": {},
   "source": [
    "# Gradient Descent\n",
    "\n",
    "### Background and Setup\n",
    "+ predict\n",
    "+ calculate loss\n",
    "+ calculate gradient\n",
    "+ subtract from weights and bias\n",
    "\n",
    "Ok, now we have a function we need to optimize and a loss function to tell us our error.  We are ready for gradient descent.  Let's create a function to change our weights. \n",
    "\n",
    ">Note: If you want more of a background on what is going on here, please take a look at my series on Gradient Descent where I dive deeper on this.  We will be calculating a gradient - which are equivilant to the \"Path Value\""
   ]
  },
  {
   "cell_type": "code",
   "execution_count": 14,
   "metadata": {},
   "outputs": [],
   "source": [
    "# Here is the function to minimize\n",
    "def linear1(xb): return xb@weights + bias\n",
    "\n",
    "# Here is how we will initialize paramaters.  This is just giving me random numbers.\n",
    "def init_params(size, std=1.0): return (torch.randn(size)*std).requires_grad_()"
   ]
  },
  {
   "cell_type": "markdown",
   "metadata": {},
   "source": [
    "First, we will make sure our datasets are in a DataLoader.  This is convenience class that helps manage our data and get batches.."
   ]
  },
  {
   "cell_type": "code",
   "execution_count": 15,
   "metadata": {},
   "outputs": [],
   "source": [
    "dl = DataLoader(dset, batch_size=256, shuffle=True)\n",
    "valid_dl = DataLoader(valid_dset, batch_size=256)"
   ]
  },
  {
   "cell_type": "markdown",
   "metadata": {},
   "source": [
    "We are now going to get the first batch out.  We'll use a batch size of 256, but feel free to change that based on your memory.  You can see that we can just simply call first dl, and it creates our shuffled batch for us."
   ]
  },
  {
   "cell_type": "code",
   "execution_count": 16,
   "metadata": {},
   "outputs": [
    {
     "data": {
      "text/plain": [
       "(torch.Size([256, 784]), torch.Size([256, 1]))"
      ]
     },
     "execution_count": 16,
     "metadata": {},
     "output_type": "execute_result"
    }
   ],
   "source": [
    "xb,yb = first(dl)\n",
    "xb.shape,yb.shape"
   ]
  },
  {
   "cell_type": "markdown",
   "metadata": {},
   "source": [
    "Let's Initialize our paramaters we will need.  "
   ]
  },
  {
   "cell_type": "code",
   "execution_count": 17,
   "metadata": {},
   "outputs": [],
   "source": [
    "weights = init_params((28*28,1))\n",
    "bias = init_params(1)"
   ]
  },
  {
   "cell_type": "markdown",
   "metadata": {},
   "source": [
    "### Calculate the Gradient\n",
    "\n",
    "We now have our batch of x and y, and we have our weights and biases.  The next step is to make a prediction.  Since our batch size is 256, we see 256x1 tensor."
   ]
  },
  {
   "cell_type": "code",
   "execution_count": 18,
   "metadata": {},
   "outputs": [
    {
     "data": {
      "text/plain": [
       "(torch.Size([256, 1]), tensor([[-17.7688],\n",
       "         [ -3.9593],\n",
       "         [ -4.0014],\n",
       "         [  1.4874],\n",
       "         [  0.5148]], grad_fn=<SliceBackward>))"
      ]
     },
     "execution_count": 18,
     "metadata": {},
     "output_type": "execute_result"
    }
   ],
   "source": [
    "preds = linear1(xb)\n",
    "preds.shape, preds[:5]"
   ]
  },
  {
   "cell_type": "markdown",
   "metadata": {},
   "source": [
    "Now we calculate our loss to see how we did.  Probably not well considering all our weights at this point are random."
   ]
  },
  {
   "cell_type": "code",
   "execution_count": 19,
   "metadata": {},
   "outputs": [
    {
     "data": {
      "text/plain": [
       "tensor(0.5678, grad_fn=<MeanBackward0>)"
      ]
     },
     "execution_count": 19,
     "metadata": {},
     "output_type": "execute_result"
    }
   ],
   "source": [
    "loss = mnist_loss(preds, yb)\n",
    "loss"
   ]
  },
  {
   "cell_type": "markdown",
   "metadata": {},
   "source": [
    "Let's calculate our Gradients"
   ]
  },
  {
   "cell_type": "code",
   "execution_count": 20,
   "metadata": {},
   "outputs": [
    {
     "data": {
      "text/plain": [
       "(torch.Size([784, 1]), tensor(-0.0011), tensor([-0.0071]))"
      ]
     },
     "execution_count": 20,
     "metadata": {},
     "output_type": "execute_result"
    }
   ],
   "source": [
    "loss.backward()\n",
    "weights.grad.shape,weights.grad.mean(),bias.grad"
   ]
  },
  {
   "cell_type": "markdown",
   "metadata": {},
   "source": [
    "Since we are going to want to calculate gradients every since step, let's create a function that we can call that does these three steps above.  Let's put all that in a function.  From here on out, we will use this function.\n",
    "\n",
    ">Note:  It's always a good idea to periodically reviewing and trying to simplify re-usable code.  I reccomend doing following the above approach, make something that works - then simplify.  It often wastes a lot of time trying to write things in the most perfect way from the start."
   ]
  },
  {
   "cell_type": "code",
   "execution_count": 21,
   "metadata": {},
   "outputs": [],
   "source": [
    "def calc_grad(xb, yb, model):\n",
    "    preds = model(xb)\n",
    "    loss = mnist_loss(preds, yb)\n",
    "    loss.backward()"
   ]
  },
  {
   "cell_type": "code",
   "execution_count": 22,
   "metadata": {},
   "outputs": [
    {
     "data": {
      "text/plain": [
       "(tensor(-0.0022), tensor([-0.0142]))"
      ]
     },
     "execution_count": 22,
     "metadata": {},
     "output_type": "execute_result"
    }
   ],
   "source": [
    "calc_grad(xb, yb, linear1)\n",
    "weights.grad.mean(),bias.grad"
   ]
  },
  {
   "cell_type": "code",
   "execution_count": 23,
   "metadata": {},
   "outputs": [],
   "source": [
    "weights.grad.zero_()\n",
    "bias.grad.zero_();"
   ]
  },
  {
   "cell_type": "markdown",
   "metadata": {},
   "source": [
    "### Training the Model\n",
    "\n",
    "Now we are ready to create a function that trains for 1 epoch.\n",
    "\n",
    ">Note: Epoch is just a fancy way of saying 1 pass through all our data."
   ]
  },
  {
   "cell_type": "code",
   "execution_count": 24,
   "metadata": {},
   "outputs": [],
   "source": [
    "def train_epoch(model, lr, params):\n",
    "    for xb,yb in dl:\n",
    "        calc_grad(xb, yb, model)\n",
    "        for p in params:\n",
    "            p.data -= p.grad*lr\n",
    "            p.grad.zero_()"
   ]
  },
  {
   "cell_type": "markdown",
   "metadata": {},
   "source": [
    "Naturally, we want to be able to measure accuracy.  It's hard for us to gauge how well the model is doing from our loss function.  We will create an accuracy metric to look at accuracy for that batch.\n",
    "\n",
    "> Note: A loss function is designed to be good for gradient descent.  A Metric is designed to be good for human understanding.  This is why they are different sometimes."
   ]
  },
  {
   "cell_type": "code",
   "execution_count": 25,
   "metadata": {},
   "outputs": [],
   "source": [
    "def batch_accuracy(xb, yb):\n",
    "    preds = xb.sigmoid()\n",
    "    correct = (preds>0.5) == yb\n",
    "    return correct.float().mean()"
   ]
  },
  {
   "cell_type": "code",
   "execution_count": 26,
   "metadata": {},
   "outputs": [
    {
     "data": {
      "text/plain": [
       "tensor(0.4180)"
      ]
     },
     "execution_count": 26,
     "metadata": {},
     "output_type": "execute_result"
    }
   ],
   "source": [
    "batch_accuracy(linear1(xb), yb)"
   ]
  },
  {
   "cell_type": "markdown",
   "metadata": {},
   "source": [
    "Looking at accuracy of our batch is great, but we also want to look at our accuracy for the validation set.  This is our way to do that using the accuracy funcion we just defined."
   ]
  },
  {
   "cell_type": "code",
   "execution_count": 27,
   "metadata": {},
   "outputs": [],
   "source": [
    "def validate_epoch(model):\n",
    "    accs = [batch_accuracy(model(xb), yb) for xb,yb in valid_dl]\n",
    "    return round(torch.stack(accs).mean().item(), 4)"
   ]
  },
  {
   "cell_type": "code",
   "execution_count": 28,
   "metadata": {},
   "outputs": [
    {
     "data": {
      "text/plain": [
       "0.4138"
      ]
     },
     "execution_count": 28,
     "metadata": {},
     "output_type": "execute_result"
    }
   ],
   "source": [
    "validate_epoch(linear1)"
   ]
  },
  {
   "cell_type": "markdown",
   "metadata": {},
   "source": [
    "Awesome!  Let's throw this all in a loop and see what we get."
   ]
  },
  {
   "cell_type": "code",
   "execution_count": 29,
   "metadata": {},
   "outputs": [
    {
     "name": "stdout",
     "output_type": "stream",
     "text": [
      "0.5249 0.6097 0.7038 0.7628 0.8165 0.8439 0.8685 0.8839 0.8922 0.8984 0.9071 0.9097 0.9136 0.9162 0.9176 0.9202 0.9215 0.9267 0.9311 0.9319 "
     ]
    }
   ],
   "source": [
    "params = weights,bias\n",
    "lr = 1.\n",
    "\n",
    "for i in range(20):\n",
    "    train_epoch(linear1, lr, params)\n",
    "    print(validate_epoch(linear1), end=' ')"
   ]
  },
  {
   "cell_type": "markdown",
   "metadata": {},
   "source": [
    "### Linear Recap\n",
    "\n",
    "Lots of stuff, but let's recap really what we did:\n",
    "\n",
    "+ Make a prediction\n",
    "+ Measure how we did\n",
    "+ Change our weights so we do slightly better next time\n",
    "+ Print out accuracy metrics along the way so we can see how we are doing\n",
    "\n",
    "This is a huge start, but what we have is a linear model.  Now we need to add non-linearities so that we can have a true Neural Network."
   ]
  },
  {
   "cell_type": "markdown",
   "metadata": {},
   "source": [
    "# ReLu"
   ]
  },
  {
   "cell_type": "markdown",
   "metadata": {},
   "source": [
    "### What is it?\n",
    "\n",
    "First, a ReLu is our non-linearity in a neural network.  A neural network is just alternating linear and nonlinear layers.  We defined the Linear layer above, here we will talk about the non-linear ones.  So what exactly does the non-linear layer do?  It's actually much simpler than people like to believe, it's just a max.\n",
    "\n",
    "For example, I am going to apply a ReLu to a matrix.  \n",
    "\n",
    "$\\begin{bmatrix}-1&1\\\\-1&-1\\\\0&0\\\\0&1\\\\1&-1\\\\1&0\\\\-1&0\\\\-1&-1\\\\1&1\\end{bmatrix}$\n",
    "$=>$\n",
    "$\\begin{bmatrix}0&1\\\\0&0\\\\0&0\\\\0&1\\\\1&0\\\\1&0\\\\0&0\\\\0&0\\\\1&1\\end{bmatrix}$\n",
    "\n",
    "As you will see I just took max(x,0).  Another way of saying that is I replaced any negative values with 0.  That's all a ReLu is."
   ]
  },
  {
   "cell_type": "markdown",
   "metadata": {},
   "source": [
    "### In a Neural Network\n",
    "\n",
    "These ReLus go between our linear layers.  Here's what a simple Neural Net looks like."
   ]
  },
  {
   "cell_type": "code",
   "execution_count": 30,
   "metadata": {},
   "outputs": [],
   "source": [
    "# initialize random weights.  \n",
    "# The number 30 here can be adjusted for more a less model complexity.  Future posts will talk more about what that is.\n",
    "\n",
    "w1 = init_params((28*28,30))\n",
    "b1 = init_params(30)\n",
    "w2 = init_params((30,1))\n",
    "b2 = init_params(1)"
   ]
  },
  {
   "cell_type": "code",
   "execution_count": 31,
   "metadata": {},
   "outputs": [],
   "source": [
    "# Here's a simple Neural Network.  \n",
    "# This can have more layers by duplicating the patten seen below, this is just the simplest model.\n",
    "\n",
    "def simple_net(xb): \n",
    "    res = xb@w1 + b1 #Linear\n",
    "    res = res.max(tensor(0.0)) #ReLu\n",
    "    res = res@w2 + b2 #Linear\n",
    "    return res"
   ]
  },
  {
   "cell_type": "markdown",
   "metadata": {},
   "source": [
    "# Train the Full Neural Network"
   ]
  },
  {
   "cell_type": "markdown",
   "metadata": {},
   "source": [
    "So we have our new model with new weights.  It's more than just the linear model, so how do we use gradient descent?  We now have 4 weights (w1,w2,b1,b2).\n",
    "\n",
    "Turns our it's exactly what we already did.  Let's add the new paramaters to our paramsm, and change out the linear model with the simple_net we just defined.  We end up with a pretty decent accuracy!"
   ]
  },
  {
   "cell_type": "code",
   "execution_count": 11,
   "metadata": {},
   "outputs": [],
   "source": [
    "w1 = init_params((28*28,30))\n",
    "b1 = init_params(30)\n",
    "w2 = init_params((30,1))\n",
    "b2 = init_params(1)"
   ]
  },
  {
   "cell_type": "code",
   "execution_count": 33,
   "metadata": {},
   "outputs": [
    {
     "name": "stdout",
     "output_type": "stream",
     "text": [
      "0.6711 0.8028 0.8865 0.9198 0.9245 0.9225 0.9291 0.9223 0.9402 0.9433 0.9343 0.9433 0.9392 0.9392 0.9463 0.9431 0.9476 0.9489 0.9457 0.9528 "
     ]
    }
   ],
   "source": [
    "params = w1,b1,w2,b2\n",
    "lr = 1\n",
    "\n",
    "for i in range(20):\n",
    "    train_epoch(simple_net, lr, params)\n",
    "    print(validate_epoch(simple_net), end=' ')"
   ]
  },
  {
   "cell_type": "markdown",
   "metadata": {},
   "source": [
    "# Recap of Tensor Shapes\n",
    "\n",
    "Understanding the shapes of these tensors and how the network works is crucial.  Here's the network we built.  You can see how each layer can fit into the next layer."
   ]
  },
  {
   "cell_type": "code",
   "execution_count": 15,
   "metadata": {},
   "outputs": [
    {
     "data": {
      "text/plain": [
       "(torch.Size([709, 784]),\n",
       " torch.Size([784, 30]),\n",
       " torch.Size([30]),\n",
       " torch.Size([30, 1]),\n",
       " torch.Size([1]))"
      ]
     },
     "execution_count": 15,
     "metadata": {},
     "output_type": "execute_result"
    }
   ],
   "source": [
    "x.shape,w1.shape,b1.shape,w2.shape,b2.shape"
   ]
  },
  {
   "cell_type": "markdown",
   "metadata": {},
   "source": [
    "![](my_icons/simple_net.png)"
   ]
  },
  {
   "cell_type": "markdown",
   "metadata": {},
   "source": [
    "# What More?\n",
    "\n",
    "This is a Neural Network.  Now we can do tweaks to enhance performance.  I will talk about those in future posts, but here's a few concepts.\n",
    "\n",
    "+ Instead of a Linear Layer, A ReLu, then a linear layer - Can we add more layers to have a deeper net?\n",
    "+ What if we average some of the pixels in our image together before dong matrix multiplication (ie a convolutions)?\n",
    "+ Can we randomly ignore pixels to prevent overfitting (ie dropout)?\n",
    "\n",
    "There are many 'advanced' variations of Neural Networks, but the concepts are typically along the lines of above.  If you boil them down to what they are really doing - they are pretty simple concepts."
   ]
  }
 ],
 "metadata": {
  "kernelspec": {
   "display_name": "Python 3",
   "language": "python",
   "name": "python3"
  },
  "language_info": {
   "codemirror_mode": {
    "name": "ipython",
    "version": 3
   },
   "file_extension": ".py",
   "mimetype": "text/x-python",
   "name": "python",
   "nbconvert_exporter": "python",
   "pygments_lexer": "ipython3",
   "version": "3.8.5"
  }
 },
 "nbformat": 4,
 "nbformat_minor": 4
}
